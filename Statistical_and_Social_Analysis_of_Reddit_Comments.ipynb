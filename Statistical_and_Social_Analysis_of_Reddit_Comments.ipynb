{
  "cells": [
    {
      "cell_type": "markdown",
      "metadata": {
        "id": "view-in-github",
        "colab_type": "text"
      },
      "source": [
        "<a href=\"https://colab.research.google.com/github/mustafa-vu/dmpm-qb/blob/main/Statistical_and_Social_Analysis_of_Reddit_Comments.ipynb\" target=\"_parent\"><img src=\"https://colab.research.google.com/assets/colab-badge.svg\" alt=\"Open In Colab\"/></a>"
      ]
    },
    {
      "cell_type": "markdown",
      "metadata": {
        "id": "31j6EHUhriwM"
      },
      "source": [
        "# Statistical and Social Analysis of Reddit Comments"
      ]
    },
    {
      "cell_type": "markdown",
      "metadata": {
        "id": "CQSxxYG0riwO"
      },
      "source": [
        "###### Here we are trying to primarily fetch the Reddit comments data that is stored in Google Cloud Platform, Big Query with the help of this python script which makes use of SQL queries to query the data to produce the required data. \n"
      ]
    },
    {
      "cell_type": "code",
      "execution_count": 58,
      "metadata": {
        "colab": {
          "base_uri": "https://localhost:8080/"
        },
        "id": "I_zVc8PAriwO",
        "outputId": "5cef9c25-7a8a-4d84-ea2d-e3d7bba73cab"
      },
      "outputs": [
        {
          "output_type": "stream",
          "name": "stdout",
          "text": [
            "Row(('Die meisten würden sich wohl nicht trauen, weil dann das Karma echt schnell weg geht bei der politischen Grundhaltung hier in /r/de.\\n\\nWer das Positionspapier von Pegida (über den Punkt von christlich-jüdischem Abendland kann man gerne streiten) nicht akzeptiert, stellt sich gegen die Grundsätze unserer Demokratie. Dass es eine Protestbewegung gibt, die sich für die Durchsetzung bestehender Gesetze einsetzt, ist schon erstaunlich genug.\\n\\nEhemalige Schulkamaraden, die jetzt in Dresden studieren, habe ich mal über die Weihnachtsferien ausgefragt, was da so für Leute rumrennen. Und nach deren Einschätzung, sind das politisch desillusionierte Leute, die aber genau wissen, was in der Welt vor sich geht (natürlich nicht alle). Sie wissen einiges über die Weltpolitik der letzten 30-40 Jahre und haben eine gewisse Ahnung von Geopolitik, zumindest mehr als man in Deutschland erfährt, wenn man sich nur berieseln lässt.\\n\\nViele Rentner waren auch schon 89 auf der Straße und verspüren einen ähnlichen Geist wie damals. Der Unterschied zu damals ist, dass man anhand der Strukturen schon den Unrechtsstaat der DDR erkennen konnte, während das heutige System besser darin ist Freiheit vorzutäuschen. Denk- und Äußerungsverbote werden nicht mehr mit Haft bestraft, sondern mit Hinrichtung durch die Nazi/Antisemitenkeule etc.\\n\\nViele sind auch von den ehemaligen Bürgerrechtlern enttäuscht, die nun, da sie einen sicheren und gutdotierten Posten haben, plötzlich nicht mehr gegen das System sind, sondern wie die Parteibonzen damals als Profiteure die Demonstrierenden verteufeln und die Ungerechtigkeiten einfach wegdenken.\\n\\nIch persönlich finde die Bewegung gut, da sie zeigt, wie sehr sich die Politik vom gemeinen Volk entfernt hat, dass sich die Medien in ihren Hassabsonderungen geradezu unterbieten, was Niveau, Arbeitsethik und Einfältigkeit angeht. Die Kirche hetzt gegen die, denen sie eigentlich helfen will, die sozial benachteiligten und Arme. Dadurch konnte ich endlich aus dem Verein aussteigen und dem geiferndem Pastor zu Weihnachten ordentlich die Meinung geigen.\\n\\nDas Urkomische an dieser Bewegung ist, dass die ganzen Kritiker bis jetzt noch kein haltbares Argument gegen das Positionspapier hervorbringen konnten, aber erstmal herumblubbern, beleidigen und ad-personam-Attacken fahren. Ob das jetzt die Medien, Politiker oder Gegendemonstranten sind, ist egal, es sind die, die vom System profitieren oder von Mutti verblendet sind.', False, False, 't1_cnbxioa', 'Grolser', 'Mecklenburg-Vorpommern', 0, 1420179417, 't5_22i0', 't3_2r2omf', 't3_2r2omf', 14, 1425104512, 0, 0, 'cnbxioa', 'de', 14, None, 'MEVO'), {'body': 0, 'score_hidden': 1, 'archived': 2, 'name': 3, 'author': 4, 'author_flair_text': 5, 'downs': 6, 'created_utc': 7, 'subreddit_id': 8, 'link_id': 9, 'parent_id': 10, 'score': 11, 'retrieved_on': 12, 'controversiality': 13, 'gilded': 14, 'id': 15, 'subreddit': 16, 'ups': 17, 'distinguished': 18, 'author_flair_css_class': 19})\n",
            "\n",
            "Row(('Du meinst sicher Leute wie die Kanzlerin,den Bundespräsidenten,Toni Kroos,Rammstein etc. !?', False, False, 't1_cnxshgo', 'Adscho', 'Mecklenburg-Vorpommern', 0, 1421973569, 't5_22i0', 't3_2ta9ev', 't1_cnxaver', 1, 1424447246, 0, 0, 'cnxshgo', 'de', 1, None, 'MEVO'), {'body': 0, 'score_hidden': 1, 'archived': 2, 'name': 3, 'author': 4, 'author_flair_text': 5, 'downs': 6, 'created_utc': 7, 'subreddit_id': 8, 'link_id': 9, 'parent_id': 10, 'score': 11, 'retrieved_on': 12, 'controversiality': 13, 'gilded': 14, 'id': 15, 'subreddit': 16, 'ups': 17, 'distinguished': 18, 'author_flair_css_class': 19})\n",
            "\n",
            "Row(('Wie kommst du darauf, dass ich der Jüdischen Verteidigungsliga Klicks gebe? \\n\\nDu bist ganz schön naiv.\\n\\nEdit: die Playlists sind ja super. Die hier ist bestimmt auch total ausgewogen: https://www.youtube.com/watch?v=YtZohYcEmEo&amp;list=PL7D6597C2CB55337A\\n\\nGenauso wie der Jugendliche der diesen aberwitzigen Laden in Deutschland aufgemacht hat. Der war gar nicht Jude soweit ich mich erinnern kann. Hat die JDL den jetzt inzwischen offiziell akzeptiert oder macht er noch immer so als hätten sie? Immer super in Mode der Laden wenn PI wieder einmal zu viel Nazitraffic abbgekommen hat und so machen muss als wären sie etwas anderes.\\n\\nDas alles weisst du natürlich alles nicht. Du bis nur durch seriöse Quellen (Kommentar bei zeit.de LoL...)da hin gekommen und überhaupt hast du ja nichts mit Extremisten am Hut.', False, False, 't1_cnosyl9', 'MutZurWahrheit', 'Trollbinder', 0, 1421254607, 't5_22i0', 't3_2sey6z', 't1_cnosvth', 1, 1424880005, 0, 0, 'cnosyl9', 'de', 1, None, 'flag-de'), {'body': 0, 'score_hidden': 1, 'archived': 2, 'name': 3, 'author': 4, 'author_flair_text': 5, 'downs': 6, 'created_utc': 7, 'subreddit_id': 8, 'link_id': 9, 'parent_id': 10, 'score': 11, 'retrieved_on': 12, 'controversiality': 13, 'gilded': 14, 'id': 15, 'subreddit': 16, 'ups': 17, 'distinguished': 18, 'author_flair_css_class': 19})\n",
            "\n",
            "Row(('Ich verstehe, dass eine Opposition Sensationalismus und Populismus braucht, um sich gegenüber den Regierungsparteien einen Vorteil zu verschaffen. Ob das gut ist ist eine andere Frage, denn:\\n\\nAndererseits ist es genau dieser Umstand, der die Opposition vermehrt Kritik aussetzt. Objektiv gesehen ist die Oppositionsarbeit nun auch einfach nicht gut: Radikal destruktiv statt konstruktiv, hysterisch statt nüchtern. Die politische Diskussionskultur ist in Deutschland mMn nicht nur wegen postdemokratischen technokratischen Einflüssen (welche aber auch durchaus sehr gute Aspekte besitzen), sondern auch wegen der mangelhaften Oppositionsarbeit (APO &amp; PO) an einem Tiefpunkt angelangt.\\n\\nIch kann mir weiterhin auch sehr gut vorstellen, dass die gegenwärtige Oppositionsarbeit sehr, sehr viele Menschen verschreckt. Dadurch geht Unterstützung durch Menschen und innerhalb \"etablierten/Regierungsparteien\" (im Fall der Linken, durch SPD und Grüne) -und mindestens Symphatien- verloren. Die gegenseitige(!) Hetze ist einfach nur noch widerlich, wenngleich mir die Verachtung der Sozialisten von Sozialdemokraten um einiges fester verankert scheint, als die Ablehnung der Linken durch die Sozialdemokraten. Hat wahrscheinlich was mit linkem Dogmatismus zu tun. Kindergarten.\\n\\nNun - daher gehöre Ich mittlerweile zu o.g. Menge. Selbst vorher zahlreiche Sympathien und Schnittmengen zur Linken haben sich immer mehr abgebaut. Personen wie Wagenknecht, Lafontaine und Dehm sind einfach nur noch untragbar.', False, False, 't1_cntq9n4', 'ThunderstruckGER', 'Europa', 0, 1421665822, 't5_22i0', 't3_2sv6h1', 't1_cntpo6y', 1, 1424795337, 0, 0, 'cntq9n4', 'de', 1, None, 'EURO'), {'body': 0, 'score_hidden': 1, 'archived': 2, 'name': 3, 'author': 4, 'author_flair_text': 5, 'downs': 6, 'created_utc': 7, 'subreddit_id': 8, 'link_id': 9, 'parent_id': 10, 'score': 11, 'retrieved_on': 12, 'controversiality': 13, 'gilded': 14, 'id': 15, 'subreddit': 16, 'ups': 17, 'distinguished': 18, 'author_flair_css_class': 19})\n",
            "\n",
            "Row(('Was geht?', False, False, 't1_cne1ksu', 'krautcop', 'Hessen', 0, 1420372803, 't5_22i0', 't3_2rac5b', 't3_2rac5b', 1, 1425066645, 0, 0, 'cne1ksu', 'de', 1, None, 'HESW'), {'body': 0, 'score_hidden': 1, 'archived': 2, 'name': 3, 'author': 4, 'author_flair_text': 5, 'downs': 6, 'created_utc': 7, 'subreddit_id': 8, 'link_id': 9, 'parent_id': 10, 'score': 11, 'retrieved_on': 12, 'controversiality': 13, 'gilded': 14, 'id': 15, 'subreddit': 16, 'ups': 17, 'distinguished': 18, 'author_flair_css_class': 19})\n",
            "\n",
            "Row(('*\"...Tanzverbot, Tanzverbo-ho-hot, Tanzverbot...\"* ♫♪♩♫', False, False, 't1_cntwney', 'ThunderstruckGER', 'Europa', 0, 1421684749, 't5_22i0', 't3_2sxedz', 't3_2sxedz', 2, 1424792289, 0, 0, 'cntwney', 'de', 2, None, 'EURO'), {'body': 0, 'score_hidden': 1, 'archived': 2, 'name': 3, 'author': 4, 'author_flair_text': 5, 'downs': 6, 'created_utc': 7, 'subreddit_id': 8, 'link_id': 9, 'parent_id': 10, 'score': 11, 'retrieved_on': 12, 'controversiality': 13, 'gilded': 14, 'id': 15, 'subreddit': 16, 'ups': 17, 'distinguished': 18, 'author_flair_css_class': 19})\n",
            "\n",
            "Row(('http://besorgte-eltern.net/index.html\\n\\nReicht mir eigentlich schon auf deren Website Jürgen Elsässer und Youtube-Videos von der Anti-Zensur-Konferenz zu sehen.', False, False, 't1_co08a0r', 'ForeverAloneInBerlin', 'Berlin', 0, 1422194878, 't5_22i0', 't3_2tlxrz', 't3_2tlxrz', 14, 1424401265, 0, 0, 'co08a0r', 'de', 14, None, 'BERL'), {'body': 0, 'score_hidden': 1, 'archived': 2, 'name': 3, 'author': 4, 'author_flair_text': 5, 'downs': 6, 'created_utc': 7, 'subreddit_id': 8, 'link_id': 9, 'parent_id': 10, 'score': 11, 'retrieved_on': 12, 'controversiality': 13, 'gilded': 14, 'id': 15, 'subreddit': 16, 'ups': 17, 'distinguished': 18, 'author_flair_css_class': 19})\n",
            "\n",
            "Row((' ┬─┬ノ( º _ ºノ)', False, False, 't1_cnplvhk', 'Yourstopcock', 'Oder sogar ein Salamander.', 0, 1421308773, 't5_22i0', 't3_2sek0q', 't1_cnpltoe', 1, 1424866109, 0, 0, 'cnplvhk', 'de', 1, None, 'LGBT'), {'body': 0, 'score_hidden': 1, 'archived': 2, 'name': 3, 'author': 4, 'author_flair_text': 5, 'downs': 6, 'created_utc': 7, 'subreddit_id': 8, 'link_id': 9, 'parent_id': 10, 'score': 11, 'retrieved_on': 12, 'controversiality': 13, 'gilded': 14, 'id': 15, 'subreddit': 16, 'ups': 17, 'distinguished': 18, 'author_flair_css_class': 19})\n",
            "\n",
            "Row(('Interessant ist [diese Folie](http://i.imgur.com/re6YMnC.jpg). So ein deutlicher Unterschied in der Wahrnehmung zwischen Ost und West bestätigt Thesen, die Pegida speziell im ostdeutschen Kontext sehen.', False, False, 't1_cnrczf4', 'armyn1', 'Brandenburg', 0, 1421446809, 't5_22i0', 't3_2snbeb', 't3_2snbeb', 3, 1424835989, 0, 0, 'cnrczf4', 'de', 3, None, 'BRAN'), {'body': 0, 'score_hidden': 1, 'archived': 2, 'name': 3, 'author': 4, 'author_flair_text': 5, 'downs': 6, 'created_utc': 7, 'subreddit_id': 8, 'link_id': 9, 'parent_id': 10, 'score': 11, 'retrieved_on': 12, 'controversiality': 13, 'gilded': 14, 'id': 15, 'subreddit': 16, 'ups': 17, 'distinguished': 18, 'author_flair_css_class': 19})\n",
            "\n",
            "Row(('Diese \"Studie\" ist nicht wirklich das, was ich als wissenschaftlich bezeichnen würde', False, False, 't1_cnayep2', 'Aapsis', 'Ach hier kann ich was reinschreiben?', 0, 1420086133, 't5_22i0', 't3_2qybsa', 't3_2qybsa', 3, 1425121409, 0, 0, 'cnayep2', 'de', 3, None, 'FRNK'), {'body': 0, 'score_hidden': 1, 'archived': 2, 'name': 3, 'author': 4, 'author_flair_text': 5, 'downs': 6, 'created_utc': 7, 'subreddit_id': 8, 'link_id': 9, 'parent_id': 10, 'score': 11, 'retrieved_on': 12, 'controversiality': 13, 'gilded': 14, 'id': 15, 'subreddit': 16, 'ups': 17, 'distinguished': 18, 'author_flair_css_class': 19})\n",
            "\n"
          ]
        }
      ],
      "source": [
        "from google.cloud import bigquery\n",
        "from google.oauth2 import service_account\n",
        "\n",
        "cred = service_account.Credentials.from_service_account_file('project_key.json',\n",
        "                                                            scopes = [\"https://www.googleapis.com/auth/cloud-platform\"]\n",
        "                                                            )\n",
        "\n",
        "client = bigquery.Client(\n",
        "    credentials=cred,\n",
        "    project=cred.project_id,\n",
        ")\n",
        "\n",
        "query = \"\"\"\n",
        "SELECT * FROM `fh-bigquery.reddit_comments.2015_01` LIMIT 10\n",
        "\"\"\"\n",
        "\n",
        "query_job=client.query(query)\n",
        "data=query_job.result()\n",
        "\n",
        "for row in data:\n",
        "    print(row, end = '\\n\\n')"
      ]
    },
    {
      "cell_type": "markdown",
      "metadata": {
        "id": "_LRnsKQDriwP"
      },
      "source": [
        "    \n",
        "**Here this data shows majorly the comment body ( which is the comment posted by user), the Author name (the user who posted this comment ), timestamp of creation in UTC, subreddit ( which is like the domain or scope of a comment), score ( which is simply the number of upvotes minus the number of downvotes. If five users like the comment and three users don't it will have a score of 2).**\n"
      ]
    },
    {
      "cell_type": "markdown",
      "metadata": {
        "id": "C5pHyiZ8riwP"
      },
      "source": [
        "## Business Outcomes"
      ]
    },
    {
      "cell_type": "markdown",
      "metadata": {
        "id": "2-FydW_KriwP"
      },
      "source": [
        "### 1. Analyzing trends based on comment data from 2015 - 2019.\n"
      ]
    },
    {
      "cell_type": "markdown",
      "metadata": {
        "id": "Tp_y_NATriwQ"
      },
      "source": [
        "\n",
        "\n",
        "\n",
        "###### Here we can modify the above query to get the desired result that we will need for analysis with the help of regular expressions.\n",
        "\n",
        "    We have included major technical and trending Subreddits which will help us to refine our query in a way to give the data which will be helpful to analyze the trending topics or products.\n",
        "    \n",
        "    Also, we have designed the query in a way that it excludes all the major stopwords that may occur in the Reddit comments.\n",
        "\n",
        "    Instead of displaying all the data repeatedly, we are now storing this python script output in a CSV file which we can later access for further analysis. Here we are running this script on the dataset of a random month of a year as an example.\n",
        "\n"
      ]
    },
    {
      "cell_type": "code",
      "execution_count": 59,
      "metadata": {
        "id": "AFXJqDsTriwQ"
      },
      "outputs": [],
      "source": [
        "\n",
        "\n",
        "from google.cloud import bigquery\n",
        "from google.oauth2 import service_account\n",
        "\n",
        "import csv\n",
        "\n",
        "\n",
        "cred = service_account.Credentials.from_service_account_file('project_key.json',\n",
        "                                                            scopes = [\"https://www.googleapis.com/auth/cloud-platform\"]\n",
        "                                                            )\n",
        "\n",
        "client = bigquery.Client(\n",
        "    credentials=cred,\n",
        "    project=cred.project_id,\n",
        ")\n",
        "\n",
        "\n",
        "query = \"\"\"\n",
        "SELECT word, COUNT(*) c FROM (\n",
        "  SELECT REGEXP_EXTRACT_ALL(LOWER(body), r'[a-z][a-z][a-z]+[a-z]?') words\n",
        "  FROM `fh-bigquery.reddit_comments.2017_11`\n",
        "  WHERE score>10 AND subreddit IN ('technology', 'tech','realtech','Computing','Windows','Apple','Mac','Linux',\\\n",
        "  'Ubuntu','Chromium','WinTiles','windowsazure','Mobile','Android','ios','iphone','Blackberry','WindowsPhone',\\\n",
        "  'Windows','symbian','UbuntuPhone','meego','nokia','ipad','Surface','gaming','Games','pcgaming','Steam','SteamBox',\\\n",
        "  'lanparty','LowEndGaming','PatientGamers','xbox','xoxone','xbox360','xboxLive','playstation','PS4','Vita',\\\n",
        "  'VitaTV','PS3','PlayStationPlus','nintendo','wii','wiiu','3ds','nds','iosgaming','Gadgets','ipod','Zune',\\\n",
        "  'GoogleGlass','startups','bitcoin','BitcoinMarkets','CryptoMarkets','Kickstarter','webmarketing','seo','bigseo',\\\n",
        "  'dotcom','Information Assurance','techsupport','24hourssupport','Applehelp','linux4noobs','pcgamingtechsupport',\\\n",
        "  'asktechnology','techolitics','netsec','netneutrality','talesfromtechsupport','technologymeta','CSEducation',\\\n",
        "  'cscareerquestions','GameDealsMeta','computertechs','Sysadmin','Hardware','Hardwarenews','buildapc','networking',\\\n",
        "  'intel','nvidia','amd','datacenter','monitors','mechanicalkeyboards','MouseReview','TrackBalls','freewareindex',\\\n",
        "  'CAD','AutoCAD','programming','learnprogramming','redditdev','coding','compsci','Software','dailyprogrammer',\\\n",
        "  'dailyscripts','webdev','gamedev','webdev','web_design','userexperience','firefox','Chrome','internetexplorer',\\\n",
        "  'TechnologyPorn','battlestations','techsupportgore','softwaregore','techsupportmacgyver','ImaginaryTechnology',\\\n",
        "  'buildapcsales','suggestalaptop','gamedeals','gameoffers','AppHookup','SteamGameSwap','ShouldIbuythisgame',\\\n",
        "  'Futurology','RenewableEnergy','Engineering','Geek','airz23', 'python','javascript', 'java', 'csharp', 'cpp',\\\n",
        "  'php', 'rust', 'ruby', 'swift', 'sql', 'scala', 'matlab', 'kotlin', 'latex', 'dartlang', 'perl', 'androidapps',\\\n",
        "  'AndroidWear', 'buildapc', 'microsoft', 'oculus', 'virtualreality', 'AppleEnthusiasts', 'windowsinsiders',\\\n",
        "  'AppleMusic', 'macsetups', 'Geek', 'networking', 'VPN', 'vpnreviews', 'VPNTorrents', 'Netflix', 'NetfixviaVPN',\\\n",
        "  'Gadgets')\n",
        "), UNNEST(words) word\n",
        "WHERE word NOT IN (SELECT word FROM(\n",
        "  SELECT word, COUNT(*) c FROM (\n",
        "    SELECT REGEXP_EXTRACT_ALL(LOWER(body), r'[a-z][a-z][a-z]+[a-z]?') words\n",
        "    FROM `fh-bigquery.reddit_comments.2017_11`\n",
        "    WHERE score>10\n",
        "    \n",
        "  ), UNNEST(words) word\n",
        "  GROUP BY word\n",
        "  ORDER BY c DESC\n",
        "  LIMIT 300\n",
        "))\n",
        "GROUP BY word\n",
        "ORDER BY c DESC \n",
        "LIMIT 100\n",
        "\n",
        "\"\"\"\n",
        "\n",
        "query_job=client.query(query)\n",
        "data=query_job.result()\n",
        "\n",
        "#for row in data:\n",
        " #   print(row)\n",
        "    \n",
        "# Create the csv file\n",
        "with open('testdata.csv', 'w', newline='') as f_handle:\n",
        "    writer = csv.writer(f_handle)\n",
        "    # Add the header/column names\n",
        "    header = ['word', 'count']\n",
        "    writer.writerow(header)\n",
        "    # Iterate over `data`  and  write to the csv file\n",
        "    for row in data:\n",
        "        writer.writerow(row)"
      ]
    },
    {
      "cell_type": "markdown",
      "metadata": {
        "id": "WGIzBoMCriwQ"
      },
      "source": [
        "###### Similarly, we can store the output for dataset of all the months from year 2015 - 2019 and then combine all the files to make a final file of all the results “final_results.csv”.\n"
      ]
    },
    {
      "cell_type": "markdown",
      "metadata": {
        "id": "5YNXipaariwV"
      },
      "source": [
        "    A glimpse of how final_results.csv look like."
      ]
    },
    {
      "cell_type": "markdown",
      "metadata": {
        "id": "IlcwgbjJriwV"
      },
      "source": [
        "**Now to analyze the trends properly in this data that we have retrieved from our python script and SQL query, we need to visualize and represent it properly.**\n",
        "\n",
        "For this purpose, we are using **line plot**.\n",
        "    \n",
        "    Line plot is good at showing specific values of data, meaning that given one variable the other can easily be determined. They show trends in data clearly, meaning that they visibly show how one variable is affected by the other as it increases or decreases.\n"
      ]
    },
    {
      "cell_type": "code",
      "execution_count": 61,
      "metadata": {
        "colab": {
          "base_uri": "https://localhost:8080/",
          "height": 542
        },
        "id": "gV1eqt5QriwV",
        "outputId": "8a723140-6195-43bf-a0cd-5cf579102354"
      },
      "outputs": [
        {
          "output_type": "display_data",
          "data": {
            "text/html": [
              "<html>\n",
              "<head><meta charset=\"utf-8\" /></head>\n",
              "<body>\n",
              "    <div>            <script src=\"https://cdnjs.cloudflare.com/ajax/libs/mathjax/2.7.5/MathJax.js?config=TeX-AMS-MML_SVG\"></script><script type=\"text/javascript\">if (window.MathJax) {MathJax.Hub.Config({SVG: {font: \"STIX-Web\"}});}</script>                <script type=\"text/javascript\">window.PlotlyConfig = {MathJaxConfig: 'local'};</script>\n",
              "        <script src=\"https://cdn.plot.ly/plotly-2.8.3.min.js\"></script>                <div id=\"7f688e0e-6bb3-483e-b315-d9d78964d7f8\" class=\"plotly-graph-div\" style=\"height:525px; width:100%;\"></div>            <script type=\"text/javascript\">                                    window.PLOTLYENV=window.PLOTLYENV || {};                                    if (document.getElementById(\"7f688e0e-6bb3-483e-b315-d9d78964d7f8\")) {                    Plotly.newPlot(                        \"7f688e0e-6bb3-483e-b315-d9d78964d7f8\",                        [{\"hovertemplate\":\"word=%{x}<br>count=%{y}<extra></extra>\",\"legendgroup\":\"\",\"line\":{\"color\":\"#F8766D\",\"dash\":\"solid\"},\"marker\":{\"symbol\":\"circle\"},\"mode\":\"lines\",\"name\":\"\",\"orientation\":\"v\",\"showlegend\":false,\"x\":[\"phone\",\"google\",\"system\",\"company\",\"price\",\"hours\",\"played\",\"internet\",\"gaming\",\"net\",\"support\",\"content\",\"level\",\"app\",\"open\",\"loot\",\"single\",\"companies\",\"player\",\"experience\",\"power\",\"issue\",\"org\",\"code\",\"basically\",\"star\",\"android\",\"days\",\"bought\",\"release\",\"market\",\"worth\",\"screen\",\"neutrality\",\"store\",\"sense\",\"data\",\"apple\",\"wait\",\"gameplay\",\"buying\",\"switch\",\"based\",\"working\",\"version\",\"exactly\",\"mario\",\"set\",\"nintendo\",\"product\",\"especially\",\"completely\",\"super\",\"months\",\"comment\",\"came\",\"design\",\"works\",\"rather\",\"cost\",\"easy\",\"small\",\"huge\",\"example\",\"youtube\",\"wars\",\"haven\",\"removed\",\"side\",\"gambling\",\"boxes\",\"iphone\",\"fine\",\"original\",\"steam\",\"access\",\"online\",\"likely\",\"add\",\"actual\",\"business\",\"sell\",\"second\",\"deal\",\"series\",\"comes\",\"quite\",\"absolutely\",\"honestly\",\"software\",\"character\",\"amount\",\"course\",\"possible\",\"issues\",\"matter\",\"dlc\",\"half\",\"under\",\"cool\"],\"xaxis\":\"x\",\"y\":[6788,5571,5466,5136,5048,5009,4583,4378,4370,4353,4168,4065,3881,3868,3844,3806,3717,3693,3624,3573,3568,3532,3507,3459,3454,3422,3338,3330,3320,3273,3272,3267,3237,3234,3143,3132,3119,3103,3087,3084,3066,3065,3039,3035,3028,3010,2980,2948,2894,2865,2864,2860,2824,2793,2785,2785,2779,2769,2762,2755,2754,2754,2732,2725,2725,2705,2701,2698,2691,2686,2671,2657,2645,2636,2626,2610,2609,2575,2573,2573,2572,2564,2551,2527,2525,2499,2494,2491,2475,2470,2466,2465,2459,2454,2450,2445,2440,2433,2401,2400],\"yaxis\":\"y\",\"type\":\"scatter\"}],                        {\"template\":{\"data\":{\"barpolar\":[{\"marker\":{\"line\":{\"color\":\"rgb(237,237,237)\",\"width\":0.5},\"pattern\":{\"fillmode\":\"overlay\",\"size\":10,\"solidity\":0.2}},\"type\":\"barpolar\"}],\"bar\":[{\"error_x\":{\"color\":\"rgb(51,51,51)\"},\"error_y\":{\"color\":\"rgb(51,51,51)\"},\"marker\":{\"line\":{\"color\":\"rgb(237,237,237)\",\"width\":0.5},\"pattern\":{\"fillmode\":\"overlay\",\"size\":10,\"solidity\":0.2}},\"type\":\"bar\"}],\"carpet\":[{\"aaxis\":{\"endlinecolor\":\"rgb(51,51,51)\",\"gridcolor\":\"white\",\"linecolor\":\"white\",\"minorgridcolor\":\"white\",\"startlinecolor\":\"rgb(51,51,51)\"},\"baxis\":{\"endlinecolor\":\"rgb(51,51,51)\",\"gridcolor\":\"white\",\"linecolor\":\"white\",\"minorgridcolor\":\"white\",\"startlinecolor\":\"rgb(51,51,51)\"},\"type\":\"carpet\"}],\"choropleth\":[{\"colorbar\":{\"outlinewidth\":0,\"tickcolor\":\"rgb(237,237,237)\",\"ticklen\":6,\"ticks\":\"inside\"},\"type\":\"choropleth\"}],\"contourcarpet\":[{\"colorbar\":{\"outlinewidth\":0,\"tickcolor\":\"rgb(237,237,237)\",\"ticklen\":6,\"ticks\":\"inside\"},\"type\":\"contourcarpet\"}],\"contour\":[{\"colorbar\":{\"outlinewidth\":0,\"tickcolor\":\"rgb(237,237,237)\",\"ticklen\":6,\"ticks\":\"inside\"},\"colorscale\":[[0,\"rgb(20,44,66)\"],[1,\"rgb(90,179,244)\"]],\"type\":\"contour\"}],\"heatmapgl\":[{\"colorbar\":{\"outlinewidth\":0,\"tickcolor\":\"rgb(237,237,237)\",\"ticklen\":6,\"ticks\":\"inside\"},\"colorscale\":[[0,\"rgb(20,44,66)\"],[1,\"rgb(90,179,244)\"]],\"type\":\"heatmapgl\"}],\"heatmap\":[{\"colorbar\":{\"outlinewidth\":0,\"tickcolor\":\"rgb(237,237,237)\",\"ticklen\":6,\"ticks\":\"inside\"},\"colorscale\":[[0,\"rgb(20,44,66)\"],[1,\"rgb(90,179,244)\"]],\"type\":\"heatmap\"}],\"histogram2dcontour\":[{\"colorbar\":{\"outlinewidth\":0,\"tickcolor\":\"rgb(237,237,237)\",\"ticklen\":6,\"ticks\":\"inside\"},\"colorscale\":[[0,\"rgb(20,44,66)\"],[1,\"rgb(90,179,244)\"]],\"type\":\"histogram2dcontour\"}],\"histogram2d\":[{\"colorbar\":{\"outlinewidth\":0,\"tickcolor\":\"rgb(237,237,237)\",\"ticklen\":6,\"ticks\":\"inside\"},\"colorscale\":[[0,\"rgb(20,44,66)\"],[1,\"rgb(90,179,244)\"]],\"type\":\"histogram2d\"}],\"histogram\":[{\"marker\":{\"pattern\":{\"fillmode\":\"overlay\",\"size\":10,\"solidity\":0.2}},\"type\":\"histogram\"}],\"mesh3d\":[{\"colorbar\":{\"outlinewidth\":0,\"tickcolor\":\"rgb(237,237,237)\",\"ticklen\":6,\"ticks\":\"inside\"},\"type\":\"mesh3d\"}],\"parcoords\":[{\"line\":{\"colorbar\":{\"outlinewidth\":0,\"tickcolor\":\"rgb(237,237,237)\",\"ticklen\":6,\"ticks\":\"inside\"}},\"type\":\"parcoords\"}],\"pie\":[{\"automargin\":true,\"type\":\"pie\"}],\"scatter3d\":[{\"line\":{\"colorbar\":{\"outlinewidth\":0,\"tickcolor\":\"rgb(237,237,237)\",\"ticklen\":6,\"ticks\":\"inside\"}},\"marker\":{\"colorbar\":{\"outlinewidth\":0,\"tickcolor\":\"rgb(237,237,237)\",\"ticklen\":6,\"ticks\":\"inside\"}},\"type\":\"scatter3d\"}],\"scattercarpet\":[{\"marker\":{\"colorbar\":{\"outlinewidth\":0,\"tickcolor\":\"rgb(237,237,237)\",\"ticklen\":6,\"ticks\":\"inside\"}},\"type\":\"scattercarpet\"}],\"scattergeo\":[{\"marker\":{\"colorbar\":{\"outlinewidth\":0,\"tickcolor\":\"rgb(237,237,237)\",\"ticklen\":6,\"ticks\":\"inside\"}},\"type\":\"scattergeo\"}],\"scattergl\":[{\"marker\":{\"colorbar\":{\"outlinewidth\":0,\"tickcolor\":\"rgb(237,237,237)\",\"ticklen\":6,\"ticks\":\"inside\"}},\"type\":\"scattergl\"}],\"scattermapbox\":[{\"marker\":{\"colorbar\":{\"outlinewidth\":0,\"tickcolor\":\"rgb(237,237,237)\",\"ticklen\":6,\"ticks\":\"inside\"}},\"type\":\"scattermapbox\"}],\"scatterpolargl\":[{\"marker\":{\"colorbar\":{\"outlinewidth\":0,\"tickcolor\":\"rgb(237,237,237)\",\"ticklen\":6,\"ticks\":\"inside\"}},\"type\":\"scatterpolargl\"}],\"scatterpolar\":[{\"marker\":{\"colorbar\":{\"outlinewidth\":0,\"tickcolor\":\"rgb(237,237,237)\",\"ticklen\":6,\"ticks\":\"inside\"}},\"type\":\"scatterpolar\"}],\"scatter\":[{\"marker\":{\"colorbar\":{\"outlinewidth\":0,\"tickcolor\":\"rgb(237,237,237)\",\"ticklen\":6,\"ticks\":\"inside\"}},\"type\":\"scatter\"}],\"scatterternary\":[{\"marker\":{\"colorbar\":{\"outlinewidth\":0,\"tickcolor\":\"rgb(237,237,237)\",\"ticklen\":6,\"ticks\":\"inside\"}},\"type\":\"scatterternary\"}],\"surface\":[{\"colorbar\":{\"outlinewidth\":0,\"tickcolor\":\"rgb(237,237,237)\",\"ticklen\":6,\"ticks\":\"inside\"},\"colorscale\":[[0,\"rgb(20,44,66)\"],[1,\"rgb(90,179,244)\"]],\"type\":\"surface\"}],\"table\":[{\"cells\":{\"fill\":{\"color\":\"rgb(237,237,237)\"},\"line\":{\"color\":\"white\"}},\"header\":{\"fill\":{\"color\":\"rgb(217,217,217)\"},\"line\":{\"color\":\"white\"}},\"type\":\"table\"}]},\"layout\":{\"annotationdefaults\":{\"arrowhead\":0,\"arrowwidth\":1},\"autotypenumbers\":\"strict\",\"coloraxis\":{\"colorbar\":{\"outlinewidth\":0,\"tickcolor\":\"rgb(237,237,237)\",\"ticklen\":6,\"ticks\":\"inside\"}},\"colorscale\":{\"sequential\":[[0,\"rgb(20,44,66)\"],[1,\"rgb(90,179,244)\"]],\"sequentialminus\":[[0,\"rgb(20,44,66)\"],[1,\"rgb(90,179,244)\"]]},\"colorway\":[\"#F8766D\",\"#A3A500\",\"#00BF7D\",\"#00B0F6\",\"#E76BF3\"],\"font\":{\"color\":\"rgb(51,51,51)\"},\"geo\":{\"bgcolor\":\"white\",\"lakecolor\":\"white\",\"landcolor\":\"rgb(237,237,237)\",\"showlakes\":true,\"showland\":true,\"subunitcolor\":\"white\"},\"hoverlabel\":{\"align\":\"left\"},\"hovermode\":\"closest\",\"paper_bgcolor\":\"white\",\"plot_bgcolor\":\"rgb(237,237,237)\",\"polar\":{\"angularaxis\":{\"gridcolor\":\"white\",\"linecolor\":\"white\",\"showgrid\":true,\"tickcolor\":\"rgb(51,51,51)\",\"ticks\":\"outside\"},\"bgcolor\":\"rgb(237,237,237)\",\"radialaxis\":{\"gridcolor\":\"white\",\"linecolor\":\"white\",\"showgrid\":true,\"tickcolor\":\"rgb(51,51,51)\",\"ticks\":\"outside\"}},\"scene\":{\"xaxis\":{\"backgroundcolor\":\"rgb(237,237,237)\",\"gridcolor\":\"white\",\"gridwidth\":2,\"linecolor\":\"white\",\"showbackground\":true,\"showgrid\":true,\"tickcolor\":\"rgb(51,51,51)\",\"ticks\":\"outside\",\"zerolinecolor\":\"white\"},\"yaxis\":{\"backgroundcolor\":\"rgb(237,237,237)\",\"gridcolor\":\"white\",\"gridwidth\":2,\"linecolor\":\"white\",\"showbackground\":true,\"showgrid\":true,\"tickcolor\":\"rgb(51,51,51)\",\"ticks\":\"outside\",\"zerolinecolor\":\"white\"},\"zaxis\":{\"backgroundcolor\":\"rgb(237,237,237)\",\"gridcolor\":\"white\",\"gridwidth\":2,\"linecolor\":\"white\",\"showbackground\":true,\"showgrid\":true,\"tickcolor\":\"rgb(51,51,51)\",\"ticks\":\"outside\",\"zerolinecolor\":\"white\"}},\"shapedefaults\":{\"fillcolor\":\"black\",\"line\":{\"width\":0},\"opacity\":0.3},\"ternary\":{\"aaxis\":{\"gridcolor\":\"white\",\"linecolor\":\"white\",\"showgrid\":true,\"tickcolor\":\"rgb(51,51,51)\",\"ticks\":\"outside\"},\"baxis\":{\"gridcolor\":\"white\",\"linecolor\":\"white\",\"showgrid\":true,\"tickcolor\":\"rgb(51,51,51)\",\"ticks\":\"outside\"},\"bgcolor\":\"rgb(237,237,237)\",\"caxis\":{\"gridcolor\":\"white\",\"linecolor\":\"white\",\"showgrid\":true,\"tickcolor\":\"rgb(51,51,51)\",\"ticks\":\"outside\"}},\"xaxis\":{\"automargin\":true,\"gridcolor\":\"white\",\"linecolor\":\"white\",\"showgrid\":true,\"tickcolor\":\"rgb(51,51,51)\",\"ticks\":\"outside\",\"title\":{\"standoff\":15},\"zerolinecolor\":\"white\"},\"yaxis\":{\"automargin\":true,\"gridcolor\":\"white\",\"linecolor\":\"white\",\"showgrid\":true,\"tickcolor\":\"rgb(51,51,51)\",\"ticks\":\"outside\",\"title\":{\"standoff\":15},\"zerolinecolor\":\"white\"}}},\"xaxis\":{\"anchor\":\"y\",\"domain\":[0.0,1.0],\"title\":{\"text\":\"word\"}},\"yaxis\":{\"anchor\":\"x\",\"domain\":[0.0,1.0],\"title\":{\"text\":\"count\"}},\"legend\":{\"tracegroupgap\":0},\"title\":{\"text\":\"All major Trends on bigquery from 2015-2019\"}},                        {\"responsive\": true}                    ).then(function(){\n",
              "                            \n",
              "var gd = document.getElementById('7f688e0e-6bb3-483e-b315-d9d78964d7f8');\n",
              "var x = new MutationObserver(function (mutations, observer) {{\n",
              "        var display = window.getComputedStyle(gd).display;\n",
              "        if (!display || display === 'none') {{\n",
              "            console.log([gd, 'removed!']);\n",
              "            Plotly.purge(gd);\n",
              "            observer.disconnect();\n",
              "        }}\n",
              "}});\n",
              "\n",
              "// Listen for the removal of the full notebook cells\n",
              "var notebookContainer = gd.closest('#notebook-container');\n",
              "if (notebookContainer) {{\n",
              "    x.observe(notebookContainer, {childList: true});\n",
              "}}\n",
              "\n",
              "// Listen for the clearing of the current output cell\n",
              "var outputEl = gd.closest('.output');\n",
              "if (outputEl) {{\n",
              "    x.observe(outputEl, {childList: true});\n",
              "}}\n",
              "\n",
              "                        })                };                            </script>        </div>\n",
              "</body>\n",
              "</html>"
            ]
          },
          "metadata": {}
        }
      ],
      "source": [
        "import pandas as pd\n",
        "import plotly.express as px\n",
        "#df = pd.read_csv('final_results.csv')\n",
        "df = pd.read_csv('testdata.csv')\n",
        "\n",
        "fig = px.line(df, x = 'word', y = 'count', title='All major Trends on bigquery from 2015-2019', template = 'ggplot2')\n",
        "fig.show()"
      ]
    },
    {
      "cell_type": "markdown",
      "metadata": {
        "id": "9LOWitKgriwW"
      },
      "source": [
        "**Hence it shows clearly how the trend proceeds.**"
      ]
    },
    {
      "cell_type": "markdown",
      "metadata": {
        "id": "m17reuG1riwW"
      },
      "source": [
        "    "
      ]
    },
    {
      "cell_type": "markdown",
      "metadata": {
        "id": "1uHo3UPFriwW"
      },
      "source": [
        "### 2. Top trending features of a given product"
      ]
    },
    {
      "cell_type": "markdown",
      "metadata": {
        "id": "NlQtWC_VriwW"
      },
      "source": [
        "#### 2.1 : Now we have written a script that will analyze the data based on a particular product or topic (given as a keyword) and find top trending features of that product.\n",
        "\n",
        "    Here we are considering top 10 features and taken product ( keyword ) as oneplus to analyze its trends.\n",
        " "
      ]
    },
    {
      "cell_type": "code",
      "execution_count": 128,
      "metadata": {
        "id": "_TKdaupmriwW"
      },
      "outputs": [],
      "source": [
        "\n",
        "query = \"\"\"\n",
        "SELECT word, COUNT(*) c FROM (\n",
        "  SELECT REGEXP_EXTRACT_ALL(LOWER(body), r'[a-z][a-z][a-z]+[a-z]?') words\n",
        "  FROM `fh-bigquery.reddit_comments.2017_11`\n",
        "  WHERE score>10 AND subreddit='oneplus'\n",
        "), UNNEST(words) word\n",
        "WHERE word NOT IN (SELECT word FROM(\n",
        "  SELECT word, COUNT(*) c FROM (\n",
        "    SELECT REGEXP_EXTRACT_ALL(LOWER(body), r'[a-z][a-z][a-z]+[a-z]?') words\n",
        "    FROM `fh-bigquery.reddit_comments.2017_11`\n",
        "    WHERE score>10 AND subreddit NOT IN ('politics', 'funny')\n",
        "    \n",
        "  ), UNNEST(words) word\n",
        "  GROUP BY word\n",
        "  ORDER BY c DESC\n",
        "  LIMIT 300\n",
        "))\n",
        "GROUP BY word\n",
        "ORDER BY c DESC \n",
        "LIMIT 100\n",
        "\n",
        "\n",
        "\"\"\"\n",
        "\n",
        "query_job=client.query(query)\n",
        "data=query_job.result()\n",
        "\n",
        "# Create the csv file\n",
        "with open('oneplus.csv', 'w', newline='') as f_handle:\n",
        "    writer = csv.writer(f_handle)\n",
        "    # Add the header/column names\n",
        "    header = ['word', 'c']\n",
        "    writer.writerow(header)\n",
        "    # Iterate over `data`  and  write to the csv file\n",
        "    for ro in data:\n",
        "        writer.writerow(ro)"
      ]
    },
    {
      "cell_type": "code",
      "execution_count": 129,
      "metadata": {
        "colab": {
          "base_uri": "https://localhost:8080/",
          "height": 542
        },
        "id": "SSF0Du1LriwW",
        "outputId": "f7750cd0-278a-4049-afd3-38990afaba3d"
      },
      "outputs": [
        {
          "output_type": "display_data",
          "data": {
            "text/html": [
              "<html>\n",
              "<head><meta charset=\"utf-8\" /></head>\n",
              "<body>\n",
              "    <div>            <script src=\"https://cdnjs.cloudflare.com/ajax/libs/mathjax/2.7.5/MathJax.js?config=TeX-AMS-MML_SVG\"></script><script type=\"text/javascript\">if (window.MathJax) {MathJax.Hub.Config({SVG: {font: \"STIX-Web\"}});}</script>                <script type=\"text/javascript\">window.PlotlyConfig = {MathJaxConfig: 'local'};</script>\n",
              "        <script src=\"https://cdn.plot.ly/plotly-2.8.3.min.js\"></script>                <div id=\"4c417fb5-dae3-4411-b80d-c3e4a2c87ab5\" class=\"plotly-graph-div\" style=\"height:525px; width:100%;\"></div>            <script type=\"text/javascript\">                                    window.PLOTLYENV=window.PLOTLYENV || {};                                    if (document.getElementById(\"4c417fb5-dae3-4411-b80d-c3e4a2c87ab5\")) {                    Plotly.newPlot(                        \"4c417fb5-dae3-4411-b80d-c3e4a2c87ab5\",                        [{\"alignmentgroup\":\"True\",\"hovertemplate\":\"word=%{x}<br>c=%{y}<extra></extra>\",\"legendgroup\":\"\",\"marker\":{\"color\":\"#636efa\",\"pattern\":{\"shape\":\"\"}},\"name\":\"\",\"offsetgroup\":\"\",\"orientation\":\"v\",\"showlegend\":false,\"textposition\":\"auto\",\"x\":[\"oneplus\",\"phone\",\"camera\",\"screen\",\"android\",\"phones\",\"battery\",\"treble\",\"oreo\",\"price\",\"update\",\"charging\",\"device\",\"iphone\",\"software\",\"google\",\"dash\",\"support\",\"updates\",\"stock\",\"charge\",\"pixel\",\"devices\",\"samsung\",\"quality\",\"mode\",\"app\",\"jack\",\"apple\",\"wait\",\"slider\",\"headphone\",\"feature\",\"months\",\"display\",\"hal\",\"jpg\",\"fast\",\"apps\",\"light\",\"hardware\",\"plus\",\"upgrade\",\"low\",\"photos\",\"settings\",\"design\",\"issues\",\"experience\",\"wireless\",\"released\",\"oxygenos\",\"security\",\"community\",\"release\",\"soon\",\"issue\",\"fine\",\"however\",\"roms\",\"nougat\",\"custom\",\"features\",\"unlock\",\"personally\",\"usb\",\"oppo\",\"difference\",\"please\",\"sensor\",\"face\",\"nexus\",\"rom\",\"works\",\"coming\",\"fingerprint\",\"cable\",\"future\",\"user\",\"thanks\",\"major\",\"comes\",\"oos\",\"beta\",\"opo\",\"flagship\",\"quick\",\"access\",\"quite\",\"oxygen\",\"build\",\"second\",\"basically\",\"system\",\"working\",\"lens\",\"selling\",\"model\",\"updated\",\"black\"],\"xaxis\":\"x\",\"y\":[431,412,262,151,149,128,125,102,98,95,84,80,77,73,72,68,64,63,62,60,60,58,55,54,54,53,52,51,48,46,45,45,42,42,42,41,41,41,40,39,38,38,37,37,36,35,35,35,35,35,34,34,34,33,32,32,32,31,31,30,30,30,29,29,29,28,28,28,28,28,28,28,28,27,27,27,27,26,26,26,26,25,25,25,25,25,25,25,24,24,24,24,24,24,24,23,23,23,23,23],\"yaxis\":\"y\",\"type\":\"bar\"}],                        {\"template\":{\"data\":{\"barpolar\":[{\"marker\":{\"line\":{\"color\":\"white\",\"width\":0.5},\"pattern\":{\"fillmode\":\"overlay\",\"size\":10,\"solidity\":0.2}},\"type\":\"barpolar\"}],\"bar\":[{\"error_x\":{\"color\":\"#2a3f5f\"},\"error_y\":{\"color\":\"#2a3f5f\"},\"marker\":{\"line\":{\"color\":\"white\",\"width\":0.5},\"pattern\":{\"fillmode\":\"overlay\",\"size\":10,\"solidity\":0.2}},\"type\":\"bar\"}],\"carpet\":[{\"aaxis\":{\"endlinecolor\":\"#2a3f5f\",\"gridcolor\":\"#C8D4E3\",\"linecolor\":\"#C8D4E3\",\"minorgridcolor\":\"#C8D4E3\",\"startlinecolor\":\"#2a3f5f\"},\"baxis\":{\"endlinecolor\":\"#2a3f5f\",\"gridcolor\":\"#C8D4E3\",\"linecolor\":\"#C8D4E3\",\"minorgridcolor\":\"#C8D4E3\",\"startlinecolor\":\"#2a3f5f\"},\"type\":\"carpet\"}],\"choropleth\":[{\"colorbar\":{\"outlinewidth\":0,\"ticks\":\"\"},\"type\":\"choropleth\"}],\"contourcarpet\":[{\"colorbar\":{\"outlinewidth\":0,\"ticks\":\"\"},\"type\":\"contourcarpet\"}],\"contour\":[{\"colorbar\":{\"outlinewidth\":0,\"ticks\":\"\"},\"colorscale\":[[0.0,\"#0d0887\"],[0.1111111111111111,\"#46039f\"],[0.2222222222222222,\"#7201a8\"],[0.3333333333333333,\"#9c179e\"],[0.4444444444444444,\"#bd3786\"],[0.5555555555555556,\"#d8576b\"],[0.6666666666666666,\"#ed7953\"],[0.7777777777777778,\"#fb9f3a\"],[0.8888888888888888,\"#fdca26\"],[1.0,\"#f0f921\"]],\"type\":\"contour\"}],\"heatmapgl\":[{\"colorbar\":{\"outlinewidth\":0,\"ticks\":\"\"},\"colorscale\":[[0.0,\"#0d0887\"],[0.1111111111111111,\"#46039f\"],[0.2222222222222222,\"#7201a8\"],[0.3333333333333333,\"#9c179e\"],[0.4444444444444444,\"#bd3786\"],[0.5555555555555556,\"#d8576b\"],[0.6666666666666666,\"#ed7953\"],[0.7777777777777778,\"#fb9f3a\"],[0.8888888888888888,\"#fdca26\"],[1.0,\"#f0f921\"]],\"type\":\"heatmapgl\"}],\"heatmap\":[{\"colorbar\":{\"outlinewidth\":0,\"ticks\":\"\"},\"colorscale\":[[0.0,\"#0d0887\"],[0.1111111111111111,\"#46039f\"],[0.2222222222222222,\"#7201a8\"],[0.3333333333333333,\"#9c179e\"],[0.4444444444444444,\"#bd3786\"],[0.5555555555555556,\"#d8576b\"],[0.6666666666666666,\"#ed7953\"],[0.7777777777777778,\"#fb9f3a\"],[0.8888888888888888,\"#fdca26\"],[1.0,\"#f0f921\"]],\"type\":\"heatmap\"}],\"histogram2dcontour\":[{\"colorbar\":{\"outlinewidth\":0,\"ticks\":\"\"},\"colorscale\":[[0.0,\"#0d0887\"],[0.1111111111111111,\"#46039f\"],[0.2222222222222222,\"#7201a8\"],[0.3333333333333333,\"#9c179e\"],[0.4444444444444444,\"#bd3786\"],[0.5555555555555556,\"#d8576b\"],[0.6666666666666666,\"#ed7953\"],[0.7777777777777778,\"#fb9f3a\"],[0.8888888888888888,\"#fdca26\"],[1.0,\"#f0f921\"]],\"type\":\"histogram2dcontour\"}],\"histogram2d\":[{\"colorbar\":{\"outlinewidth\":0,\"ticks\":\"\"},\"colorscale\":[[0.0,\"#0d0887\"],[0.1111111111111111,\"#46039f\"],[0.2222222222222222,\"#7201a8\"],[0.3333333333333333,\"#9c179e\"],[0.4444444444444444,\"#bd3786\"],[0.5555555555555556,\"#d8576b\"],[0.6666666666666666,\"#ed7953\"],[0.7777777777777778,\"#fb9f3a\"],[0.8888888888888888,\"#fdca26\"],[1.0,\"#f0f921\"]],\"type\":\"histogram2d\"}],\"histogram\":[{\"marker\":{\"pattern\":{\"fillmode\":\"overlay\",\"size\":10,\"solidity\":0.2}},\"type\":\"histogram\"}],\"mesh3d\":[{\"colorbar\":{\"outlinewidth\":0,\"ticks\":\"\"},\"type\":\"mesh3d\"}],\"parcoords\":[{\"line\":{\"colorbar\":{\"outlinewidth\":0,\"ticks\":\"\"}},\"type\":\"parcoords\"}],\"pie\":[{\"automargin\":true,\"type\":\"pie\"}],\"scatter3d\":[{\"line\":{\"colorbar\":{\"outlinewidth\":0,\"ticks\":\"\"}},\"marker\":{\"colorbar\":{\"outlinewidth\":0,\"ticks\":\"\"}},\"type\":\"scatter3d\"}],\"scattercarpet\":[{\"marker\":{\"colorbar\":{\"outlinewidth\":0,\"ticks\":\"\"}},\"type\":\"scattercarpet\"}],\"scattergeo\":[{\"marker\":{\"colorbar\":{\"outlinewidth\":0,\"ticks\":\"\"}},\"type\":\"scattergeo\"}],\"scattergl\":[{\"marker\":{\"colorbar\":{\"outlinewidth\":0,\"ticks\":\"\"}},\"type\":\"scattergl\"}],\"scattermapbox\":[{\"marker\":{\"colorbar\":{\"outlinewidth\":0,\"ticks\":\"\"}},\"type\":\"scattermapbox\"}],\"scatterpolargl\":[{\"marker\":{\"colorbar\":{\"outlinewidth\":0,\"ticks\":\"\"}},\"type\":\"scatterpolargl\"}],\"scatterpolar\":[{\"marker\":{\"colorbar\":{\"outlinewidth\":0,\"ticks\":\"\"}},\"type\":\"scatterpolar\"}],\"scatter\":[{\"marker\":{\"colorbar\":{\"outlinewidth\":0,\"ticks\":\"\"}},\"type\":\"scatter\"}],\"scatterternary\":[{\"marker\":{\"colorbar\":{\"outlinewidth\":0,\"ticks\":\"\"}},\"type\":\"scatterternary\"}],\"surface\":[{\"colorbar\":{\"outlinewidth\":0,\"ticks\":\"\"},\"colorscale\":[[0.0,\"#0d0887\"],[0.1111111111111111,\"#46039f\"],[0.2222222222222222,\"#7201a8\"],[0.3333333333333333,\"#9c179e\"],[0.4444444444444444,\"#bd3786\"],[0.5555555555555556,\"#d8576b\"],[0.6666666666666666,\"#ed7953\"],[0.7777777777777778,\"#fb9f3a\"],[0.8888888888888888,\"#fdca26\"],[1.0,\"#f0f921\"]],\"type\":\"surface\"}],\"table\":[{\"cells\":{\"fill\":{\"color\":\"#EBF0F8\"},\"line\":{\"color\":\"white\"}},\"header\":{\"fill\":{\"color\":\"#C8D4E3\"},\"line\":{\"color\":\"white\"}},\"type\":\"table\"}]},\"layout\":{\"annotationdefaults\":{\"arrowcolor\":\"#2a3f5f\",\"arrowhead\":0,\"arrowwidth\":1},\"autotypenumbers\":\"strict\",\"coloraxis\":{\"colorbar\":{\"outlinewidth\":0,\"ticks\":\"\"}},\"colorscale\":{\"diverging\":[[0,\"#8e0152\"],[0.1,\"#c51b7d\"],[0.2,\"#de77ae\"],[0.3,\"#f1b6da\"],[0.4,\"#fde0ef\"],[0.5,\"#f7f7f7\"],[0.6,\"#e6f5d0\"],[0.7,\"#b8e186\"],[0.8,\"#7fbc41\"],[0.9,\"#4d9221\"],[1,\"#276419\"]],\"sequential\":[[0.0,\"#0d0887\"],[0.1111111111111111,\"#46039f\"],[0.2222222222222222,\"#7201a8\"],[0.3333333333333333,\"#9c179e\"],[0.4444444444444444,\"#bd3786\"],[0.5555555555555556,\"#d8576b\"],[0.6666666666666666,\"#ed7953\"],[0.7777777777777778,\"#fb9f3a\"],[0.8888888888888888,\"#fdca26\"],[1.0,\"#f0f921\"]],\"sequentialminus\":[[0.0,\"#0d0887\"],[0.1111111111111111,\"#46039f\"],[0.2222222222222222,\"#7201a8\"],[0.3333333333333333,\"#9c179e\"],[0.4444444444444444,\"#bd3786\"],[0.5555555555555556,\"#d8576b\"],[0.6666666666666666,\"#ed7953\"],[0.7777777777777778,\"#fb9f3a\"],[0.8888888888888888,\"#fdca26\"],[1.0,\"#f0f921\"]]},\"colorway\":[\"#636efa\",\"#EF553B\",\"#00cc96\",\"#ab63fa\",\"#FFA15A\",\"#19d3f3\",\"#FF6692\",\"#B6E880\",\"#FF97FF\",\"#FECB52\"],\"font\":{\"color\":\"#2a3f5f\"},\"geo\":{\"bgcolor\":\"white\",\"lakecolor\":\"white\",\"landcolor\":\"white\",\"showlakes\":true,\"showland\":true,\"subunitcolor\":\"#C8D4E3\"},\"hoverlabel\":{\"align\":\"left\"},\"hovermode\":\"closest\",\"mapbox\":{\"style\":\"light\"},\"paper_bgcolor\":\"white\",\"plot_bgcolor\":\"white\",\"polar\":{\"angularaxis\":{\"gridcolor\":\"#EBF0F8\",\"linecolor\":\"#EBF0F8\",\"ticks\":\"\"},\"bgcolor\":\"white\",\"radialaxis\":{\"gridcolor\":\"#EBF0F8\",\"linecolor\":\"#EBF0F8\",\"ticks\":\"\"}},\"scene\":{\"xaxis\":{\"backgroundcolor\":\"white\",\"gridcolor\":\"#DFE8F3\",\"gridwidth\":2,\"linecolor\":\"#EBF0F8\",\"showbackground\":true,\"ticks\":\"\",\"zerolinecolor\":\"#EBF0F8\"},\"yaxis\":{\"backgroundcolor\":\"white\",\"gridcolor\":\"#DFE8F3\",\"gridwidth\":2,\"linecolor\":\"#EBF0F8\",\"showbackground\":true,\"ticks\":\"\",\"zerolinecolor\":\"#EBF0F8\"},\"zaxis\":{\"backgroundcolor\":\"white\",\"gridcolor\":\"#DFE8F3\",\"gridwidth\":2,\"linecolor\":\"#EBF0F8\",\"showbackground\":true,\"ticks\":\"\",\"zerolinecolor\":\"#EBF0F8\"}},\"shapedefaults\":{\"line\":{\"color\":\"#2a3f5f\"}},\"ternary\":{\"aaxis\":{\"gridcolor\":\"#DFE8F3\",\"linecolor\":\"#A2B1C6\",\"ticks\":\"\"},\"baxis\":{\"gridcolor\":\"#DFE8F3\",\"linecolor\":\"#A2B1C6\",\"ticks\":\"\"},\"bgcolor\":\"white\",\"caxis\":{\"gridcolor\":\"#DFE8F3\",\"linecolor\":\"#A2B1C6\",\"ticks\":\"\"}},\"title\":{\"x\":0.05},\"xaxis\":{\"automargin\":true,\"gridcolor\":\"#EBF0F8\",\"linecolor\":\"#EBF0F8\",\"ticks\":\"\",\"title\":{\"standoff\":15},\"zerolinecolor\":\"#EBF0F8\",\"zerolinewidth\":2},\"yaxis\":{\"automargin\":true,\"gridcolor\":\"#EBF0F8\",\"linecolor\":\"#EBF0F8\",\"ticks\":\"\",\"title\":{\"standoff\":15},\"zerolinecolor\":\"#EBF0F8\",\"zerolinewidth\":2}}},\"xaxis\":{\"anchor\":\"y\",\"domain\":[0.0,1.0],\"title\":{\"text\":\"word\"}},\"yaxis\":{\"anchor\":\"x\",\"domain\":[0.0,1.0],\"title\":{\"text\":\"c\"}},\"legend\":{\"tracegroupgap\":0},\"title\":{\"text\":\"Topn 10 Trends on bigquery from of a particular product.\"},\"barmode\":\"relative\"},                        {\"responsive\": true}                    ).then(function(){\n",
              "                            \n",
              "var gd = document.getElementById('4c417fb5-dae3-4411-b80d-c3e4a2c87ab5');\n",
              "var x = new MutationObserver(function (mutations, observer) {{\n",
              "        var display = window.getComputedStyle(gd).display;\n",
              "        if (!display || display === 'none') {{\n",
              "            console.log([gd, 'removed!']);\n",
              "            Plotly.purge(gd);\n",
              "            observer.disconnect();\n",
              "        }}\n",
              "}});\n",
              "\n",
              "// Listen for the removal of the full notebook cells\n",
              "var notebookContainer = gd.closest('#notebook-container');\n",
              "if (notebookContainer) {{\n",
              "    x.observe(notebookContainer, {childList: true});\n",
              "}}\n",
              "\n",
              "// Listen for the clearing of the current output cell\n",
              "var outputEl = gd.closest('.output');\n",
              "if (outputEl) {{\n",
              "    x.observe(outputEl, {childList: true});\n",
              "}}\n",
              "\n",
              "                        })                };                            </script>        </div>\n",
              "</body>\n",
              "</html>"
            ]
          },
          "metadata": {}
        }
      ],
      "source": [
        "df = pd.read_csv('oneplus.csv')\n",
        "\n",
        "fig = px.bar(df, x = 'word', y = 'c', title='Topn 10 Trends on bigquery from of a particular product.', template = 'plotly_white')\n",
        "fig.show()"
      ]
    },
    {
      "cell_type": "markdown",
      "metadata": {
        "id": "UxWm79YTriwX"
      },
      "source": [
        "#### 2.2 : Now we have modified the above script that will analyze the data based on a particular product or topic (given as a keyword) and find trending features of that product based on a given range."
      ]
    },
    {
      "cell_type": "code",
      "execution_count": 65,
      "metadata": {
        "colab": {
          "base_uri": "https://localhost:8080/"
        },
        "id": "cPiJdHNJriwX",
        "outputId": "a6c330b8-c6c9-4305-e324-b38a3d87340c"
      },
      "outputs": [
        {
          "name": "stdout",
          "output_type": "stream",
          "text": [
            "Input the range of data to be accessed based on frequency.\n",
            "At max it can be 431\n",
            " example: for frquency range 20 to 50 lower_range =20 and will have a higher frequecy data and upper_range = 50\n",
            "Lower Range : 10\n",
            "Upper Range : 431\n"
          ]
        }
      ],
      "source": [
        "#iterate over frequency\n",
        "import pandas as pd\n",
        "\n",
        "\n",
        "from google.cloud import bigquery\n",
        "from google.oauth2 import service_account\n",
        "\n",
        "import csv\n",
        "\n",
        "\n",
        "cred = service_account.Credentials.from_service_account_file('project_key.json',\n",
        "                                                            scopes = [\"https://www.googleapis.com/auth/cloud-platform\"]\n",
        "                                                            )\n",
        "\n",
        "client = bigquery.Client(\n",
        "    credentials=cred,\n",
        "    project=cred.project_id,\n",
        ")\n",
        "\n",
        "\n",
        "query = \"\"\"\n",
        "SELECT word, COUNT(*) c FROM (\n",
        "  SELECT REGEXP_EXTRACT_ALL(LOWER(body), r'[a-z][a-z][a-z]+[a-z]?') words\n",
        "  FROM `fh-bigquery.reddit_comments.2017_11`\n",
        "  WHERE score>10 AND subreddit='oneplus'\n",
        "), UNNEST(words) word\n",
        "WHERE word NOT IN (SELECT word FROM(\n",
        "  SELECT word, COUNT(*) c FROM (\n",
        "    SELECT REGEXP_EXTRACT_ALL(LOWER(body), r'[a-z][a-z][a-z]+[a-z]?') words\n",
        "    FROM `fh-bigquery.reddit_comments.2017_11`\n",
        "    WHERE score>10 AND subreddit NOT IN ('politics', 'funny')\n",
        "    \n",
        "  ), UNNEST(words) word\n",
        "  GROUP BY word\n",
        "  ORDER BY c DESC\n",
        "  LIMIT 300\n",
        "))\n",
        "GROUP BY word\n",
        "ORDER BY c DESC \n",
        "\n",
        "\n",
        "\"\"\"\n",
        "\n",
        "query_job=client.query(query)\n",
        "data=query_job.result()\n",
        "\n",
        "df = pd.read_csv('oneplus.csv')\n",
        "saved_column = df['c']\n",
        "#print(saved_column[0])\n",
        "\n",
        "print(f\"Input the range of data to be accessed based on frequency.\\nAt max it can be {saved_column[0]}\\n example: for frquency range 20 to 50 lower_range =20 and will have a higher frequecy data and upper_range = 50\")\n",
        "\n",
        "lr = int(input(\"Lower Range : \"))\n",
        "ur = int(input('Upper Range : '))\n",
        "sep =','\n",
        "#for row in open(\"oneplus3.csv\"):\n",
        "\n",
        "with open('oneplus_range.csv', 'w', newline='') as f_handle:\n",
        "    writer = csv.writer(f_handle)\n",
        "    header = ['word', 'c']\n",
        "    writer.writerow(header)\n",
        "    for row, r in zip(saved_column, data):\n",
        "        #print(row)\n",
        "        #print(type(row))\n",
        "        if row<=ur and row>=lr:\n",
        "            writer.writerow(r)"
      ]
    },
    {
      "cell_type": "code",
      "execution_count": 67,
      "metadata": {
        "colab": {
          "base_uri": "https://localhost:8080/",
          "height": 542
        },
        "id": "fbZbfHRnriwX",
        "outputId": "208f9ae8-141a-47a8-b30c-c4b0ffa0b355"
      },
      "outputs": [
        {
          "output_type": "display_data",
          "data": {
            "text/html": [
              "<html>\n",
              "<head><meta charset=\"utf-8\" /></head>\n",
              "<body>\n",
              "    <div>            <script src=\"https://cdnjs.cloudflare.com/ajax/libs/mathjax/2.7.5/MathJax.js?config=TeX-AMS-MML_SVG\"></script><script type=\"text/javascript\">if (window.MathJax) {MathJax.Hub.Config({SVG: {font: \"STIX-Web\"}});}</script>                <script type=\"text/javascript\">window.PlotlyConfig = {MathJaxConfig: 'local'};</script>\n",
              "        <script src=\"https://cdn.plot.ly/plotly-2.8.3.min.js\"></script>                <div id=\"d1aeb060-4ed9-49b0-a860-834a8eeefa84\" class=\"plotly-graph-div\" style=\"height:525px; width:100%;\"></div>            <script type=\"text/javascript\">                                    window.PLOTLYENV=window.PLOTLYENV || {};                                    if (document.getElementById(\"d1aeb060-4ed9-49b0-a860-834a8eeefa84\")) {                    Plotly.newPlot(                        \"d1aeb060-4ed9-49b0-a860-834a8eeefa84\",                        [{\"alignmentgroup\":\"True\",\"bingroup\":\"x\",\"histfunc\":\"sum\",\"hovertemplate\":\"word=%{x}<br>sum of c=%{y}<extra></extra>\",\"legendgroup\":\"\",\"marker\":{\"color\":\"darkblue\",\"pattern\":{\"shape\":\"\"}},\"name\":\"\",\"offsetgroup\":\"\",\"orientation\":\"v\",\"showlegend\":false,\"x\":[\"oneplus\",\"phone\",\"camera\",\"screen\",\"android\",\"phones\",\"battery\",\"treble\",\"oreo\",\"price\"],\"xaxis\":\"x\",\"y\":[431,412,262,151,149,128,125,102,98,95],\"yaxis\":\"y\",\"type\":\"histogram\"}],                        {\"template\":{\"data\":{\"barpolar\":[{\"marker\":{\"line\":{\"color\":\"white\",\"width\":0.5},\"pattern\":{\"fillmode\":\"overlay\",\"size\":10,\"solidity\":0.2}},\"type\":\"barpolar\"}],\"bar\":[{\"error_x\":{\"color\":\"#2a3f5f\"},\"error_y\":{\"color\":\"#2a3f5f\"},\"marker\":{\"line\":{\"color\":\"white\",\"width\":0.5},\"pattern\":{\"fillmode\":\"overlay\",\"size\":10,\"solidity\":0.2}},\"type\":\"bar\"}],\"carpet\":[{\"aaxis\":{\"endlinecolor\":\"#2a3f5f\",\"gridcolor\":\"#C8D4E3\",\"linecolor\":\"#C8D4E3\",\"minorgridcolor\":\"#C8D4E3\",\"startlinecolor\":\"#2a3f5f\"},\"baxis\":{\"endlinecolor\":\"#2a3f5f\",\"gridcolor\":\"#C8D4E3\",\"linecolor\":\"#C8D4E3\",\"minorgridcolor\":\"#C8D4E3\",\"startlinecolor\":\"#2a3f5f\"},\"type\":\"carpet\"}],\"choropleth\":[{\"colorbar\":{\"outlinewidth\":0,\"ticks\":\"\"},\"type\":\"choropleth\"}],\"contourcarpet\":[{\"colorbar\":{\"outlinewidth\":0,\"ticks\":\"\"},\"type\":\"contourcarpet\"}],\"contour\":[{\"colorbar\":{\"outlinewidth\":0,\"ticks\":\"\"},\"colorscale\":[[0.0,\"#0d0887\"],[0.1111111111111111,\"#46039f\"],[0.2222222222222222,\"#7201a8\"],[0.3333333333333333,\"#9c179e\"],[0.4444444444444444,\"#bd3786\"],[0.5555555555555556,\"#d8576b\"],[0.6666666666666666,\"#ed7953\"],[0.7777777777777778,\"#fb9f3a\"],[0.8888888888888888,\"#fdca26\"],[1.0,\"#f0f921\"]],\"type\":\"contour\"}],\"heatmapgl\":[{\"colorbar\":{\"outlinewidth\":0,\"ticks\":\"\"},\"colorscale\":[[0.0,\"#0d0887\"],[0.1111111111111111,\"#46039f\"],[0.2222222222222222,\"#7201a8\"],[0.3333333333333333,\"#9c179e\"],[0.4444444444444444,\"#bd3786\"],[0.5555555555555556,\"#d8576b\"],[0.6666666666666666,\"#ed7953\"],[0.7777777777777778,\"#fb9f3a\"],[0.8888888888888888,\"#fdca26\"],[1.0,\"#f0f921\"]],\"type\":\"heatmapgl\"}],\"heatmap\":[{\"colorbar\":{\"outlinewidth\":0,\"ticks\":\"\"},\"colorscale\":[[0.0,\"#0d0887\"],[0.1111111111111111,\"#46039f\"],[0.2222222222222222,\"#7201a8\"],[0.3333333333333333,\"#9c179e\"],[0.4444444444444444,\"#bd3786\"],[0.5555555555555556,\"#d8576b\"],[0.6666666666666666,\"#ed7953\"],[0.7777777777777778,\"#fb9f3a\"],[0.8888888888888888,\"#fdca26\"],[1.0,\"#f0f921\"]],\"type\":\"heatmap\"}],\"histogram2dcontour\":[{\"colorbar\":{\"outlinewidth\":0,\"ticks\":\"\"},\"colorscale\":[[0.0,\"#0d0887\"],[0.1111111111111111,\"#46039f\"],[0.2222222222222222,\"#7201a8\"],[0.3333333333333333,\"#9c179e\"],[0.4444444444444444,\"#bd3786\"],[0.5555555555555556,\"#d8576b\"],[0.6666666666666666,\"#ed7953\"],[0.7777777777777778,\"#fb9f3a\"],[0.8888888888888888,\"#fdca26\"],[1.0,\"#f0f921\"]],\"type\":\"histogram2dcontour\"}],\"histogram2d\":[{\"colorbar\":{\"outlinewidth\":0,\"ticks\":\"\"},\"colorscale\":[[0.0,\"#0d0887\"],[0.1111111111111111,\"#46039f\"],[0.2222222222222222,\"#7201a8\"],[0.3333333333333333,\"#9c179e\"],[0.4444444444444444,\"#bd3786\"],[0.5555555555555556,\"#d8576b\"],[0.6666666666666666,\"#ed7953\"],[0.7777777777777778,\"#fb9f3a\"],[0.8888888888888888,\"#fdca26\"],[1.0,\"#f0f921\"]],\"type\":\"histogram2d\"}],\"histogram\":[{\"marker\":{\"pattern\":{\"fillmode\":\"overlay\",\"size\":10,\"solidity\":0.2}},\"type\":\"histogram\"}],\"mesh3d\":[{\"colorbar\":{\"outlinewidth\":0,\"ticks\":\"\"},\"type\":\"mesh3d\"}],\"parcoords\":[{\"line\":{\"colorbar\":{\"outlinewidth\":0,\"ticks\":\"\"}},\"type\":\"parcoords\"}],\"pie\":[{\"automargin\":true,\"type\":\"pie\"}],\"scatter3d\":[{\"line\":{\"colorbar\":{\"outlinewidth\":0,\"ticks\":\"\"}},\"marker\":{\"colorbar\":{\"outlinewidth\":0,\"ticks\":\"\"}},\"type\":\"scatter3d\"}],\"scattercarpet\":[{\"marker\":{\"colorbar\":{\"outlinewidth\":0,\"ticks\":\"\"}},\"type\":\"scattercarpet\"}],\"scattergeo\":[{\"marker\":{\"colorbar\":{\"outlinewidth\":0,\"ticks\":\"\"}},\"type\":\"scattergeo\"}],\"scattergl\":[{\"marker\":{\"colorbar\":{\"outlinewidth\":0,\"ticks\":\"\"}},\"type\":\"scattergl\"}],\"scattermapbox\":[{\"marker\":{\"colorbar\":{\"outlinewidth\":0,\"ticks\":\"\"}},\"type\":\"scattermapbox\"}],\"scatterpolargl\":[{\"marker\":{\"colorbar\":{\"outlinewidth\":0,\"ticks\":\"\"}},\"type\":\"scatterpolargl\"}],\"scatterpolar\":[{\"marker\":{\"colorbar\":{\"outlinewidth\":0,\"ticks\":\"\"}},\"type\":\"scatterpolar\"}],\"scatter\":[{\"marker\":{\"colorbar\":{\"outlinewidth\":0,\"ticks\":\"\"}},\"type\":\"scatter\"}],\"scatterternary\":[{\"marker\":{\"colorbar\":{\"outlinewidth\":0,\"ticks\":\"\"}},\"type\":\"scatterternary\"}],\"surface\":[{\"colorbar\":{\"outlinewidth\":0,\"ticks\":\"\"},\"colorscale\":[[0.0,\"#0d0887\"],[0.1111111111111111,\"#46039f\"],[0.2222222222222222,\"#7201a8\"],[0.3333333333333333,\"#9c179e\"],[0.4444444444444444,\"#bd3786\"],[0.5555555555555556,\"#d8576b\"],[0.6666666666666666,\"#ed7953\"],[0.7777777777777778,\"#fb9f3a\"],[0.8888888888888888,\"#fdca26\"],[1.0,\"#f0f921\"]],\"type\":\"surface\"}],\"table\":[{\"cells\":{\"fill\":{\"color\":\"#EBF0F8\"},\"line\":{\"color\":\"white\"}},\"header\":{\"fill\":{\"color\":\"#C8D4E3\"},\"line\":{\"color\":\"white\"}},\"type\":\"table\"}]},\"layout\":{\"annotationdefaults\":{\"arrowcolor\":\"#2a3f5f\",\"arrowhead\":0,\"arrowwidth\":1},\"autotypenumbers\":\"strict\",\"coloraxis\":{\"colorbar\":{\"outlinewidth\":0,\"ticks\":\"\"}},\"colorscale\":{\"diverging\":[[0,\"#8e0152\"],[0.1,\"#c51b7d\"],[0.2,\"#de77ae\"],[0.3,\"#f1b6da\"],[0.4,\"#fde0ef\"],[0.5,\"#f7f7f7\"],[0.6,\"#e6f5d0\"],[0.7,\"#b8e186\"],[0.8,\"#7fbc41\"],[0.9,\"#4d9221\"],[1,\"#276419\"]],\"sequential\":[[0.0,\"#0d0887\"],[0.1111111111111111,\"#46039f\"],[0.2222222222222222,\"#7201a8\"],[0.3333333333333333,\"#9c179e\"],[0.4444444444444444,\"#bd3786\"],[0.5555555555555556,\"#d8576b\"],[0.6666666666666666,\"#ed7953\"],[0.7777777777777778,\"#fb9f3a\"],[0.8888888888888888,\"#fdca26\"],[1.0,\"#f0f921\"]],\"sequentialminus\":[[0.0,\"#0d0887\"],[0.1111111111111111,\"#46039f\"],[0.2222222222222222,\"#7201a8\"],[0.3333333333333333,\"#9c179e\"],[0.4444444444444444,\"#bd3786\"],[0.5555555555555556,\"#d8576b\"],[0.6666666666666666,\"#ed7953\"],[0.7777777777777778,\"#fb9f3a\"],[0.8888888888888888,\"#fdca26\"],[1.0,\"#f0f921\"]]},\"colorway\":[\"#636efa\",\"#EF553B\",\"#00cc96\",\"#ab63fa\",\"#FFA15A\",\"#19d3f3\",\"#FF6692\",\"#B6E880\",\"#FF97FF\",\"#FECB52\"],\"font\":{\"color\":\"#2a3f5f\"},\"geo\":{\"bgcolor\":\"white\",\"lakecolor\":\"white\",\"landcolor\":\"white\",\"showlakes\":true,\"showland\":true,\"subunitcolor\":\"#C8D4E3\"},\"hoverlabel\":{\"align\":\"left\"},\"hovermode\":\"closest\",\"mapbox\":{\"style\":\"light\"},\"paper_bgcolor\":\"white\",\"plot_bgcolor\":\"white\",\"polar\":{\"angularaxis\":{\"gridcolor\":\"#EBF0F8\",\"linecolor\":\"#EBF0F8\",\"ticks\":\"\"},\"bgcolor\":\"white\",\"radialaxis\":{\"gridcolor\":\"#EBF0F8\",\"linecolor\":\"#EBF0F8\",\"ticks\":\"\"}},\"scene\":{\"xaxis\":{\"backgroundcolor\":\"white\",\"gridcolor\":\"#DFE8F3\",\"gridwidth\":2,\"linecolor\":\"#EBF0F8\",\"showbackground\":true,\"ticks\":\"\",\"zerolinecolor\":\"#EBF0F8\"},\"yaxis\":{\"backgroundcolor\":\"white\",\"gridcolor\":\"#DFE8F3\",\"gridwidth\":2,\"linecolor\":\"#EBF0F8\",\"showbackground\":true,\"ticks\":\"\",\"zerolinecolor\":\"#EBF0F8\"},\"zaxis\":{\"backgroundcolor\":\"white\",\"gridcolor\":\"#DFE8F3\",\"gridwidth\":2,\"linecolor\":\"#EBF0F8\",\"showbackground\":true,\"ticks\":\"\",\"zerolinecolor\":\"#EBF0F8\"}},\"shapedefaults\":{\"line\":{\"color\":\"#2a3f5f\"}},\"ternary\":{\"aaxis\":{\"gridcolor\":\"#DFE8F3\",\"linecolor\":\"#A2B1C6\",\"ticks\":\"\"},\"baxis\":{\"gridcolor\":\"#DFE8F3\",\"linecolor\":\"#A2B1C6\",\"ticks\":\"\"},\"bgcolor\":\"white\",\"caxis\":{\"gridcolor\":\"#DFE8F3\",\"linecolor\":\"#A2B1C6\",\"ticks\":\"\"}},\"title\":{\"x\":0.05},\"xaxis\":{\"automargin\":true,\"gridcolor\":\"#EBF0F8\",\"linecolor\":\"#EBF0F8\",\"ticks\":\"\",\"title\":{\"standoff\":15},\"zerolinecolor\":\"#EBF0F8\",\"zerolinewidth\":2},\"yaxis\":{\"automargin\":true,\"gridcolor\":\"#EBF0F8\",\"linecolor\":\"#EBF0F8\",\"ticks\":\"\",\"title\":{\"standoff\":15},\"zerolinecolor\":\"#EBF0F8\",\"zerolinewidth\":2}}},\"xaxis\":{\"anchor\":\"y\",\"domain\":[0.0,1.0],\"title\":{\"text\":\"word\"}},\"yaxis\":{\"anchor\":\"x\",\"domain\":[0.0,1.0],\"title\":{\"text\":\"sum of c\"}},\"legend\":{\"tracegroupgap\":0},\"title\":{\"text\":\"Trends on bigquery of a particular product within range 10 - 431.\"},\"barmode\":\"relative\"},                        {\"responsive\": true}                    ).then(function(){\n",
              "                            \n",
              "var gd = document.getElementById('d1aeb060-4ed9-49b0-a860-834a8eeefa84');\n",
              "var x = new MutationObserver(function (mutations, observer) {{\n",
              "        var display = window.getComputedStyle(gd).display;\n",
              "        if (!display || display === 'none') {{\n",
              "            console.log([gd, 'removed!']);\n",
              "            Plotly.purge(gd);\n",
              "            observer.disconnect();\n",
              "        }}\n",
              "}});\n",
              "\n",
              "// Listen for the removal of the full notebook cells\n",
              "var notebookContainer = gd.closest('#notebook-container');\n",
              "if (notebookContainer) {{\n",
              "    x.observe(notebookContainer, {childList: true});\n",
              "}}\n",
              "\n",
              "// Listen for the clearing of the current output cell\n",
              "var outputEl = gd.closest('.output');\n",
              "if (outputEl) {{\n",
              "    x.observe(outputEl, {childList: true});\n",
              "}}\n",
              "\n",
              "                        })                };                            </script>        </div>\n",
              "</body>\n",
              "</html>"
            ]
          },
          "metadata": {}
        }
      ],
      "source": [
        "import pandas as pd\n",
        "import plotly.express as px\n",
        "df = pd.read_csv('oneplus_range.csv')\n",
        "\n",
        "fig = px.histogram(df, x = 'word', y = 'c', title=f'Trends on bigquery of a particular product within range {lr} - {ur}.', template = 'plotly_white', color_discrete_sequence=['darkblue'])\n",
        "fig.show()"
      ]
    },
    {
      "cell_type": "markdown",
      "metadata": {
        "id": "247-DC6GriwY"
      },
      "source": [
        "        "
      ]
    },
    {
      "cell_type": "markdown",
      "metadata": {
        "id": "eS4JChSariwb"
      },
      "source": [
        "    \n",
        "    "
      ]
    },
    {
      "cell_type": "markdown",
      "metadata": {
        "id": "hz3Acm-Jriwc"
      },
      "source": [
        "### 3. Analyze a less reviewd product\n"
      ]
    },
    {
      "cell_type": "markdown",
      "metadata": {
        "id": "iFxNGdJ9riwd"
      },
      "source": [
        "**From the above visualization we picked wikipedia to perform further analysis.**"
      ]
    },
    {
      "cell_type": "markdown",
      "metadata": {
        "id": "z3kditzTriwd"
      },
      "source": [
        "**Analyzing wikipedia as a producyt with comparatively less reviews (from wikipedia subreddit)**"
      ]
    },
    {
      "cell_type": "code",
      "execution_count": 91,
      "metadata": {
        "id": "GxYMjytqriwd"
      },
      "outputs": [],
      "source": [
        "\n",
        "query = \"\"\"\n",
        "SELECT word, COUNT(*) c FROM (\n",
        "  SELECT REGEXP_EXTRACT_ALL(LOWER(body), r'[a-z][a-z][a-z]+[a-z]?') words\n",
        "  FROM `fh-bigquery.reddit_comments.2019_08`\n",
        "  WHERE score>10 AND subreddit='wikipedia'\n",
        "), UNNEST(words) word\n",
        "WHERE word NOT IN (SELECT word FROM(\n",
        "  SELECT word, COUNT(*) c FROM (\n",
        "    SELECT REGEXP_EXTRACT_ALL(LOWER(body), r'[a-z][a-z][a-z]+[a-z]?') words\n",
        "    FROM `fh-bigquery.reddit_comments.2019_08`\n",
        "    WHERE score>10\n",
        "    \n",
        "  ), UNNEST(words) word\n",
        "  GROUP BY word\n",
        "  ORDER BY c DESC\n",
        "  LIMIT 300\n",
        "))\n",
        "GROUP BY word\n",
        "ORDER BY c DESC \n",
        "\n",
        "\"\"\"\n",
        "\n",
        "query_job=client.query(query)\n",
        "data=query_job.result()\n",
        "\n",
        "# Create the csv file\n",
        "with open('wikipedia.csv', 'w', newline='') as f_handle:\n",
        "    writer = csv.writer(f_handle)\n",
        "    # Add the header/column names\n",
        "    header = ['word', 'c']\n",
        "    writer.writerow(header)\n",
        "    # Iterate over `data`  and  write to the csv file\n",
        "    for ro in data:\n",
        "        writer.writerow(ro)"
      ]
    },
    {
      "cell_type": "code",
      "execution_count": 92,
      "metadata": {
        "colab": {
          "base_uri": "https://localhost:8080/"
        },
        "id": "wcqCZ1H2riwd",
        "outputId": "ae2776d3-0e18-4bd9-f7cc-87cf542af56b"
      },
      "outputs": [
        {
          "output_type": "stream",
          "name": "stdout",
          "text": [
            "/bin/bash: line 0: type: wikipedia.csv: not found\n"
          ]
        }
      ],
      "source": [
        "!type wikipedia.csv"
      ]
    },
    {
      "cell_type": "code",
      "execution_count": 94,
      "metadata": {
        "colab": {
          "base_uri": "https://localhost:8080/",
          "height": 542
        },
        "id": "wo0smwEeriwd",
        "outputId": "1f02b302-f9f5-4bc1-9ef5-724606160489"
      },
      "outputs": [
        {
          "output_type": "display_data",
          "data": {
            "text/html": [
              "<html>\n",
              "<head><meta charset=\"utf-8\" /></head>\n",
              "<body>\n",
              "    <div>            <script src=\"https://cdnjs.cloudflare.com/ajax/libs/mathjax/2.7.5/MathJax.js?config=TeX-AMS-MML_SVG\"></script><script type=\"text/javascript\">if (window.MathJax) {MathJax.Hub.Config({SVG: {font: \"STIX-Web\"}});}</script>                <script type=\"text/javascript\">window.PlotlyConfig = {MathJaxConfig: 'local'};</script>\n",
              "        <script src=\"https://cdn.plot.ly/plotly-2.8.3.min.js\"></script>                <div id=\"6d605616-5256-403c-9fd9-c1fcef747337\" class=\"plotly-graph-div\" style=\"height:525px; width:100%;\"></div>            <script type=\"text/javascript\">                                    window.PLOTLYENV=window.PLOTLYENV || {};                                    if (document.getElementById(\"6d605616-5256-403c-9fd9-c1fcef747337\")) {                    Plotly.newPlot(                        \"6d605616-5256-403c-9fd9-c1fcef747337\",                        [{\"alignmentgroup\":\"True\",\"bingroup\":\"x\",\"histfunc\":\"sum\",\"hovertemplate\":\"word=%{x}<br>sum of c=%{y}<extra></extra>\",\"legendgroup\":\"\",\"marker\":{\"color\":\"chocolate\",\"pattern\":{\"shape\":\"\"}},\"name\":\"\",\"offsetgroup\":\"\",\"orientation\":\"v\",\"showlegend\":false,\"x\":[\"wikipedia\",\"org\",\"wiki\",\"war\",\"french\",\"germany\",\"history\",\"names\",\"nazi\",\"american\",\"german\",\"government\",\"gun\",\"laws\",\"killed\",\"death\",\"during\",\"article\",\"interesting\",\"hands\",\"nazis\",\"mass\",\"gold\",\"died\",\"chocolate\",\"america\",\"related\",\"found\",\"weapons\",\"course\",\"common\",\"japanese\",\"country\",\"woman\",\"ships\",\"brits\",\"group\",\"anti\",\"second\",\"britain\",\"fleet\",\"came\",\"news\",\"soviet\",\"kill\",\"maru\",\"given\",\"food\",\"prisoners\",\"france\",\"meant\",\"often\",\"portnova\",\"english\",\"number\",\"americans\",\"knew\",\"similar\",\"question\",\"company\",\"heat\",\"guns\",\"source\",\"state\",\"shot\",\"named\",\"example\",\"wife\",\"access\",\"started\",\"dead\",\"british\",\"navy\",\"young\",\"known\",\"ussr\",\"outside\",\"set\",\"aaa\",\"sounds\",\"important\",\"thanks\",\"trial\",\"couldn\",\"germans\",\"heard\",\"bundy\",\"empire\",\"close\",\"shootings\",\"authoritarian\",\"design\",\"term\",\"hand\",\"rest\",\"articles\",\"allied\",\"area\",\"night\",\"podcast\",\"japan\",\"skull\",\"united\",\"order\",\"alone\",\"doctors\",\"soldiers\",\"quite\",\"likely\",\"became\",\"later\",\"rights\",\"sound\",\"states\",\"caused\",\"population\",\"move\",\"under\",\"html\",\"fall\",\"control\",\"seriously\",\"taking\",\"girls\",\"sometimes\",\"created\",\"list\",\"die\",\"basically\",\"incident\",\"fighting\",\"girl\",\"killing\",\"doctor\",\"suicide\",\"easily\",\"leave\",\"movie\",\"social\",\"research\",\"led\",\"turn\",\"soap\",\"lives\",\"earth\",\"taken\",\"center\",\"protesters\",\"worse\",\"grumman\",\"single\",\"portuguese\",\"door\",\"case\",\"black\",\"correct\",\"wig\",\"hell\",\"pandaa\",\"violence\",\"china\",\"actual\",\"firearm\",\"paper\",\"comment\",\"heart\",\"nature\",\"joke\",\"century\",\"small\",\"friend\",\"upon\",\"movies\",\"episode\",\"effect\",\"countries\",\"level\",\"fire\",\"generally\",\"wrote\",\"attack\",\"must\",\"sentence\",\"prison\",\"among\",\"sort\",\"husband\",\"largest\",\"russia\",\"looked\",\"sex\",\"large\",\"hong\",\"together\",\"especially\",\"huge\",\"mention\",\"knowing\",\"wcw\",\"age\",\"recent\",\"otherwise\",\"nation\",\"city\",\"chance\",\"perhaps\",\"gulag\",\"covered\",\"nuclear\",\"science\",\"spelling\",\"anus\",\"act\",\"diplomats\",\"took\",\"poor\",\"lebanese\",\"situation\",\"executing\",\"romantic\",\"unless\",\"cancer\",\"ship\",\"internet\",\"invaded\",\"amount\",\"law\",\"problems\",\"imagine\",\"store\",\"task\",\"power\",\"parents\",\"present\",\"sunk\",\"available\",\"crimes\",\"feeling\",\"horrible\",\"south\",\"ways\",\"possible\",\"charged\",\"series\",\"near\",\"cool\",\"attempt\",\"please\",\"expensive\",\"political\",\"damn\",\"pistol\",\"exactly\",\"face\",\"evil\",\"washing\",\"force\",\"themselves\",\"mexico\",\"works\",\"exist\",\"mongolian\",\"chinese\",\"sources\",\"legend\",\"win\",\"millions\",\"across\",\"son\",\"business\",\"powerful\",\"ate\",\"kurds\",\"fine\",\"although\",\"fight\",\"kong\",\"wwe\",\"talk\",\"threw\",\"understanding\",\"failure\",\"coming\",\"hot\",\"house\",\"response\",\"lawyer\",\"wish\",\"vans\",\"battle\",\"whether\",\"files\",\"murderers\",\"russian\",\"murder\",\"apply\",\"rather\",\"children\",\"aanus\",\"heroes\",\"shooting\",\"contained\",\"wonder\",\"indigenous\",\"pass\",\"spelled\",\"version\",\"view\",\"kgb\",\"religion\",\"swear\",\"anagram\",\"northern\",\"ice\",\"books\",\"buddy\",\"media\",\"increasing\",\"calling\",\"kevinism\",\"badly\",\"daily\",\"worth\",\"sports\",\"wore\",\"carried\",\"march\",\"claimed\",\"simply\",\"brexit\",\"allies\",\"stabbed\",\"landscape\",\"extreme\",\"churchill\",\"sick\",\"based\",\"stupid\",\"president\",\"packages\",\"becomes\",\"indians\",\"peace\",\"poisoned\",\"enforceable\",\"art\",\"crazy\",\"town\",\"independence\",\"playing\",\"shiny\",\"living\",\"reply\",\"romans\",\"shots\",\"saw\",\"sense\",\"program\",\"dangerous\",\"sultans\",\"families\",\"hypothetical\",\"slaves\",\"obviously\",\"iraq\",\"seem\",\"survived\",\"lived\",\"george\",\"thousands\",\"bloody\",\"colors\",\"guard\",\"popular\",\"knowledge\",\"shoot\",\"due\",\"socioeconomic\",\"working\",\"style\",\"panda\",\"turned\",\"zone\",\"voluntarily\",\"mexican\",\"north\",\"conditioning\",\"book\",\"honmei\",\"happen\",\"idk\",\"photosynthesis\",\"montevideo\",\"comparison\",\"drinking\",\"transported\",\"regular\",\"hit\",\"extra\",\"minutes\",\"glad\",\"gamers\",\"tort\",\"happened\",\"figure\",\"whatever\",\"room\",\"archipelago\",\"claim\",\"royal\",\"route\",\"usa\",\"spread\",\"mother\",\"extremely\",\"scurvy\",\"mediterranean\",\"deep\",\"hiding\",\"couple\",\"issues\",\"however\",\"married\",\"says\",\"relevant\",\"jobs\",\"drivers\",\"wow\",\"goes\",\"stalin\",\"strong\",\"employed\",\"brought\",\"wall\",\"afterwards\",\"lack\",\"experience\",\"believed\",\"instant\",\"shouldn\",\"partisan\",\"today\",\"thinks\",\"total\",\"nearly\",\"worked\",\"invasion\",\"details\",\"definition\",\"rule\",\"open\",\"kevin\",\"except\",\"yep\",\"considering\",\"tibet\",\"beijing\",\"information\",\"rates\",\"involved\",\"tyranny\",\"active\",\"refer\",\"apparently\",\"hours\",\"asked\",\"grandmother\",\"required\",\"florida\",\"ended\",\"hearing\",\"areas\",\"crime\",\"civil\",\"false\",\"choco\",\"older\",\"bunch\",\"taiwan\",\"chemical\",\"walking\",\"surprised\",\"michael\",\"uncommon\",\"shut\",\"absolutely\",\"europe\",\"captured\",\"personally\",\"infection\",\"factor\",\"title\",\"stories\",\"movement\",\"military\",\"gave\",\"red\",\"lies\",\"recommend\",\"depends\",\"drug\",\"attempts\",\"propaganda\",\"brit\",\"compared\",\"spirits\",\"head\",\"prevent\",\"arrested\",\"indian\",\"culture\",\"film\",\"cause\",\"assignments\",\"needed\",\"station\",\"eastern\",\"johnson\",\"discussion\",\"service\",\"written\",\"fairly\",\"madison\",\"air\",\"controlled\",\"traders\",\"babies\",\"michigan\",\"solzhenitsyn\",\"construction\",\"particularly\",\"authoritarianism\",\"itself\",\"daughter\",\"bathing\",\"cultural\",\"light\",\"sleeping\",\"main\",\"mercury\",\"thus\",\"somebody\",\"rpg\",\"difference\",\"device\",\"champion\",\"antiseptic\",\"chlorine\",\"plus\",\"iran\",\"passed\",\"ignorant\",\"dziesika\",\"human\",\"houses\",\"fish\",\"bret\",\"provide\",\"fast\",\"jessica\",\"heatstroke\",\"minable\",\"missing\",\"agreement\",\"particular\",\"eggshell\",\"warfare\",\"camps\",\"authorities\",\"appreciate\",\"programs\",\"han\",\"chest\",\"surnames\",\"kid\",\"added\",\"rabaul\",\"future\",\"words\",\"fucks\",\"triple\",\"famines\",\"necklace\",\"ball\",\"normal\",\"entered\",\"parties\",\"legal\",\"risk\",\"tibetans\",\"listening\",\"prepared\",\"dissident\",\"opinions\",\"rid\",\"sentenced\",\"con\",\"broadly\",\"partisans\",\"robin\",\"wear\",\"certainly\",\"nytimes\",\"licensing\",\"ending\",\"lost\",\"usually\",\"designed\",\"socialism\",\"admitted\",\"hispanics\",\"standing\",\"generic\",\"hey\",\"bet\",\"efforts\",\"pronunciation\",\"dont\",\"barren\",\"testify\",\"serving\",\"dye\",\"element\",\"threatening\",\"summer\",\"removing\",\"escape\",\"heavy\",\"nipponia\",\"impressed\",\"remotely\",\"dozens\",\"http\",\"redditor\",\"universal\",\"franklin\",\"kinda\",\"tax\",\"box\",\"throne\",\"body\",\"website\",\"statues\",\"sank\",\"nah\",\"union\",\"threat\",\"january\",\"truth\",\"napoleon\",\"fell\",\"hour\",\"smell\",\"reading\",\"regime\",\"whose\",\"teach\",\"glosses\",\"half\",\"criteria\",\"avengers\",\"doubt\",\"truly\",\"warhistoryonline\",\"leading\",\"logical\",\"extensive\",\"anglo\",\"low\",\"imo\",\"notable\",\"ones\",\"surface\",\"belgium\",\"statement\",\"feature\",\"yourself\",\"pronounced\",\"conquering\",\"immediately\",\"hanging\",\"monster\",\"orthodoxy\",\"decision\",\"manslaughter\",\"ohio\",\"detail\",\"piece\",\"complete\",\"dracula\",\"verify\",\"awesome\",\"secretary\",\"terrible\",\"rose\",\"refugee\",\"none\",\"regards\",\"retaining\",\"corpses\",\"shin\",\"born\",\"genius\",\"hydrated\",\"leaders\",\"spent\",\"proud\",\"mineral\",\"psychological\",\"felt\",\"illegality\",\"unity\",\"health\",\"agreed\",\"sultan\",\"acts\",\"combination\",\"pacific\",\"native\",\"paddle\",\"himself\",\"supposed\",\"haven\",\"sad\",\"realized\",\"creating\",\"west\",\"religious\",\"losses\",\"carrying\",\"ancestors\",\"description\",\"trend\",\"secret\",\"fly\",\"iirc\",\"vavilov\",\"esteici\",\"himmler\",\"smart\",\"within\",\"movements\",\"funded\",\"warhol\",\"require\",\"ton\",\"elsewhere\",\"specific\",\"submarine\",\"checking\",\"development\",\"medical\",\"system\",\"perform\",\"refused\",\"amazing\",\"kitchen\",\"canada\",\"conspiracy\",\"med\",\"possibility\",\"ages\",\"assuming\",\"pandaaaaaa\",\"nonsense\",\"kings\",\"votes\",\"defect\",\"fallen\",\"blow\",\"avoidance\",\"insane\",\"liked\",\"heavily\",\"touching\",\"site\",\"cooperating\",\"slavs\",\"sympathetic\",\"linked\",\"forensic\",\"table\",\"beyond\",\"removed\",\"tradition\",\"become\",\"months\",\"detect\",\"testified\",\"august\",\"forget\",\"discuss\",\"perks\",\"aware\",\"missile\",\"adding\",\"orthography\",\"hungarian\",\"monday\",\"checked\",\"gestapo\",\"deposits\",\"youtube\",\"thinking\",\"extermination\",\"hilarious\",\"executed\",\"holds\",\"carry\",\"vlad\",\"joined\",\"shell\",\"copy\",\"longer\",\"throwing\",\"reached\",\"semmelweis\",\"domestic\",\"coworker\",\"alternative\",\"koreshan\",\"uss\",\"waiting\",\"bro\",\"aaanus\",\"weren\",\"giving\",\"postal\",\"settlements\",\"aww\",\"locked\",\"accepted\",\"necessarily\",\"considered\",\"wash\",\"car\",\"places\",\"leader\",\"whence\",\"asylum\",\"electronics\",\"washington\",\"middle\",\"random\",\"communism\",\"merely\",\"barclays\",\"herself\",\"hitler\",\"week\",\"violated\",\"happily\",\"bottom\",\"moment\",\"super\",\"sold\",\"argue\",\"avoiding\",\"investigator\",\"causes\",\"street\",\"ensure\",\"saddam\",\"share\",\"lifetime\",\"torturing\",\"ill\",\"aristo\",\"general\",\"kennedy\",\"brilliant\",\"prior\",\"plant\",\"certain\",\"deposed\",\"deadly\",\"cars\",\"fertile\",\"countrymen\",\"treatment\",\"brutal\",\"basis\",\"faction\",\"front\",\"twenty\",\"witness\",\"controversy\",\"towards\",\"staff\",\"avoid\",\"sent\",\"explained\",\"charge\",\"classes\",\"effective\",\"buying\",\"bring\",\"alexander\",\"ref\",\"ted\",\"reasons\",\"widely\",\"overlords\",\"stand\",\"brayan\",\"wedding\",\"sarin\",\"quickly\",\"khwarazmian\",\"putting\",\"weekend\",\"agent\",\"criticism\",\"gas\",\"unconscious\",\"corrupted\",\"housing\",\"evidence\",\"phenomenon\",\"troops\",\"totally\",\"transport\",\"throughout\",\"suspect\",\"missed\",\"text\",\"education\",\"party\",\"forcing\",\"cyrus\",\"original\",\"responsible\",\"entire\",\"shah\",\"pointing\",\"llvs\",\"hart\",\"loved\",\"hometown\",\"circulation\",\"institute\",\"mid\",\"weapon\",\"wars\",\"mongolia\",\"happening\",\"international\",\"picked\",\"gives\",\"haha\",\"backyard\",\"somewhere\",\"garrison\",\"cage\",\"includes\",\"fights\",\"vertical\",\"obligation\",\"mainland\",\"action\",\"hates\",\"implying\",\"rise\",\"market\",\"treasure\",\"result\",\"fear\",\"answer\",\"clear\",\"regulated\",\"asia\",\"behind\",\"communist\",\"building\",\"llv\",\"natural\",\"effort\",\"resistance\",\"members\",\"anyway\",\"arguments\",\"socially\",\"barely\",\"moving\",\"michaels\",\"xiongnu\",\"relatively\",\"completely\",\"concubines\",\"cuauhtemoc\",\"scotland\",\"greeks\",\"kingdom\",\"shock\",\"somehow\",\"takes\",\"normally\",\"subtly\",\"struggle\",\"escaping\",\"blew\",\"global\",\"maicon\",\"episodes\",\"shawn\",\"germs\",\"adult\",\"cheap\",\"clearly\",\"mind\",\"invisible\",\"wearing\",\"embarrassing\",\"equal\",\"eventually\",\"pows\",\"higher\",\"attempted\",\"vince\",\"seeing\",\"lose\",\"specifically\",\"mined\",\"meet\",\"myself\",\"ridiculous\",\"park\",\"scared\",\"tactics\",\"pushed\",\"boyfriends\",\"stranger\",\"assault\",\"bread\",\"breaking\",\"brazilians\",\"tiny\",\"brian\",\"gov\",\"engineer\",\"roll\",\"page\",\"condition\",\"mercedes\",\"labour\",\"slaughtering\",\"behalf\",\"obol\",\"quote\",\"toward\",\"ladies\",\"capital\",\"ranks\",\"polish\",\"persians\",\"debate\",\"advice\",\"fabulous\",\"absence\",\"backers\",\"district\",\"ooph\",\"further\",\"settlement\",\"explorer\",\"sunset\",\"conquered\",\"myths\",\"jackson\",\"measure\",\"knighted\",\"homeland\",\"dwarf\",\"coincidental\",\"poison\",\"ramp\",\"democracy\",\"biography\",\"mee\",\"changing\",\"suggestion\",\"vehicular\",\"permissive\",\"cant\",\"memorial\",\"bank\",\"closest\",\"upfront\",\"security\",\"pray\",\"gang\",\"section\",\"garfield\",\"gradient\",\"choking\",\"including\",\"destroyed\",\"abel\",\"vessel\",\"helping\",\"italian\",\"aneurysm\",\"loup\",\"somerville\",\"jail\",\"southern\",\"prepare\",\"navies\",\"realizing\",\"vodka\",\"downward\",\"launch\",\"nikon\",\"sacrilegious\",\"squared\",\"possessions\",\"distributing\",\"interrogator\",\"abolition\",\"ireland\",\"inspiration\",\"cocks\",\"passenger\",\"ward\",\"ideological\",\"pandaaanus\",\"breakdown\",\"background\",\"crust\",\"letters\",\"comparisons\",\"strikes\",\"lesson\",\"technical\",\"roc\",\"fyi\",\"per\",\"holidays\",\"victim\",\"easy\",\"elitzabet\",\"caught\",\"send\",\"worthy\",\"smartphone\",\"opposes\",\"deeply\",\"dissapear\",\"poisoning\",\"communally\",\"fancy\",\"incline\",\"suicidal\",\"brazil\",\"querolaine\",\"treasonous\",\"swastika\",\"beautiful\",\"severely\",\"succeeded\",\"qualify\",\"grab\",\"silence\",\"murderer\",\"alleged\",\"ridiculed\",\"worst\",\"srsly\",\"army\",\"rocks\",\"farther\",\"kourash\",\"gruesome\",\"hypocrite\",\"afghanistan\",\"valuables\",\"drama\",\"censorship\",\"invested\",\"candy\",\"educated\",\"fined\",\"keeping\",\"step\",\"technically\",\"boy\",\"finding\",\"flu\",\"nlm\",\"scourge\",\"pandaaaaaaaaaaaanus\",\"produced\",\"courtyard\",\"diplomat\",\"preserving\",\"uninterrupted\",\"waste\",\"pedagogy\",\"announced\",\"bacon\",\"todd\",\"teaches\",\"edition\",\"nobodyasked\",\"brides\",\"jane\",\"warrior\",\"familiar\",\"proper\",\"penetentry\",\"supplied\",\"realist\",\"selection\",\"neutral\",\"misspelled\",\"erm\",\"hunt\",\"corpse\",\"concentration\",\"refusing\",\"message\",\"neil\",\"assed\",\"divorce\",\"languages\",\"subset\",\"character\",\"prisoner\",\"masterpiece\",\"abuse\",\"carolina\",\"bleach\",\"tchaikowsky\",\"awwww\",\"frustration\",\"doubled\",\"mondays\",\"confronts\",\"atrocities\",\"fascist\",\"ailments\",\"disappearing\",\"nationalist\",\"arbitrary\",\"tide\",\"geniuses\",\"comic\",\"nevertheless\",\"lady\",\"divert\",\"moronic\",\"knock\",\"apple\",\"dispicable\",\"humpty\",\"victims\",\"grant\",\"philosophy\",\"immigrated\",\"driven\",\"heavyweight\",\"visited\",\"gift\",\"dose\",\"formulate\",\"humans\",\"invented\",\"guards\",\"willing\",\"estimates\",\"forgot\",\"didnt\",\"inconveniences\",\"madusa\",\"driving\",\"youre\",\"fatality\",\"masse\",\"granted\",\"sensitive\",\"hungarians\",\"ladder\",\"posting\",\"diplomatic\",\"preventative\",\"molten\",\"killings\",\"pasta\",\"philippine\",\"mouth\",\"bloodletting\",\"data\",\"romania\",\"dibtn\",\"activities\",\"fair\",\"doe\",\"shows\",\"plans\",\"discussed\",\"slide\",\"broke\",\"figured\",\"semantically\",\"exotic\",\"described\",\"plagued\",\"interchangeable\",\"crucial\",\"mentors\",\"infiltrate\",\"major\",\"noticable\",\"onto\",\"genocide\",\"training\",\"skills\",\"assertional\",\"factors\",\"acquitted\",\"nor\",\"systems\",\"decided\",\"leaflets\",\"bugs\",\"nationalism\",\"christian\",\"push\",\"danish\",\"valiant\",\"bang\",\"enumeration\",\"hopefully\",\"generation\",\"odds\",\"vote\",\"schooler\",\"philippines\",\"companies\",\"staying\",\"jewish\",\"torture\",\"partied\",\"self\",\"headline\",\"pubmed\",\"practiced\",\"describing\",\"partly\",\"fit\",\"glendale\",\"brag\",\"comparing\",\"requested\",\"noticed\",\"escalate\",\"standards\",\"damage\",\"constitutional\",\"expanding\",\"universities\",\"belarussia\",\"pages\",\"loss\",\"capricious\",\"swept\",\"understating\",\"quantified\",\"senior\",\"opiates\",\"affairs\",\"attachment\",\"chain\",\"chatting\",\"atlanta\",\"blown\",\"possibly\",\"regularly\",\"ladders\",\"explorers\",\"barrier\",\"pursuit\",\"ing\",\"intervened\",\"pandanuslanguage\",\"quality\",\"romanians\",\"tommy\",\"massive\",\"outdo\",\"chapter\",\"utterly\",\"efron\",\"hysteria\",\"precision\",\"miguel\",\"abcde\",\"fulfilled\",\"giri\",\"snap\",\"jews\",\"conventions\",\"bans\",\"unrest\",\"upwind\",\"striking\",\"appear\",\"literalists\",\"porter\",\"definitively\",\"independent\",\"harems\",\"counterpart\",\"campaigning\",\"lasted\",\"unwashed\",\"sickest\",\"schafer\",\"podcasts\",\"mediums\",\"horrific\",\"precedent\",\"grandma\",\"naval\",\"dumpty\",\"ordeal\",\"pandaanus\",\"subject\",\"aryans\",\"failures\",\"oblivious\",\"glorify\",\"passive\",\"imprisonment\",\"denny\",\"round\",\"documents\",\"participated\",\"hop\",\"mall\",\"tutored\",\"debated\",\"maiden\",\"captive\",\"eggs\",\"treason\",\"intend\",\"foiled\",\"allegiance\",\"mineable\",\"thankfully\",\"teacher\",\"tired\",\"irb\",\"distracted\",\"appeared\",\"anal\",\"sociopaths\",\"decisive\",\"ground\",\"exhaustion\",\"assume\",\"community\",\"freedoms\",\"sadly\",\"bigthink\",\"batman\",\"overlord\",\"provided\",\"jets\",\"masonry\",\"albert\",\"legislative\",\"warming\",\"principal\",\"continuous\",\"certified\",\"restrictions\",\"festal\",\"questioned\",\"kingshit\",\"quantify\",\"join\",\"homies\",\"algeria\",\"tasks\",\"centre\",\"buildings\",\"monarchism\",\"authenticity\",\"mentioning\",\"posted\",\"valentine\",\"seek\",\"beat\",\"brandt\",\"weather\",\"resonated\",\"lawyers\",\"evasion\",\"position\",\"oral\",\"provoked\",\"check\",\"cargo\",\"minute\",\"planted\",\"taxman\",\"truck\",\"exceptions\",\"arkansas\",\"earshot\",\"acclimate\",\"dependents\",\"fighter\",\"hypothesis\",\"reports\",\"accountable\",\"globe\",\"induced\",\"jack\",\"elizabet\",\"medicinal\",\"scale\",\"bud\",\"danger\",\"goriany\",\"prodigious\",\"allow\",\"funnily\",\"ranging\",\"mortimer\",\"attacked\",\"balance\",\"upsets\",\"orr\",\"proceeded\",\"concept\",\"effected\",\"sheer\",\"chav\",\"aaaaaaanus\",\"dare\",\"rex\",\"punched\",\"emerge\",\"increased\",\"inhabitants\",\"aaaaaanus\",\"unholy\",\"wading\",\"hoho\",\"exposed\",\"nitro\",\"highway\",\"fix\",\"instructions\",\"edmilson\",\"racism\",\"loaded\",\"sincerity\",\"precautions\",\"turfed\",\"commonly\",\"greens\",\"choice\",\"investigated\",\"pockets\",\"abdicated\",\"bodies\",\"pandaaaanus\",\"cancelled\",\"context\",\"ernst\",\"connotation\",\"abhorrent\",\"kerolaynny\",\"shoulder\",\"husbands\",\"clicked\",\"swedish\",\"deter\",\"balloon\",\"line\",\"malicious\",\"million\",\"celebs\",\"synopsis\",\"permit\",\"dynasty\",\"location\",\"railroad\",\"terrifying\",\"sergei\",\"cuban\",\"agreeing\",\"tried\",\"bernadotte\",\"controversies\",\"contact\",\"changed\",\"brown\",\"field\",\"directive\",\"majority\",\"invent\",\"dismissing\",\"water\",\"grammatically\",\"landscapers\",\"scheduling\",\"lie\",\"began\",\"locate\",\"continued\",\"item\",\"unthinkable\",\"strength\",\"labor\",\"saut\",\"quit\",\"realize\",\"liz\",\"soviethistory\",\"suggested\",\"reich\",\"gathering\",\"interrogation\",\"provisions\",\"edu\",\"skalpelis\",\"ancestry\",\"met\",\"skeptical\",\"kheibar\",\"overture\",\"likes\",\"civilization\",\"ain\",\"bloomberg\",\"mourning\",\"incredibly\",\"wiped\",\"opening\",\"supply\",\"injured\",\"destruction\",\"groups\",\"negligence\",\"acted\",\"peers\",\"gavrilo\",\"decidet\",\"declared\",\"risking\",\"capitalist\",\"national\",\"rich\",\"views\",\"ssica\",\"cmp\",\"basement\",\"sword\",\"graphic\",\"semi\",\"pandaaaaaaaaaaanus\",\"proudly\",\"mum\",\"compound\",\"spode\",\"nader\",\"gassed\",\"dhyessica\",\"occurred\",\"friendgroup\",\"putin\",\"intentional\",\"dogmas\",\"admiral\",\"tokyo\",\"eli\",\"spellings\",\"reputation\",\"percenter\",\"buried\",\"ham\",\"turkish\",\"concepts\",\"barging\",\"arson\",\"waking\",\"rubbing\",\"type\",\"separately\",\"intolerable\",\"info\",\"direct\",\"remission\",\"clue\",\"learning\",\"superior\",\"cum\",\"update\",\"remain\",\"cycle\",\"epstein\",\"popularized\",\"abet\",\"ncbi\",\"humidity\",\"shoutout\",\"sea\",\"december\",\"victoria\",\"cleanse\",\"intention\",\"walls\",\"nitpick\",\"phone\",\"grow\",\"stemmed\",\"tragedy\",\"tend\",\"macintosh\",\"caper\",\"ancient\",\"bureaucratized\",\"imply\",\"acting\",\"cereal\",\"grants\",\"pleasant\",\"safest\",\"maykon\",\"decline\",\"respective\",\"agonizing\",\"bender\",\"questions\",\"remaining\",\"hear\",\"flee\",\"orthographically\",\"theres\",\"whoever\",\"key\",\"duty\",\"impossible\",\"format\",\"blocks\",\"merbromin\",\"listen\",\"trends\",\"vast\",\"allowed\",\"express\",\"spouses\",\"african\",\"east\",\"cities\",\"incapacitate\",\"weeks\",\"biased\",\"fruit\",\"levels\",\"materials\",\"types\",\"music\",\"undergrad\",\"rome\",\"territory\",\"walter\",\"hashish\",\"liability\",\"liquid\",\"cattle\",\"belarusian\",\"embroidery\",\"carbonara\",\"hung\",\"generations\",\"pandaaaaaaaaaanus\",\"lucky\",\"agenda\",\"faced\",\"likeness\",\"naming\",\"duke\",\"upper\",\"plagues\",\"prosecuted\",\"assumption\",\"paragraph\",\"priced\",\"panic\",\"sorts\",\"vichy\",\"traveling\",\"racist\",\"newest\",\"short\",\"elizabeth\",\"khan\",\"pandaaaaanus\",\"dumb\",\"descended\",\"intravenously\",\"bruh\",\"watched\",\"letter\",\"succeeding\",\"involve\",\"interested\",\"viewed\",\"strict\",\"wouldnt\",\"holstein\",\"imitate\",\"mezzanines\",\"surprise\",\"princip\",\"sharp\",\"jury\",\"reflect\",\"exterminate\",\"interpreter\",\"persia\",\"boarder\",\"sykes\",\"surrender\",\"championed\",\"ingrained\",\"terms\",\"leads\",\"whatnot\",\"refuse\",\"malaya\",\"material\",\"whoah\",\"ban\",\"clever\",\"seriousness\",\"nasty\",\"fisted\",\"xinjiang\",\"outlawing\",\"mongols\",\"double\",\"gunshots\",\"bombing\",\"manner\",\"plebs\",\"cooked\",\"millionaires\",\"belong\",\"return\",\"constantly\",\"campaign\",\"humanity\",\"recognize\",\"build\",\"veto\",\"awfully\",\"seconds\",\"reshetovskaya\",\"longstanding\",\"event\",\"battered\",\"manages\",\"impulsive\",\"stake\",\"intuitively\",\"corporations\",\"troop\",\"survival\",\"plaques\",\"subhuman\",\"reduce\",\"moves\",\"stupidly\",\"backpack\",\"hibernation\",\"cures\",\"trips\",\"village\",\"spain\",\"plenty\",\"electronic\",\"isolated\",\"vampires\",\"ethnic\",\"former\",\"existed\",\"fired\",\"irrelevant\",\"rulers\",\"synonymous\",\"hospitalizations\",\"boris\",\"temperature\",\"tbf\",\"vpns\",\"abundantly\",\"rediscovering\",\"smack\",\"efficient\",\"tech\",\"ties\",\"mike\",\"amazingly\",\"pump\",\"scheduled\",\"interventionist\",\"sorority\",\"david\",\"obscure\",\"discovered\",\"unintentional\",\"speaking\",\"aggressively\",\"subjugated\",\"explosives\",\"distribution\",\"receiving\",\"impala\",\"muslim\",\"bir\",\"props\",\"dropping\",\"slopes\",\"accessible\",\"actively\",\"peru\",\"grounds\",\"tht\",\"deserving\",\"lots\",\"rules\",\"serbia\",\"afraid\",\"mendelian\",\"lists\",\"assassin\",\"setting\",\"straight\",\"elaine\",\"workers\",\"worry\",\"interbred\",\"unlike\",\"albiet\",\"totalitarian\",\"runs\",\"voted\",\"woods\",\"whenever\",\"rollercoaster\",\"mate\",\"genghis\",\"detrimental\",\"mine\",\"andy\",\"ladaunte\",\"patients\",\"radiate\",\"cute\",\"radonezh\",\"printed\",\"chao\",\"plague\",\"difficult\",\"signal\",\"ripping\",\"nerd\",\"recovery\",\"disable\",\"offcourse\",\"monarchy\",\"illegitimate\",\"allows\",\"weaknesses\",\"posts\",\"ruler\",\"rudimentary\",\"unloading\",\"shortened\",\"cleanliness\",\"final\",\"theaters\",\"product\",\"physician\",\"revenge\",\"properly\",\"biological\",\"proof\",\"hypocrisy\",\"intact\",\"emperor\",\"erni\",\"grooms\",\"robert\",\"eternal\",\"notions\",\"theory\",\"johnny\",\"according\",\"events\",\"shocking\",\"universe\",\"benjamin\",\"word\",\"murders\",\"picot\",\"archerfx\",\"indistinguishable\",\"texts\",\"causing\",\"sabotage\",\"cadillac\",\"failed\",\"enabled\",\"puts\",\"generalplan\",\"technicallythetruth\",\"suppliers\",\"everybody\",\"ads\",\"afford\",\"crew\",\"describe\",\"interpretation\",\"combined\",\"user\",\"submarines\",\"ripe\",\"shitting\",\"estimated\",\"murdering\",\"hmm\",\"class\",\"pandaaaaaanus\",\"scarred\",\"italians\",\"loudly\",\"orders\",\"despite\",\"cursedcomments\",\"legit\",\"sorsky\",\"referenced\",\"guerrilla\",\"tree\",\"consensus\",\"adfontesmedia\",\"severe\",\"spaghetti\",\"dissent\",\"misunderstood\",\"defining\",\"yanks\",\"dinosaur\",\"envoys\",\"farmers\",\"habitable\",\"liar\",\"components\",\"asks\",\"fed\",\"usps\",\"rivalry\",\"perfectly\",\"ministered\",\"intellectual\",\"grabbed\",\"escapades\",\"instagramming\",\"skin\",\"ally\",\"toss\",\"protection\",\"premature\",\"newton\",\"clinics\",\"sewers\",\"array\",\"outcome\",\"chagrinvalleysoapandsalve\",\"addres\",\"blocked\",\"undoubtedly\",\"opposition\",\"misfired\",\"intentionally\",\"okay\",\"policy\",\"deliver\",\"oneida\",\"obsession\",\"biblical\",\"embryonic\",\"pandaaaaaaaaaaaaaanus\",\"xuabk\",\"annnnddd\",\"mers\",\"curved\",\"accuracy\",\"multiple\",\"surrounded\",\"mortician\",\"pandaaaaaaanus\",\"atlantic\",\"directly\",\"specialist\",\"choosing\",\"heinrich\",\"beginning\",\"grazing\",\"lethality\",\"neglected\",\"moral\",\"male\",\"fascinating\",\"anchored\",\"prevented\",\"occurring\",\"fur\",\"organization\",\"moscow\",\"mom\",\"minister\",\"boundary\",\"album\",\"noting\",\"hatchet\",\"associated\",\"burnt\",\"broadcasting\",\"appointed\",\"foundry\",\"nun\",\"lunacy\",\"snatched\",\"exaggeration\",\"emotionally\",\"vaxxers\",\"pandaaaaaaaanus\",\"spouting\",\"tricks\",\"pole\",\"environmental\",\"spitting\",\"delivered\",\"grew\",\"pirates\",\"luxury\",\"conditioned\",\"bar\",\"lobotomy\",\"topic\",\"aaaand\",\"web\",\"napolean\",\"flood\",\"objectively\",\"inmates\",\"counts\",\"peter\",\"forever\",\"trofim\",\"finger\",\"notices\",\"persian\",\"typically\",\"quantity\",\"dyes\",\"savvy\",\"hull\",\"passing\",\"perfectionists\",\"innocent\",\"wealth\",\"outdoor\",\"measures\",\"natalya\",\"synthetic\",\"iraqi\",\"nil\",\"fent\",\"kilogram\",\"reposted\",\"alien\",\"egg\",\"delivering\",\"strongly\",\"starcourt\",\"cited\",\"wages\",\"zones\",\"portion\",\"inalchuq\",\"metropolitan\",\"highly\",\"origin\",\"capture\",\"hussain\",\"yard\",\"illinois\",\"hoping\",\"republic\",\"slavery\",\"knowledgeable\",\"logic\",\"contractor\",\"nurse\",\"counterintuitive\",\"brains\",\"whey\",\"ahead\",\"hospitalized\",\"bits\",\"drowning\",\"civilians\",\"witnesses\",\"gospel\",\"analysts\",\"heating\",\"natives\",\"exclamations\",\"sale\",\"aircon\",\"minimum\",\"enjoy\",\"ours\",\"ultimate\",\"wherever\",\"rested\",\"obstructing\",\"begin\",\"allison\",\"growth\",\"foisted\",\"idiot\",\"presenting\",\"reinforced\",\"lectured\",\"nile\",\"soaked\",\"proven\",\"nuances\",\"bag\",\"aide\",\"execution\",\"lay\",\"soon\",\"manufacturer\",\"achieved\",\"misremembering\",\"solidarity\",\"pushing\",\"lampooned\",\"artifacts\",\"reduced\",\"protesting\",\"peshawar\",\"liberating\",\"interrogated\",\"occupier\",\"shareholder\",\"protests\",\"ancients\",\"portrayed\",\"searching\",\"joel\",\"tides\",\"michel\",\"lodgings\",\"originated\",\"drink\",\"miles\",\"poland\",\"sunrise\",\"expedition\",\"andrew\",\"drugs\",\"scrutiny\",\"submission\",\"grummans\",\"resources\",\"ratio\",\"situations\",\"warehouses\",\"epic\",\"acknowledge\",\"salary\",\"tense\",\"christians\",\"experienced\",\"supposedly\",\"disposition\",\"ups\",\"resisting\",\"moderately\",\"separate\",\"pandaaaaaaaaaaaaaaanus\",\"tanks\",\"lysenko\",\"favour\",\"immunity\",\"highest\",\"skill\",\"dealing\",\"belt\",\"americas\",\"clean\",\"pandanus\",\"feelings\",\"definitions\",\"integrated\",\"pants\",\"accomplishers\",\"rescued\",\"dick\",\"feet\",\"seward\",\"loulan\",\"matter\",\"seal\",\"capabilities\",\"cult\",\"singular\",\"dismissed\",\"past\",\"attacks\",\"loading\",\"nyregion\",\"facilitated\",\"watching\",\"cracking\",\"cnn\",\"socialist\",\"included\",\"cold\",\"wanting\",\"lauding\",\"inclusion\",\"glorified\",\"king\",\"badass\",\"notice\",\"wigged\",\"hero\",\"theremin\",\"powered\",\"inverted\",\"crisis\",\"murica\",\"invading\",\"confiscating\",\"startled\",\"privileges\",\"unapologetic\",\"austria\",\"idolize\",\"lazy\",\"creates\",\"period\",\"somewhat\",\"spreading\",\"brisni\",\"geheimnis\",\"reporting\",\"locations\",\"controls\",\"surrounding\",\"range\",\"tendency\",\"convoy\",\"surgery\",\"smoking\",\"royalty\",\"instigators\",\"member\",\"unit\",\"remove\",\"owned\",\"assumed\",\"jpg\",\"abnormal\",\"played\",\"europeans\",\"congo\",\"learn\",\"resistant\",\"milestone\",\"violation\",\"james\",\"writers\",\"cases\",\"iceing\",\"remembered\",\"commuted\",\"forgetting\",\"literal\",\"beats\",\"suggesting\",\"match\",\"aberration\",\"streak\",\"seat\",\"london\",\"snowballing\",\"spree\",\"upwards\",\"exhaustive\",\"terrain\",\"pure\",\"knows\",\"imagining\",\"rumor\",\"depending\",\"razing\",\"laugh\",\"iced\",\"freedom\",\"tomato\",\"electric\",\"hispanic\",\"heck\",\"separatists\",\"sake\",\"caleb\",\"basket\",\"bitch\",\"stuck\",\"coworkers\",\"reagan\",\"placating\",\"several\",\"fleets\",\"comedies\",\"hyperlinks\",\"cut\",\"fedral\",\"rightful\",\"potentially\",\"smells\",\"culprit\",\"assaults\",\"flank\",\"worthless\",\"excuse\",\"latin\",\"operated\",\"wmd\",\"milfs\",\"replace\",\"heroic\",\"encyclopedic\",\"rappaport\",\"late\",\"porsche\",\"online\",\"yea\",\"variations\",\"weird\",\"studying\",\"ucking\",\"administered\",\"submit\",\"subsequently\",\"placement\",\"ost\",\"aircraft\",\"braces\",\"issue\",\"confused\",\"dependency\",\"earl\",\"clumsily\",\"gunpowder\",\"break\",\"detainment\",\"theater\",\"giver\",\"grocery\",\"relations\",\"hostility\",\"forest\",\"gentleman\",\"obstruction\",\"smuggle\",\"mediabiasfactcheck\",\"criticized\",\"attacker\",\"assets\",\"blocking\",\"equivalent\",\"convicted\",\"gentlemen\",\"preventing\",\"unique\",\"flipping\",\"twice\",\"engineers\",\"lebanon\",\"approximation\",\"mobsters\",\"symptoms\",\"jam\",\"historical\",\"roman\",\"incidents\",\"modern\",\"authority\",\"regression\",\"founders\",\"frame\",\"cutting\",\"healthy\",\"lenient\",\"implication\",\"clan\",\"friggen\",\"favorite\",\"antique\",\"selling\",\"teaching\",\"geared\",\"purposes\",\"disaster\",\"sink\",\"claw\",\"shirts\",\"morocco\",\"climates\",\"applauded\",\"trouble\",\"special\",\"aged\",\"rebuild\",\"initial\",\"manhattan\",\"worker\",\"spies\",\"wondery\",\"intelligentsia\",\"disease\",\"falling\",\"huh\",\"traditional\",\"isolationist\",\"conservative\",\"foreign\",\"pee\",\"pronounce\",\"saline\",\"detached\",\"semitism\",\"hibernate\",\"legends\",\"praise\",\"mainly\",\"founded\",\"banging\",\"vpn\",\"told\",\"contributing\",\"disclaimer\",\"teams\",\"department\",\"brutality\",\"ethno\",\"conversation\",\"financial\",\"prosecution\",\"scuttling\",\"marriage\",\"presence\",\"accommodate\",\"paste\",\"imperialist\",\"convention\",\"overly\",\"conditions\",\"archives\",\"fool\",\"guiteau\",\"bury\",\"halfway\",\"indifferent\",\"custom\",\"misleading\",\"spark\",\"kevins\",\"foreigners\",\"bags\",\"diacritical\",\"lobotomized\",\"tiger\",\"recaptured\",\"shaved\",\"censor\",\"ali\",\"ideal\",\"oiled\",\"sphere\",\"decides\",\"whom\",\"lift\",\"irreplaceable\",\"lines\",\"telephone\",\"dozen\",\"factory\",\"repeat\",\"authors\",\"fled\",\"auxiliary\",\"intends\",\"psycho\",\"sunday\",\"ploy\",\"partying\",\"rude\",\"resolving\",\"dial\",\"juice\",\"accelerate\",\"options\",\"unfortunately\",\"blogspot\",\"comedy\",\"previously\",\"livestock\",\"drown\",\"peggy\",\"aaaaaaaalgq\",\"khaleb\",\"index\",\"folklore\",\"comicsbeat\",\"moved\",\"trash\",\"secure\",\"sufficient\",\"career\",\"grades\",\"mistery\",\"fellow\",\"error\",\"folk\",\"visual\",\"mail\",\"whitehouse\",\"yeee\",\"harbour\",\"politically\",\"trading\",\"tendons\",\"marked\",\"correction\",\"favor\",\"monsters\",\"superiors\",\"squeaker\",\"irradiated\",\"dropped\",\"rightfully\",\"method\",\"colonies\",\"participating\",\"topics\",\"theguardian\",\"disputed\",\"import\",\"discworld\",\"indeed\",\"documentary\",\"defecting\",\"clothes\",\"investigate\",\"conserve\",\"july\",\"cock\",\"chances\",\"armistice\",\"emissary\",\"licence\",\"cindy\",\"releases\",\"non\",\"traded\",\"swiss\",\"beaten\",\"liable\",\"disjoint\",\"stash\",\"quarter\",\"embracing\",\"era\",\"smirnoff\",\"multi\",\"peeling\",\"quick\",\"irreg\",\"ignore\",\"chet\",\"administrator\",\"barry\",\"servants\",\"kayfabe\",\"chicago\",\"confusing\",\"organizations\",\"chose\",\"convinced\",\"therefore\",\"powers\",\"forthcoming\",\"insights\",\"released\",\"board\",\"freaking\",\"progress\",\"facebook\",\"arty\",\"associate\",\"marks\",\"iosapp\",\"hydrant\",\"six\",\"orange\",\"enforcing\",\"slightly\",\"heir\",\"consequences\",\"substantial\",\"countryside\",\"sport\",\"highschool\",\"recessed\",\"dying\",\"maintain\",\"australian\",\"incomplete\",\"signature\",\"resurrect\",\"seeking\",\"aside\",\"brick\",\"listed\",\"explains\",\"destroy\",\"tuesdays\",\"fantastic\",\"publicly\",\"donating\",\"university\",\"actions\",\"stationed\",\"pic\",\"continuing\",\"lightly\",\"involving\",\"staunch\",\"tame\",\"occasionally\",\"consider\",\"charles\",\"scout\",\"ghetto\",\"theories\",\"recommended\",\"compensate\",\"guaranteed\",\"flavour\",\"centuries\",\"hurricane\",\"facebooking\",\"encourage\",\"butler\",\"recovering\",\"mobile\",\"answered\",\"winchell\",\"european\",\"brave\",\"hide\",\"bought\",\"sorta\",\"trinity\",\"condemn\",\"reliable\",\"residents\",\"foreseeable\",\"purpose\",\"peak\",\"wipe\",\"impaled\",\"biology\",\"maternal\",\"respected\",\"hundreds\",\"unbearable\",\"maintained\",\"georgie\",\"honourably\",\"yelling\",\"hospitals\",\"protecting\",\"brand\",\"spanishified\",\"cleansing\",\"esulting\",\"pandaaaaaaaaanus\",\"early\",\"drew\",\"northwards\",\"loose\",\"keeps\",\"prove\",\"mentioned\",\"presumably\",\"demand\",\"lower\",\"accidentally\",\"tainted\",\"appears\",\"knighthood\",\"polaris\",\"report\",\"championship\",\"formed\",\"godfather\",\"shoes\",\"province\",\"preface\",\"ambiguity\",\"resolve\",\"needlessly\",\"forces\",\"diaspora\",\"douglas\",\"fiction\",\"origins\",\"sections\",\"card\",\"pandaaaaaaaa\",\"invaders\",\"starvation\",\"axis\",\"existential\",\"folly\",\"casefile\",\"extensively\",\"vomiting\",\"aryan\",\"kishmishev\",\"removal\",\"excessive\",\"pressure\",\"translated\",\"rare\",\"icu\",\"functional\",\"overrun\",\"sailors\",\"victory\",\"foundation\",\"foods\",\"hospital\",\"assumes\",\"uhhhh\",\"unexpected\",\"trashy\",\"climate\",\"consideration\",\"infertile\",\"facts\",\"solshenytsin\",\"notionally\",\"apart\",\"evaluations\",\"jumped\",\"habits\",\"unconfirmed\",\"path\",\"rebel\",\"semblance\",\"rage\",\"knocking\",\"toledo\",\"owners\",\"blog\",\"chloroplasts\",\"granting\",\"oceans\",\"placed\",\"snopes\",\"minimizing\",\"stool\",\"simple\",\"potential\",\"unambiguously\",\"patriarch\",\"opposite\",\"intent\",\"stacy\",\"customs\",\"regum\",\"vary\",\"historigraph\",\"bill\",\"horrendously\",\"useful\",\"essentially\",\"arbitrariness\",\"sides\",\"stereotypical\",\"suffering\",\"deal\",\"discover\",\"manipulated\",\"block\",\"aaron\",\"mexicans\",\"turns\",\"habit\",\"threads\",\"agree\",\"pose\",\"humiliating\",\"brain\",\"officer\",\"commit\",\"openly\",\"pissed\",\"concentrate\",\"corridor\",\"physical\",\"fond\",\"programmed\",\"executive\",\"convincing\",\"arm\",\"decisions\",\"toupee\",\"parental\",\"stripper\",\"scarce\",\"mckenzie\",\"shown\",\"fuel\",\"telegraph\",\"arrest\",\"blacked\",\"dangers\",\"scrape\",\"tories\",\"hebner\",\"presentation\",\"strangest\",\"status\",\"soil\",\"rafters\",\"trees\",\"hahaha\",\"destined\",\"pandaaaaaaaaaaaaanus\",\"rate\",\"effectual\",\"supplement\",\"unnecessary\",\"wikicommons\",\"tortured\",\"click\",\"guilty\",\"jason\",\"tldr\",\"shaniqua\",\"weddings\",\"positions\",\"voting\",\"versions\",\"battled\",\"caf\",\"india\",\"frbzeegsi\",\"enormous\",\"count\",\"sit\",\"encompassing\",\"wide\",\"myth\",\"garden\",\"crack\",\"employment\",\"hurt\",\"begun\",\"enjoyment\",\"tries\",\"leaving\",\"yanked\",\"phonetic\",\"entry\",\"lkresnxbo\",\"invention\",\"nervous\",\"buyback\",\"honour\",\"whatsoever\",\"perjury\",\"competent\",\"bases\",\"quotes\",\"leanings\",\"galen\",\"eye\",\"september\",\"dress\",\"kleberson\",\"possessed\",\"solutions\",\"targets\",\"california\",\"fence\",\"existence\",\"contributed\",\"osha\",\"joseph\",\"absurd\",\"honey\",\"attention\",\"degree\",\"neighbors\",\"league\",\"alpha\",\"wants\",\"dad\",\"denmark\",\"topical\",\"managed\",\"owning\",\"fbi\",\"advantage\",\"kevs\",\"zima\",\"technology\",\"cavalry\",\"ruinment\",\"tgird\",\"rural\",\"msu\",\"frequently\",\"rests\",\"maddicyn\",\"governor\",\"forward\",\"local\",\"funny\",\"burned\",\"loyal\",\"currents\",\"wwii\",\"permanently\",\"purple\",\"signed\",\"smarts\",\"documented\",\"conquerers\",\"visit\",\"affinity\",\"third\",\"cover\",\"terrified\",\"gotten\",\"kafes\",\"glorius\",\"honestly\",\"mocked\",\"blue\",\"unmined\",\"individual\",\"consume\",\"flagrant\",\"enemies\",\"thank\",\"lulz\",\"alternatively\",\"prospective\",\"metre\",\"property\",\"iriquois\",\"attractive\",\"vandalize\",\"mercy\",\"zac\",\"broads\",\"treaty\",\"raised\",\"dodgeball\",\"queen\",\"private\",\"unnavigable\",\"occupied\",\"aug\",\"feed\",\"karen\",\"manufactured\",\"focused\",\"june\",\"sims\",\"jerks\",\"npr\",\"declined\",\"operating\",\"wrongfully\",\"ambassador\",\"miserable\",\"wtd\",\"masjed\",\"ideology\",\"intended\",\"schleswig\",\"skybolt\",\"stood\",\"island\",\"jhazmin\",\"bbc\",\"greek\",\"citing\",\"fought\",\"simplistic\",\"prepubescent\",\"photos\",\"enjoyed\",\"mischievous\",\"river\",\"host\",\"ashamed\",\"consuming\",\"teachers\",\"nih\",\"pavement\",\"insistence\",\"mornings\",\"republican\",\"stitcher\",\"farm\",\"recovered\",\"hasn\",\"john\",\"ignored\",\"prone\",\"humvees\",\"student\",\"stingy\",\"liquor\",\"maik\",\"size\",\"lefts\",\"stacey\",\"below\",\"implemented\",\"correctional\",\"sharply\",\"invade\",\"randolph\",\"understood\",\"viewer\",\"painted\",\"claiming\",\"screwed\",\"omg\",\"icom\",\"caroline\",\"brazilian\",\"bmw\",\"toulon\",\"wmds\",\"comply\",\"winter\",\"asian\",\"swinging\",\"backdraft\",\"weakened\",\"confederate\",\"precise\",\"larger\",\"supporter\",\"professor\",\"align\",\"role\",\"currently\",\"pull\",\"eyedmonk\",\"scientists\",\"duress\",\"mountain\",\"uncomfortable\",\"arms\",\"masstagger\",\"heritage\",\"banks\",\"aspire\",\"porters\",\"serious\",\"climb\",\"kilometres\",\"religiously\",\"shocked\",\"seven\",\"mentions\",\"formidable\",\"proto\",\"standard\",\"superstition\",\"numbers\",\"affluence\",\"opt\",\"hellish\",\"sets\",\"channel\",\"imposing\",\"backwards\",\"capitol\",\"clinic\",\"windows\",\"schedule\",\"inhabitable\",\"praised\",\"judicial\",\"intro\",\"fragments\",\"referred\",\"ran\",\"gather\",\"ensemble\",\"amendment\",\"defence\",\"saved\",\"colonial\",\"britney\",\"recklessly\",\"lumping\"],\"xaxis\":\"x\",\"y\":[45,33,31,29,19,19,17,17,16,16,16,15,15,15,14,14,13,13,12,12,12,12,12,12,11,11,11,10,10,10,10,10,10,9,9,9,9,9,9,9,9,9,9,8,8,8,8,8,8,8,8,8,8,8,8,8,8,7,7,7,7,7,7,7,7,7,7,7,7,7,7,7,7,7,7,7,6,6,6,6,6,6,6,6,6,6,6,6,6,6,6,6,6,6,6,6,6,6,6,6,6,6,6,6,6,6,6,6,6,6,6,6,6,6,6,6,6,6,6,6,6,5,5,5,5,5,5,5,5,5,5,5,5,5,5,5,5,5,5,5,5,5,5,5,5,5,5,5,5,5,5,5,5,5,5,5,5,5,5,5,5,5,5,5,5,5,5,5,5,5,5,5,5,5,5,5,5,5,5,5,5,4,4,4,4,4,4,4,4,4,4,4,4,4,4,4,4,4,4,4,4,4,4,4,4,4,4,4,4,4,4,4,4,4,4,4,4,4,4,4,4,4,4,4,4,4,4,4,4,4,4,4,4,4,4,4,4,4,4,4,4,4,4,4,4,4,4,4,4,4,4,4,4,4,4,4,4,4,4,4,4,4,4,4,4,4,4,4,4,4,4,4,4,4,4,4,4,4,4,4,3,3,3,3,3,3,3,3,3,3,3,3,3,3,3,3,3,3,3,3,3,3,3,3,3,3,3,3,3,3,3,3,3,3,3,3,3,3,3,3,3,3,3,3,3,3,3,3,3,3,3,3,3,3,3,3,3,3,3,3,3,3,3,3,3,3,3,3,3,3,3,3,3,3,3,3,3,3,3,3,3,3,3,3,3,3,3,3,3,3,3,3,3,3,3,3,3,3,3,3,3,3,3,3,3,3,3,3,3,3,3,3,3,3,3,3,3,3,3,3,3,3,3,3,3,3,3,3,3,3,3,3,3,3,3,3,3,3,3,3,3,3,3,3,3,3,3,3,3,3,3,3,3,3,3,3,3,3,3,3,3,3,3,3,3,3,3,3,3,3,3,3,3,3,3,3,3,3,3,3,3,3,3,3,3,3,3,3,3,3,3,3,3,3,3,3,3,3,3,3,3,3,3,3,3,3,3,3,3,3,3,3,3,3,3,3,3,3,3,3,3,3,3,3,3,3,3,3,3,3,3,3,3,3,3,3,3,3,3,3,3,3,3,3,3,3,3,3,3,3,3,3,3,3,2,2,2,2,2,2,2,2,2,2,2,2,2,2,2,2,2,2,2,2,2,2,2,2,2,2,2,2,2,2,2,2,2,2,2,2,2,2,2,2,2,2,2,2,2,2,2,2,2,2,2,2,2,2,2,2,2,2,2,2,2,2,2,2,2,2,2,2,2,2,2,2,2,2,2,2,2,2,2,2,2,2,2,2,2,2,2,2,2,2,2,2,2,2,2,2,2,2,2,2,2,2,2,2,2,2,2,2,2,2,2,2,2,2,2,2,2,2,2,2,2,2,2,2,2,2,2,2,2,2,2,2,2,2,2,2,2,2,2,2,2,2,2,2,2,2,2,2,2,2,2,2,2,2,2,2,2,2,2,2,2,2,2,2,2,2,2,2,2,2,2,2,2,2,2,2,2,2,2,2,2,2,2,2,2,2,2,2,2,2,2,2,2,2,2,2,2,2,2,2,2,2,2,2,2,2,2,2,2,2,2,2,2,2,2,2,2,2,2,2,2,2,2,2,2,2,2,2,2,2,2,2,2,2,2,2,2,2,2,2,2,2,2,2,2,2,2,2,2,2,2,2,2,2,2,2,2,2,2,2,2,2,2,2,2,2,2,2,2,2,2,2,2,2,2,2,2,2,2,2,2,2,2,2,2,2,2,2,2,2,2,2,2,2,2,2,2,2,2,2,2,2,2,2,2,2,2,2,2,2,2,2,2,2,2,2,2,2,2,2,2,2,2,2,2,2,2,2,2,2,2,2,2,2,2,2,2,2,2,2,2,2,2,2,2,2,2,2,2,2,2,2,2,2,2,2,2,2,2,2,2,2,2,2,2,2,2,2,2,2,2,2,2,2,2,2,2,2,2,2,2,2,2,2,2,2,2,2,2,2,2,2,2,2,2,2,2,2,2,2,2,2,2,2,2,2,2,2,2,2,2,2,2,2,2,2,2,2,2,2,2,2,2,2,2,2,2,2,2,2,2,2,2,2,2,2,2,2,2,2,2,2,2,2,2,2,2,2,2,2,2,2,2,2,2,2,2,2,2,2,2,2,2,2,2,2,2,2,2,2,2,2,2,2,2,2,2,2,2,2,2,2,2,2,2,2,2,2,2,2,2,2,2,2,2,2,2,2,2,2,2,2,2,2,2,2,2,2,2,2,2,2,2,2,2,2,2,2,2,2,2,2,2,2,1,1,1,1,1,1,1,1,1,1,1,1,1,1,1,1,1,1,1,1,1,1,1,1,1,1,1,1,1,1,1,1,1,1,1,1,1,1,1,1,1,1,1,1,1,1,1,1,1,1,1,1,1,1,1,1,1,1,1,1,1,1,1,1,1,1,1,1,1,1,1,1,1,1,1,1,1,1,1,1,1,1,1,1,1,1,1,1,1,1,1,1,1,1,1,1,1,1,1,1,1,1,1,1,1,1,1,1,1,1,1,1,1,1,1,1,1,1,1,1,1,1,1,1,1,1,1,1,1,1,1,1,1,1,1,1,1,1,1,1,1,1,1,1,1,1,1,1,1,1,1,1,1,1,1,1,1,1,1,1,1,1,1,1,1,1,1,1,1,1,1,1,1,1,1,1,1,1,1,1,1,1,1,1,1,1,1,1,1,1,1,1,1,1,1,1,1,1,1,1,1,1,1,1,1,1,1,1,1,1,1,1,1,1,1,1,1,1,1,1,1,1,1,1,1,1,1,1,1,1,1,1,1,1,1,1,1,1,1,1,1,1,1,1,1,1,1,1,1,1,1,1,1,1,1,1,1,1,1,1,1,1,1,1,1,1,1,1,1,1,1,1,1,1,1,1,1,1,1,1,1,1,1,1,1,1,1,1,1,1,1,1,1,1,1,1,1,1,1,1,1,1,1,1,1,1,1,1,1,1,1,1,1,1,1,1,1,1,1,1,1,1,1,1,1,1,1,1,1,1,1,1,1,1,1,1,1,1,1,1,1,1,1,1,1,1,1,1,1,1,1,1,1,1,1,1,1,1,1,1,1,1,1,1,1,1,1,1,1,1,1,1,1,1,1,1,1,1,1,1,1,1,1,1,1,1,1,1,1,1,1,1,1,1,1,1,1,1,1,1,1,1,1,1,1,1,1,1,1,1,1,1,1,1,1,1,1,1,1,1,1,1,1,1,1,1,1,1,1,1,1,1,1,1,1,1,1,1,1,1,1,1,1,1,1,1,1,1,1,1,1,1,1,1,1,1,1,1,1,1,1,1,1,1,1,1,1,1,1,1,1,1,1,1,1,1,1,1,1,1,1,1,1,1,1,1,1,1,1,1,1,1,1,1,1,1,1,1,1,1,1,1,1,1,1,1,1,1,1,1,1,1,1,1,1,1,1,1,1,1,1,1,1,1,1,1,1,1,1,1,1,1,1,1,1,1,1,1,1,1,1,1,1,1,1,1,1,1,1,1,1,1,1,1,1,1,1,1,1,1,1,1,1,1,1,1,1,1,1,1,1,1,1,1,1,1,1,1,1,1,1,1,1,1,1,1,1,1,1,1,1,1,1,1,1,1,1,1,1,1,1,1,1,1,1,1,1,1,1,1,1,1,1,1,1,1,1,1,1,1,1,1,1,1,1,1,1,1,1,1,1,1,1,1,1,1,1,1,1,1,1,1,1,1,1,1,1,1,1,1,1,1,1,1,1,1,1,1,1,1,1,1,1,1,1,1,1,1,1,1,1,1,1,1,1,1,1,1,1,1,1,1,1,1,1,1,1,1,1,1,1,1,1,1,1,1,1,1,1,1,1,1,1,1,1,1,1,1,1,1,1,1,1,1,1,1,1,1,1,1,1,1,1,1,1,1,1,1,1,1,1,1,1,1,1,1,1,1,1,1,1,1,1,1,1,1,1,1,1,1,1,1,1,1,1,1,1,1,1,1,1,1,1,1,1,1,1,1,1,1,1,1,1,1,1,1,1,1,1,1,1,1,1,1,1,1,1,1,1,1,1,1,1,1,1,1,1,1,1,1,1,1,1,1,1,1,1,1,1,1,1,1,1,1,1,1,1,1,1,1,1,1,1,1,1,1,1,1,1,1,1,1,1,1,1,1,1,1,1,1,1,1,1,1,1,1,1,1,1,1,1,1,1,1,1,1,1,1,1,1,1,1,1,1,1,1,1,1,1,1,1,1,1,1,1,1,1,1,1,1,1,1,1,1,1,1,1,1,1,1,1,1,1,1,1,1,1,1,1,1,1,1,1,1,1,1,1,1,1,1,1,1,1,1,1,1,1,1,1,1,1,1,1,1,1,1,1,1,1,1,1,1,1,1,1,1,1,1,1,1,1,1,1,1,1,1,1,1,1,1,1,1,1,1,1,1,1,1,1,1,1,1,1,1,1,1,1,1,1,1,1,1,1,1,1,1,1,1,1,1,1,1,1,1,1,1,1,1,1,1,1,1,1,1,1,1,1,1,1,1,1,1,1,1,1,1,1,1,1,1,1,1,1,1,1,1,1,1,1,1,1,1,1,1,1,1,1,1,1,1,1,1,1,1,1,1,1,1,1,1,1,1,1,1,1,1,1,1,1,1,1,1,1,1,1,1,1,1,1,1,1,1,1,1,1,1,1,1,1,1,1,1,1,1,1,1,1,1,1,1,1,1,1,1,1,1,1,1,1,1,1,1,1,1,1,1,1,1,1,1,1,1,1,1,1,1,1,1,1,1,1,1,1,1,1,1,1,1,1,1,1,1,1,1,1,1,1,1,1,1,1,1,1,1,1,1,1,1,1,1,1,1,1,1,1,1,1,1,1,1,1,1,1,1,1,1,1,1,1,1,1,1,1,1,1,1,1,1,1,1,1,1,1,1,1,1,1,1,1,1,1,1,1,1,1,1,1,1,1,1,1,1,1,1,1,1,1,1,1,1,1,1,1,1,1,1,1,1,1,1,1,1,1,1,1,1,1,1,1,1,1,1,1,1,1,1,1,1,1,1,1,1,1,1,1,1,1,1,1,1,1,1,1,1,1,1,1,1,1,1,1,1,1,1,1,1,1,1,1,1,1,1,1,1,1,1,1,1,1,1,1,1,1,1,1,1,1,1,1,1,1,1,1,1,1,1,1,1,1,1,1,1,1,1,1,1,1,1,1,1,1,1,1,1,1,1,1,1,1,1,1,1,1,1,1,1,1,1,1,1,1,1,1,1,1,1,1,1,1,1,1,1,1,1,1,1,1,1,1,1,1,1,1,1,1,1,1,1,1,1,1,1,1,1,1,1,1,1,1,1,1,1,1,1,1,1,1,1,1,1,1,1,1,1,1,1,1,1,1,1,1,1,1,1,1,1,1,1,1,1,1,1,1,1,1,1,1,1,1,1,1,1,1,1,1,1,1,1,1,1,1,1,1,1,1,1,1,1,1,1,1,1,1,1,1,1,1,1,1,1,1,1,1,1,1,1,1,1,1,1,1,1,1,1,1,1,1,1,1,1,1,1,1,1,1,1,1,1,1,1,1,1,1,1,1,1,1,1,1,1,1,1,1,1,1,1,1,1,1,1,1,1,1,1,1,1,1,1,1,1,1,1,1,1,1,1,1,1,1,1,1,1,1,1,1,1,1,1,1,1,1,1,1,1,1,1,1,1,1,1,1,1,1,1,1,1,1,1,1,1,1,1,1,1,1,1,1,1,1,1,1,1,1,1,1,1,1,1,1,1,1,1,1,1,1,1,1,1,1,1,1,1,1,1,1,1,1,1,1,1,1,1,1,1,1,1,1,1,1,1,1,1,1,1,1,1,1,1,1,1,1,1,1,1,1,1,1,1,1,1,1,1,1,1,1,1,1,1,1,1,1,1,1,1,1,1,1,1,1,1,1,1,1,1,1,1,1,1,1,1,1,1,1,1,1,1,1,1,1,1,1,1,1,1,1,1,1,1,1,1,1,1,1,1,1,1,1,1,1,1,1,1,1,1,1,1,1,1,1,1,1,1,1,1,1,1,1,1,1,1,1,1,1,1,1,1,1,1,1,1,1,1,1,1,1,1,1,1,1,1,1,1,1,1,1,1,1,1,1,1,1,1,1,1,1,1,1,1,1,1,1,1,1,1,1,1,1,1,1,1,1,1,1,1,1,1,1,1,1,1,1,1,1,1,1,1,1,1,1,1,1,1,1,1,1,1,1,1,1,1,1,1,1,1,1,1,1,1,1,1,1,1,1,1,1,1,1,1,1,1,1,1,1,1,1,1,1,1,1,1,1,1,1,1,1,1,1,1,1,1,1,1,1,1,1,1,1,1,1,1,1,1,1,1,1,1,1,1,1,1,1,1,1,1,1,1,1,1,1,1,1,1,1,1,1,1,1,1,1,1,1,1,1,1,1,1,1,1,1,1,1,1,1,1,1,1,1,1,1,1,1,1,1,1,1,1,1,1,1,1,1,1,1,1,1,1,1,1,1,1,1,1,1,1,1,1,1,1,1,1,1,1,1,1,1,1,1,1,1,1,1,1,1,1,1,1,1,1,1,1,1,1,1,1,1,1,1,1,1,1,1,1,1,1,1,1,1,1,1,1,1,1,1,1,1,1,1,1,1,1,1,1,1,1,1,1,1,1,1,1,1,1,1,1,1,1,1,1,1,1,1,1,1,1,1,1,1,1,1,1,1,1,1,1,1,1,1,1,1,1,1,1,1,1,1,1,1,1,1,1,1,1,1,1,1,1,1,1,1,1,1,1,1,1,1,1,1,1,1,1,1,1,1,1,1,1,1,1,1,1,1,1,1,1,1,1,1,1,1,1,1,1,1,1,1,1,1,1,1,1,1,1,1,1,1,1,1,1,1,1,1,1,1,1,1,1,1,1,1,1,1,1,1,1,1,1,1,1,1,1,1,1,1,1,1,1,1,1,1,1,1,1,1,1,1,1,1,1,1,1,1,1,1,1,1,1,1,1,1,1,1,1,1,1,1,1,1,1,1,1,1,1,1,1,1,1,1,1,1,1,1,1,1,1,1,1,1,1,1,1,1,1,1,1,1,1,1,1,1,1,1,1,1,1,1,1,1,1,1,1,1,1,1,1,1,1,1,1,1,1,1,1,1,1,1,1,1,1,1,1,1,1,1,1,1,1,1,1,1,1,1,1,1,1,1,1,1],\"yaxis\":\"y\",\"type\":\"histogram\"}],                        {\"template\":{\"data\":{\"barpolar\":[{\"marker\":{\"line\":{\"color\":\"white\",\"width\":0.5},\"pattern\":{\"fillmode\":\"overlay\",\"size\":10,\"solidity\":0.2}},\"type\":\"barpolar\"}],\"bar\":[{\"error_x\":{\"color\":\"#2a3f5f\"},\"error_y\":{\"color\":\"#2a3f5f\"},\"marker\":{\"line\":{\"color\":\"white\",\"width\":0.5},\"pattern\":{\"fillmode\":\"overlay\",\"size\":10,\"solidity\":0.2}},\"type\":\"bar\"}],\"carpet\":[{\"aaxis\":{\"endlinecolor\":\"#2a3f5f\",\"gridcolor\":\"#C8D4E3\",\"linecolor\":\"#C8D4E3\",\"minorgridcolor\":\"#C8D4E3\",\"startlinecolor\":\"#2a3f5f\"},\"baxis\":{\"endlinecolor\":\"#2a3f5f\",\"gridcolor\":\"#C8D4E3\",\"linecolor\":\"#C8D4E3\",\"minorgridcolor\":\"#C8D4E3\",\"startlinecolor\":\"#2a3f5f\"},\"type\":\"carpet\"}],\"choropleth\":[{\"colorbar\":{\"outlinewidth\":0,\"ticks\":\"\"},\"type\":\"choropleth\"}],\"contourcarpet\":[{\"colorbar\":{\"outlinewidth\":0,\"ticks\":\"\"},\"type\":\"contourcarpet\"}],\"contour\":[{\"colorbar\":{\"outlinewidth\":0,\"ticks\":\"\"},\"colorscale\":[[0.0,\"#0d0887\"],[0.1111111111111111,\"#46039f\"],[0.2222222222222222,\"#7201a8\"],[0.3333333333333333,\"#9c179e\"],[0.4444444444444444,\"#bd3786\"],[0.5555555555555556,\"#d8576b\"],[0.6666666666666666,\"#ed7953\"],[0.7777777777777778,\"#fb9f3a\"],[0.8888888888888888,\"#fdca26\"],[1.0,\"#f0f921\"]],\"type\":\"contour\"}],\"heatmapgl\":[{\"colorbar\":{\"outlinewidth\":0,\"ticks\":\"\"},\"colorscale\":[[0.0,\"#0d0887\"],[0.1111111111111111,\"#46039f\"],[0.2222222222222222,\"#7201a8\"],[0.3333333333333333,\"#9c179e\"],[0.4444444444444444,\"#bd3786\"],[0.5555555555555556,\"#d8576b\"],[0.6666666666666666,\"#ed7953\"],[0.7777777777777778,\"#fb9f3a\"],[0.8888888888888888,\"#fdca26\"],[1.0,\"#f0f921\"]],\"type\":\"heatmapgl\"}],\"heatmap\":[{\"colorbar\":{\"outlinewidth\":0,\"ticks\":\"\"},\"colorscale\":[[0.0,\"#0d0887\"],[0.1111111111111111,\"#46039f\"],[0.2222222222222222,\"#7201a8\"],[0.3333333333333333,\"#9c179e\"],[0.4444444444444444,\"#bd3786\"],[0.5555555555555556,\"#d8576b\"],[0.6666666666666666,\"#ed7953\"],[0.7777777777777778,\"#fb9f3a\"],[0.8888888888888888,\"#fdca26\"],[1.0,\"#f0f921\"]],\"type\":\"heatmap\"}],\"histogram2dcontour\":[{\"colorbar\":{\"outlinewidth\":0,\"ticks\":\"\"},\"colorscale\":[[0.0,\"#0d0887\"],[0.1111111111111111,\"#46039f\"],[0.2222222222222222,\"#7201a8\"],[0.3333333333333333,\"#9c179e\"],[0.4444444444444444,\"#bd3786\"],[0.5555555555555556,\"#d8576b\"],[0.6666666666666666,\"#ed7953\"],[0.7777777777777778,\"#fb9f3a\"],[0.8888888888888888,\"#fdca26\"],[1.0,\"#f0f921\"]],\"type\":\"histogram2dcontour\"}],\"histogram2d\":[{\"colorbar\":{\"outlinewidth\":0,\"ticks\":\"\"},\"colorscale\":[[0.0,\"#0d0887\"],[0.1111111111111111,\"#46039f\"],[0.2222222222222222,\"#7201a8\"],[0.3333333333333333,\"#9c179e\"],[0.4444444444444444,\"#bd3786\"],[0.5555555555555556,\"#d8576b\"],[0.6666666666666666,\"#ed7953\"],[0.7777777777777778,\"#fb9f3a\"],[0.8888888888888888,\"#fdca26\"],[1.0,\"#f0f921\"]],\"type\":\"histogram2d\"}],\"histogram\":[{\"marker\":{\"pattern\":{\"fillmode\":\"overlay\",\"size\":10,\"solidity\":0.2}},\"type\":\"histogram\"}],\"mesh3d\":[{\"colorbar\":{\"outlinewidth\":0,\"ticks\":\"\"},\"type\":\"mesh3d\"}],\"parcoords\":[{\"line\":{\"colorbar\":{\"outlinewidth\":0,\"ticks\":\"\"}},\"type\":\"parcoords\"}],\"pie\":[{\"automargin\":true,\"type\":\"pie\"}],\"scatter3d\":[{\"line\":{\"colorbar\":{\"outlinewidth\":0,\"ticks\":\"\"}},\"marker\":{\"colorbar\":{\"outlinewidth\":0,\"ticks\":\"\"}},\"type\":\"scatter3d\"}],\"scattercarpet\":[{\"marker\":{\"colorbar\":{\"outlinewidth\":0,\"ticks\":\"\"}},\"type\":\"scattercarpet\"}],\"scattergeo\":[{\"marker\":{\"colorbar\":{\"outlinewidth\":0,\"ticks\":\"\"}},\"type\":\"scattergeo\"}],\"scattergl\":[{\"marker\":{\"colorbar\":{\"outlinewidth\":0,\"ticks\":\"\"}},\"type\":\"scattergl\"}],\"scattermapbox\":[{\"marker\":{\"colorbar\":{\"outlinewidth\":0,\"ticks\":\"\"}},\"type\":\"scattermapbox\"}],\"scatterpolargl\":[{\"marker\":{\"colorbar\":{\"outlinewidth\":0,\"ticks\":\"\"}},\"type\":\"scatterpolargl\"}],\"scatterpolar\":[{\"marker\":{\"colorbar\":{\"outlinewidth\":0,\"ticks\":\"\"}},\"type\":\"scatterpolar\"}],\"scatter\":[{\"marker\":{\"colorbar\":{\"outlinewidth\":0,\"ticks\":\"\"}},\"type\":\"scatter\"}],\"scatterternary\":[{\"marker\":{\"colorbar\":{\"outlinewidth\":0,\"ticks\":\"\"}},\"type\":\"scatterternary\"}],\"surface\":[{\"colorbar\":{\"outlinewidth\":0,\"ticks\":\"\"},\"colorscale\":[[0.0,\"#0d0887\"],[0.1111111111111111,\"#46039f\"],[0.2222222222222222,\"#7201a8\"],[0.3333333333333333,\"#9c179e\"],[0.4444444444444444,\"#bd3786\"],[0.5555555555555556,\"#d8576b\"],[0.6666666666666666,\"#ed7953\"],[0.7777777777777778,\"#fb9f3a\"],[0.8888888888888888,\"#fdca26\"],[1.0,\"#f0f921\"]],\"type\":\"surface\"}],\"table\":[{\"cells\":{\"fill\":{\"color\":\"#EBF0F8\"},\"line\":{\"color\":\"white\"}},\"header\":{\"fill\":{\"color\":\"#C8D4E3\"},\"line\":{\"color\":\"white\"}},\"type\":\"table\"}]},\"layout\":{\"annotationdefaults\":{\"arrowcolor\":\"#2a3f5f\",\"arrowhead\":0,\"arrowwidth\":1},\"autotypenumbers\":\"strict\",\"coloraxis\":{\"colorbar\":{\"outlinewidth\":0,\"ticks\":\"\"}},\"colorscale\":{\"diverging\":[[0,\"#8e0152\"],[0.1,\"#c51b7d\"],[0.2,\"#de77ae\"],[0.3,\"#f1b6da\"],[0.4,\"#fde0ef\"],[0.5,\"#f7f7f7\"],[0.6,\"#e6f5d0\"],[0.7,\"#b8e186\"],[0.8,\"#7fbc41\"],[0.9,\"#4d9221\"],[1,\"#276419\"]],\"sequential\":[[0.0,\"#0d0887\"],[0.1111111111111111,\"#46039f\"],[0.2222222222222222,\"#7201a8\"],[0.3333333333333333,\"#9c179e\"],[0.4444444444444444,\"#bd3786\"],[0.5555555555555556,\"#d8576b\"],[0.6666666666666666,\"#ed7953\"],[0.7777777777777778,\"#fb9f3a\"],[0.8888888888888888,\"#fdca26\"],[1.0,\"#f0f921\"]],\"sequentialminus\":[[0.0,\"#0d0887\"],[0.1111111111111111,\"#46039f\"],[0.2222222222222222,\"#7201a8\"],[0.3333333333333333,\"#9c179e\"],[0.4444444444444444,\"#bd3786\"],[0.5555555555555556,\"#d8576b\"],[0.6666666666666666,\"#ed7953\"],[0.7777777777777778,\"#fb9f3a\"],[0.8888888888888888,\"#fdca26\"],[1.0,\"#f0f921\"]]},\"colorway\":[\"#636efa\",\"#EF553B\",\"#00cc96\",\"#ab63fa\",\"#FFA15A\",\"#19d3f3\",\"#FF6692\",\"#B6E880\",\"#FF97FF\",\"#FECB52\"],\"font\":{\"color\":\"#2a3f5f\"},\"geo\":{\"bgcolor\":\"white\",\"lakecolor\":\"white\",\"landcolor\":\"white\",\"showlakes\":true,\"showland\":true,\"subunitcolor\":\"#C8D4E3\"},\"hoverlabel\":{\"align\":\"left\"},\"hovermode\":\"closest\",\"mapbox\":{\"style\":\"light\"},\"paper_bgcolor\":\"white\",\"plot_bgcolor\":\"white\",\"polar\":{\"angularaxis\":{\"gridcolor\":\"#EBF0F8\",\"linecolor\":\"#EBF0F8\",\"ticks\":\"\"},\"bgcolor\":\"white\",\"radialaxis\":{\"gridcolor\":\"#EBF0F8\",\"linecolor\":\"#EBF0F8\",\"ticks\":\"\"}},\"scene\":{\"xaxis\":{\"backgroundcolor\":\"white\",\"gridcolor\":\"#DFE8F3\",\"gridwidth\":2,\"linecolor\":\"#EBF0F8\",\"showbackground\":true,\"ticks\":\"\",\"zerolinecolor\":\"#EBF0F8\"},\"yaxis\":{\"backgroundcolor\":\"white\",\"gridcolor\":\"#DFE8F3\",\"gridwidth\":2,\"linecolor\":\"#EBF0F8\",\"showbackground\":true,\"ticks\":\"\",\"zerolinecolor\":\"#EBF0F8\"},\"zaxis\":{\"backgroundcolor\":\"white\",\"gridcolor\":\"#DFE8F3\",\"gridwidth\":2,\"linecolor\":\"#EBF0F8\",\"showbackground\":true,\"ticks\":\"\",\"zerolinecolor\":\"#EBF0F8\"}},\"shapedefaults\":{\"line\":{\"color\":\"#2a3f5f\"}},\"ternary\":{\"aaxis\":{\"gridcolor\":\"#DFE8F3\",\"linecolor\":\"#A2B1C6\",\"ticks\":\"\"},\"baxis\":{\"gridcolor\":\"#DFE8F3\",\"linecolor\":\"#A2B1C6\",\"ticks\":\"\"},\"bgcolor\":\"white\",\"caxis\":{\"gridcolor\":\"#DFE8F3\",\"linecolor\":\"#A2B1C6\",\"ticks\":\"\"}},\"title\":{\"x\":0.05},\"xaxis\":{\"automargin\":true,\"gridcolor\":\"#EBF0F8\",\"linecolor\":\"#EBF0F8\",\"ticks\":\"\",\"title\":{\"standoff\":15},\"zerolinecolor\":\"#EBF0F8\",\"zerolinewidth\":2},\"yaxis\":{\"automargin\":true,\"gridcolor\":\"#EBF0F8\",\"linecolor\":\"#EBF0F8\",\"ticks\":\"\",\"title\":{\"standoff\":15},\"zerolinecolor\":\"#EBF0F8\",\"zerolinewidth\":2}}},\"xaxis\":{\"anchor\":\"y\",\"domain\":[0.0,1.0],\"title\":{\"text\":\"word\"}},\"yaxis\":{\"anchor\":\"x\",\"domain\":[0.0,1.0],\"title\":{\"text\":\"sum of c\"}},\"legend\":{\"tracegroupgap\":0},\"title\":{\"text\":\"Trends on bigquery about wikipedia\"},\"barmode\":\"relative\"},                        {\"responsive\": true}                    ).then(function(){\n",
              "                            \n",
              "var gd = document.getElementById('6d605616-5256-403c-9fd9-c1fcef747337');\n",
              "var x = new MutationObserver(function (mutations, observer) {{\n",
              "        var display = window.getComputedStyle(gd).display;\n",
              "        if (!display || display === 'none') {{\n",
              "            console.log([gd, 'removed!']);\n",
              "            Plotly.purge(gd);\n",
              "            observer.disconnect();\n",
              "        }}\n",
              "}});\n",
              "\n",
              "// Listen for the removal of the full notebook cells\n",
              "var notebookContainer = gd.closest('#notebook-container');\n",
              "if (notebookContainer) {{\n",
              "    x.observe(notebookContainer, {childList: true});\n",
              "}}\n",
              "\n",
              "// Listen for the clearing of the current output cell\n",
              "var outputEl = gd.closest('.output');\n",
              "if (outputEl) {{\n",
              "    x.observe(outputEl, {childList: true});\n",
              "}}\n",
              "\n",
              "                        })                };                            </script>        </div>\n",
              "</body>\n",
              "</html>"
            ]
          },
          "metadata": {}
        }
      ],
      "source": [
        "df = pd.read_csv('wikipedia.csv')\n",
        "\n",
        "fig = px.histogram(df, x = 'word', y = 'c', title=f'Trends on bigquery about wikipedia', template = 'plotly_white', color_discrete_sequence=['chocolate'])\n",
        "fig.show()"
      ]
    },
    {
      "cell_type": "markdown",
      "metadata": {
        "id": "YEiscOheriwd"
      },
      "source": [
        "**Now extracting sentiments from above analysis**"
      ]
    },
    {
      "cell_type": "code",
      "execution_count": 95,
      "metadata": {
        "id": "6hPfGJ-sriwd"
      },
      "outputs": [],
      "source": [
        "import pandas as pd            \n",
        "from textblob import TextBlob  \n",
        "from itertools import islice   \n",
        "def to_lower(data):\n",
        "    return data.lower()"
      ]
    },
    {
      "cell_type": "code",
      "execution_count": 96,
      "metadata": {
        "id": "eSVl6Zdiriwd"
      },
      "outputs": [],
      "source": [
        "df_survey_data = pd.read_csv(\"wikipedia.csv\")\n",
        "\n"
      ]
    },
    {
      "cell_type": "code",
      "execution_count": 97,
      "metadata": {
        "id": "0joWCh0Yriwe"
      },
      "outputs": [],
      "source": [
        "COLS = ['text', 'sentiment','subjectivity','polarity']"
      ]
    },
    {
      "cell_type": "code",
      "execution_count": 98,
      "metadata": {
        "id": "4lXI_8eBriwe"
      },
      "outputs": [],
      "source": [
        "df = pd.DataFrame(columns=COLS)\n"
      ]
    },
    {
      "cell_type": "code",
      "execution_count": 99,
      "metadata": {
        "colab": {
          "base_uri": "https://localhost:8080/"
        },
        "id": "dMft5LYSriwe",
        "outputId": "7553b681-55cb-4123-da15-fd5a5ed50dbf"
      },
      "outputs": [
        {
          "output_type": "execute_result",
          "data": {
            "text/plain": [
              "Index(['word', 'c'], dtype='object')"
            ]
          },
          "metadata": {},
          "execution_count": 99
        }
      ],
      "source": [
        "df_survey_data.columns"
      ]
    },
    {
      "cell_type": "code",
      "execution_count": 100,
      "metadata": {
        "id": "PK6ZiMXIriwe"
      },
      "outputs": [],
      "source": [
        "for index, row in islice(df_survey_data.iterrows(), 0, None):\n",
        "    new_entry = []\n",
        "    text_lower = to_lower(row['word'])\n",
        "    blob = TextBlob(text_lower)\n",
        "    sentiment = blob.sentiment\n",
        "    polarity = sentiment.polarity\n",
        "    subjectivity = sentiment.subjectivity\n",
        "    new_entry += [text_lower,sentiment,subjectivity,polarity]    \n",
        "    single_survey_sentimet_df = pd.DataFrame([new_entry], columns=COLS)\n",
        "    df = df.append(single_survey_sentimet_df, ignore_index=True, sort=True)\n"
      ]
    },
    {
      "cell_type": "code",
      "execution_count": 101,
      "metadata": {
        "id": "Z9HckxSKriwe"
      },
      "outputs": [],
      "source": [
        "df.to_csv('sentiments_lower.csv', mode='w', columns=COLS, index=False, encoding='utf-8')"
      ]
    },
    {
      "cell_type": "code",
      "execution_count": 102,
      "metadata": {
        "colab": {
          "base_uri": "https://localhost:8080/",
          "height": 206
        },
        "id": "kLWP66sTriwe",
        "outputId": "fa41e4de-aa4d-4630-e276-fd580699841b"
      },
      "outputs": [
        {
          "output_type": "execute_result",
          "data": {
            "text/plain": [
              "   polarity   sentiment  subjectivity       text\n",
              "0       0.0  (0.0, 0.0)           0.0  wikipedia\n",
              "1       0.0  (0.0, 0.0)           0.0        org\n",
              "2       0.0  (0.0, 0.0)           0.0       wiki\n",
              "3       0.0  (0.0, 0.0)           0.0        war\n",
              "4       0.0  (0.0, 0.0)           0.0     french"
            ],
            "text/html": [
              "\n",
              "  <div id=\"df-49b41a87-66cd-49a7-abac-31d2494f0728\">\n",
              "    <div class=\"colab-df-container\">\n",
              "      <div>\n",
              "<style scoped>\n",
              "    .dataframe tbody tr th:only-of-type {\n",
              "        vertical-align: middle;\n",
              "    }\n",
              "\n",
              "    .dataframe tbody tr th {\n",
              "        vertical-align: top;\n",
              "    }\n",
              "\n",
              "    .dataframe thead th {\n",
              "        text-align: right;\n",
              "    }\n",
              "</style>\n",
              "<table border=\"1\" class=\"dataframe\">\n",
              "  <thead>\n",
              "    <tr style=\"text-align: right;\">\n",
              "      <th></th>\n",
              "      <th>polarity</th>\n",
              "      <th>sentiment</th>\n",
              "      <th>subjectivity</th>\n",
              "      <th>text</th>\n",
              "    </tr>\n",
              "  </thead>\n",
              "  <tbody>\n",
              "    <tr>\n",
              "      <th>0</th>\n",
              "      <td>0.0</td>\n",
              "      <td>(0.0, 0.0)</td>\n",
              "      <td>0.0</td>\n",
              "      <td>wikipedia</td>\n",
              "    </tr>\n",
              "    <tr>\n",
              "      <th>1</th>\n",
              "      <td>0.0</td>\n",
              "      <td>(0.0, 0.0)</td>\n",
              "      <td>0.0</td>\n",
              "      <td>org</td>\n",
              "    </tr>\n",
              "    <tr>\n",
              "      <th>2</th>\n",
              "      <td>0.0</td>\n",
              "      <td>(0.0, 0.0)</td>\n",
              "      <td>0.0</td>\n",
              "      <td>wiki</td>\n",
              "    </tr>\n",
              "    <tr>\n",
              "      <th>3</th>\n",
              "      <td>0.0</td>\n",
              "      <td>(0.0, 0.0)</td>\n",
              "      <td>0.0</td>\n",
              "      <td>war</td>\n",
              "    </tr>\n",
              "    <tr>\n",
              "      <th>4</th>\n",
              "      <td>0.0</td>\n",
              "      <td>(0.0, 0.0)</td>\n",
              "      <td>0.0</td>\n",
              "      <td>french</td>\n",
              "    </tr>\n",
              "  </tbody>\n",
              "</table>\n",
              "</div>\n",
              "      <button class=\"colab-df-convert\" onclick=\"convertToInteractive('df-49b41a87-66cd-49a7-abac-31d2494f0728')\"\n",
              "              title=\"Convert this dataframe to an interactive table.\"\n",
              "              style=\"display:none;\">\n",
              "        \n",
              "  <svg xmlns=\"http://www.w3.org/2000/svg\" height=\"24px\"viewBox=\"0 0 24 24\"\n",
              "       width=\"24px\">\n",
              "    <path d=\"M0 0h24v24H0V0z\" fill=\"none\"/>\n",
              "    <path d=\"M18.56 5.44l.94 2.06.94-2.06 2.06-.94-2.06-.94-.94-2.06-.94 2.06-2.06.94zm-11 1L8.5 8.5l.94-2.06 2.06-.94-2.06-.94L8.5 2.5l-.94 2.06-2.06.94zm10 10l.94 2.06.94-2.06 2.06-.94-2.06-.94-.94-2.06-.94 2.06-2.06.94z\"/><path d=\"M17.41 7.96l-1.37-1.37c-.4-.4-.92-.59-1.43-.59-.52 0-1.04.2-1.43.59L10.3 9.45l-7.72 7.72c-.78.78-.78 2.05 0 2.83L4 21.41c.39.39.9.59 1.41.59.51 0 1.02-.2 1.41-.59l7.78-7.78 2.81-2.81c.8-.78.8-2.07 0-2.86zM5.41 20L4 18.59l7.72-7.72 1.47 1.35L5.41 20z\"/>\n",
              "  </svg>\n",
              "      </button>\n",
              "      \n",
              "  <style>\n",
              "    .colab-df-container {\n",
              "      display:flex;\n",
              "      flex-wrap:wrap;\n",
              "      gap: 12px;\n",
              "    }\n",
              "\n",
              "    .colab-df-convert {\n",
              "      background-color: #E8F0FE;\n",
              "      border: none;\n",
              "      border-radius: 50%;\n",
              "      cursor: pointer;\n",
              "      display: none;\n",
              "      fill: #1967D2;\n",
              "      height: 32px;\n",
              "      padding: 0 0 0 0;\n",
              "      width: 32px;\n",
              "    }\n",
              "\n",
              "    .colab-df-convert:hover {\n",
              "      background-color: #E2EBFA;\n",
              "      box-shadow: 0px 1px 2px rgba(60, 64, 67, 0.3), 0px 1px 3px 1px rgba(60, 64, 67, 0.15);\n",
              "      fill: #174EA6;\n",
              "    }\n",
              "\n",
              "    [theme=dark] .colab-df-convert {\n",
              "      background-color: #3B4455;\n",
              "      fill: #D2E3FC;\n",
              "    }\n",
              "\n",
              "    [theme=dark] .colab-df-convert:hover {\n",
              "      background-color: #434B5C;\n",
              "      box-shadow: 0px 1px 3px 1px rgba(0, 0, 0, 0.15);\n",
              "      filter: drop-shadow(0px 1px 2px rgba(0, 0, 0, 0.3));\n",
              "      fill: #FFFFFF;\n",
              "    }\n",
              "  </style>\n",
              "\n",
              "      <script>\n",
              "        const buttonEl =\n",
              "          document.querySelector('#df-49b41a87-66cd-49a7-abac-31d2494f0728 button.colab-df-convert');\n",
              "        buttonEl.style.display =\n",
              "          google.colab.kernel.accessAllowed ? 'block' : 'none';\n",
              "\n",
              "        async function convertToInteractive(key) {\n",
              "          const element = document.querySelector('#df-49b41a87-66cd-49a7-abac-31d2494f0728');\n",
              "          const dataTable =\n",
              "            await google.colab.kernel.invokeFunction('convertToInteractive',\n",
              "                                                     [key], {});\n",
              "          if (!dataTable) return;\n",
              "\n",
              "          const docLinkHtml = 'Like what you see? Visit the ' +\n",
              "            '<a target=\"_blank\" href=https://colab.research.google.com/notebooks/data_table.ipynb>data table notebook</a>'\n",
              "            + ' to learn more about interactive tables.';\n",
              "          element.innerHTML = '';\n",
              "          dataTable['output_type'] = 'display_data';\n",
              "          await google.colab.output.renderOutput(dataTable, element);\n",
              "          const docLink = document.createElement('div');\n",
              "          docLink.innerHTML = docLinkHtml;\n",
              "          element.appendChild(docLink);\n",
              "        }\n",
              "      </script>\n",
              "    </div>\n",
              "  </div>\n",
              "  "
            ]
          },
          "metadata": {},
          "execution_count": 102
        }
      ],
      "source": [
        "df.head()"
      ]
    },
    {
      "cell_type": "code",
      "execution_count": 103,
      "metadata": {
        "colab": {
          "base_uri": "https://localhost:8080/",
          "height": 677
        },
        "id": "bGvCEj6Eriwe",
        "outputId": "666b83e0-274c-4bd1-f65f-5f63a128b899"
      },
      "outputs": [
        {
          "output_type": "execute_result",
          "data": {
            "text/plain": [
              "     polarity                                    sentiment  subjectivity  \\\n",
              "18   0.500000                                   (0.5, 0.5)      0.500000   \n",
              "26   0.000000                                   (0.0, 0.4)      0.400000   \n",
              "30  -0.300000                                  (-0.3, 0.5)      0.500000   \n",
              "57   0.000000                                   (0.0, 0.4)      0.400000   \n",
              "70  -0.200000                                  (-0.2, 0.4)      0.400000   \n",
              "73   0.100000                                   (0.1, 0.4)      0.400000   \n",
              "76   0.000000                                  (0.0, 0.05)      0.050000   \n",
              "80   0.400000                                   (0.4, 1.0)      1.000000   \n",
              "81   0.200000                                   (0.2, 0.2)      0.200000   \n",
              "108  0.000000                                   (0.0, 1.0)      1.000000   \n",
              "112  0.400000                                   (0.4, 0.4)      0.400000   \n",
              "121 -0.333333    (-0.3333333333333333, 0.6666666666666666)      0.666667   \n",
              "135  0.433333    (0.43333333333333335, 0.8333333333333334)      0.833333   \n",
              "138  0.033333   (0.03333333333333333, 0.06666666666666667)      0.066667   \n",
              "146 -0.100000                                  (-0.1, 0.1)      0.100000   \n",
              "148 -0.400000                                  (-0.4, 0.6)      0.600000   \n",
              "150 -0.071429  (-0.07142857142857142, 0.21428571428571427)      0.214286   \n",
              "154 -0.166667  (-0.16666666666666666, 0.43333333333333335)      0.433333   \n",
              "161  0.000000                                   (0.0, 0.1)      0.100000   \n",
              "169 -0.250000                                 (-0.25, 0.4)      0.400000   \n",
              "\n",
              "            text  \n",
              "18   interesting  \n",
              "26       related  \n",
              "30        common  \n",
              "57       similar  \n",
              "70          dead  \n",
              "73         young  \n",
              "76       outside  \n",
              "80     important  \n",
              "81        thanks  \n",
              "108       likely  \n",
              "112        sound  \n",
              "121    seriously  \n",
              "135       easily  \n",
              "138       social  \n",
              "146       center  \n",
              "148        worse  \n",
              "150       single  \n",
              "154        black  \n",
              "161       actual  \n",
              "169        small  "
            ],
            "text/html": [
              "\n",
              "  <div id=\"df-746d63b0-9a0f-429d-9cb5-7a98cec5c4bd\">\n",
              "    <div class=\"colab-df-container\">\n",
              "      <div>\n",
              "<style scoped>\n",
              "    .dataframe tbody tr th:only-of-type {\n",
              "        vertical-align: middle;\n",
              "    }\n",
              "\n",
              "    .dataframe tbody tr th {\n",
              "        vertical-align: top;\n",
              "    }\n",
              "\n",
              "    .dataframe thead th {\n",
              "        text-align: right;\n",
              "    }\n",
              "</style>\n",
              "<table border=\"1\" class=\"dataframe\">\n",
              "  <thead>\n",
              "    <tr style=\"text-align: right;\">\n",
              "      <th></th>\n",
              "      <th>polarity</th>\n",
              "      <th>sentiment</th>\n",
              "      <th>subjectivity</th>\n",
              "      <th>text</th>\n",
              "    </tr>\n",
              "  </thead>\n",
              "  <tbody>\n",
              "    <tr>\n",
              "      <th>18</th>\n",
              "      <td>0.500000</td>\n",
              "      <td>(0.5, 0.5)</td>\n",
              "      <td>0.500000</td>\n",
              "      <td>interesting</td>\n",
              "    </tr>\n",
              "    <tr>\n",
              "      <th>26</th>\n",
              "      <td>0.000000</td>\n",
              "      <td>(0.0, 0.4)</td>\n",
              "      <td>0.400000</td>\n",
              "      <td>related</td>\n",
              "    </tr>\n",
              "    <tr>\n",
              "      <th>30</th>\n",
              "      <td>-0.300000</td>\n",
              "      <td>(-0.3, 0.5)</td>\n",
              "      <td>0.500000</td>\n",
              "      <td>common</td>\n",
              "    </tr>\n",
              "    <tr>\n",
              "      <th>57</th>\n",
              "      <td>0.000000</td>\n",
              "      <td>(0.0, 0.4)</td>\n",
              "      <td>0.400000</td>\n",
              "      <td>similar</td>\n",
              "    </tr>\n",
              "    <tr>\n",
              "      <th>70</th>\n",
              "      <td>-0.200000</td>\n",
              "      <td>(-0.2, 0.4)</td>\n",
              "      <td>0.400000</td>\n",
              "      <td>dead</td>\n",
              "    </tr>\n",
              "    <tr>\n",
              "      <th>73</th>\n",
              "      <td>0.100000</td>\n",
              "      <td>(0.1, 0.4)</td>\n",
              "      <td>0.400000</td>\n",
              "      <td>young</td>\n",
              "    </tr>\n",
              "    <tr>\n",
              "      <th>76</th>\n",
              "      <td>0.000000</td>\n",
              "      <td>(0.0, 0.05)</td>\n",
              "      <td>0.050000</td>\n",
              "      <td>outside</td>\n",
              "    </tr>\n",
              "    <tr>\n",
              "      <th>80</th>\n",
              "      <td>0.400000</td>\n",
              "      <td>(0.4, 1.0)</td>\n",
              "      <td>1.000000</td>\n",
              "      <td>important</td>\n",
              "    </tr>\n",
              "    <tr>\n",
              "      <th>81</th>\n",
              "      <td>0.200000</td>\n",
              "      <td>(0.2, 0.2)</td>\n",
              "      <td>0.200000</td>\n",
              "      <td>thanks</td>\n",
              "    </tr>\n",
              "    <tr>\n",
              "      <th>108</th>\n",
              "      <td>0.000000</td>\n",
              "      <td>(0.0, 1.0)</td>\n",
              "      <td>1.000000</td>\n",
              "      <td>likely</td>\n",
              "    </tr>\n",
              "    <tr>\n",
              "      <th>112</th>\n",
              "      <td>0.400000</td>\n",
              "      <td>(0.4, 0.4)</td>\n",
              "      <td>0.400000</td>\n",
              "      <td>sound</td>\n",
              "    </tr>\n",
              "    <tr>\n",
              "      <th>121</th>\n",
              "      <td>-0.333333</td>\n",
              "      <td>(-0.3333333333333333, 0.6666666666666666)</td>\n",
              "      <td>0.666667</td>\n",
              "      <td>seriously</td>\n",
              "    </tr>\n",
              "    <tr>\n",
              "      <th>135</th>\n",
              "      <td>0.433333</td>\n",
              "      <td>(0.43333333333333335, 0.8333333333333334)</td>\n",
              "      <td>0.833333</td>\n",
              "      <td>easily</td>\n",
              "    </tr>\n",
              "    <tr>\n",
              "      <th>138</th>\n",
              "      <td>0.033333</td>\n",
              "      <td>(0.03333333333333333, 0.06666666666666667)</td>\n",
              "      <td>0.066667</td>\n",
              "      <td>social</td>\n",
              "    </tr>\n",
              "    <tr>\n",
              "      <th>146</th>\n",
              "      <td>-0.100000</td>\n",
              "      <td>(-0.1, 0.1)</td>\n",
              "      <td>0.100000</td>\n",
              "      <td>center</td>\n",
              "    </tr>\n",
              "    <tr>\n",
              "      <th>148</th>\n",
              "      <td>-0.400000</td>\n",
              "      <td>(-0.4, 0.6)</td>\n",
              "      <td>0.600000</td>\n",
              "      <td>worse</td>\n",
              "    </tr>\n",
              "    <tr>\n",
              "      <th>150</th>\n",
              "      <td>-0.071429</td>\n",
              "      <td>(-0.07142857142857142, 0.21428571428571427)</td>\n",
              "      <td>0.214286</td>\n",
              "      <td>single</td>\n",
              "    </tr>\n",
              "    <tr>\n",
              "      <th>154</th>\n",
              "      <td>-0.166667</td>\n",
              "      <td>(-0.16666666666666666, 0.43333333333333335)</td>\n",
              "      <td>0.433333</td>\n",
              "      <td>black</td>\n",
              "    </tr>\n",
              "    <tr>\n",
              "      <th>161</th>\n",
              "      <td>0.000000</td>\n",
              "      <td>(0.0, 0.1)</td>\n",
              "      <td>0.100000</td>\n",
              "      <td>actual</td>\n",
              "    </tr>\n",
              "    <tr>\n",
              "      <th>169</th>\n",
              "      <td>-0.250000</td>\n",
              "      <td>(-0.25, 0.4)</td>\n",
              "      <td>0.400000</td>\n",
              "      <td>small</td>\n",
              "    </tr>\n",
              "  </tbody>\n",
              "</table>\n",
              "</div>\n",
              "      <button class=\"colab-df-convert\" onclick=\"convertToInteractive('df-746d63b0-9a0f-429d-9cb5-7a98cec5c4bd')\"\n",
              "              title=\"Convert this dataframe to an interactive table.\"\n",
              "              style=\"display:none;\">\n",
              "        \n",
              "  <svg xmlns=\"http://www.w3.org/2000/svg\" height=\"24px\"viewBox=\"0 0 24 24\"\n",
              "       width=\"24px\">\n",
              "    <path d=\"M0 0h24v24H0V0z\" fill=\"none\"/>\n",
              "    <path d=\"M18.56 5.44l.94 2.06.94-2.06 2.06-.94-2.06-.94-.94-2.06-.94 2.06-2.06.94zm-11 1L8.5 8.5l.94-2.06 2.06-.94-2.06-.94L8.5 2.5l-.94 2.06-2.06.94zm10 10l.94 2.06.94-2.06 2.06-.94-2.06-.94-.94-2.06-.94 2.06-2.06.94z\"/><path d=\"M17.41 7.96l-1.37-1.37c-.4-.4-.92-.59-1.43-.59-.52 0-1.04.2-1.43.59L10.3 9.45l-7.72 7.72c-.78.78-.78 2.05 0 2.83L4 21.41c.39.39.9.59 1.41.59.51 0 1.02-.2 1.41-.59l7.78-7.78 2.81-2.81c.8-.78.8-2.07 0-2.86zM5.41 20L4 18.59l7.72-7.72 1.47 1.35L5.41 20z\"/>\n",
              "  </svg>\n",
              "      </button>\n",
              "      \n",
              "  <style>\n",
              "    .colab-df-container {\n",
              "      display:flex;\n",
              "      flex-wrap:wrap;\n",
              "      gap: 12px;\n",
              "    }\n",
              "\n",
              "    .colab-df-convert {\n",
              "      background-color: #E8F0FE;\n",
              "      border: none;\n",
              "      border-radius: 50%;\n",
              "      cursor: pointer;\n",
              "      display: none;\n",
              "      fill: #1967D2;\n",
              "      height: 32px;\n",
              "      padding: 0 0 0 0;\n",
              "      width: 32px;\n",
              "    }\n",
              "\n",
              "    .colab-df-convert:hover {\n",
              "      background-color: #E2EBFA;\n",
              "      box-shadow: 0px 1px 2px rgba(60, 64, 67, 0.3), 0px 1px 3px 1px rgba(60, 64, 67, 0.15);\n",
              "      fill: #174EA6;\n",
              "    }\n",
              "\n",
              "    [theme=dark] .colab-df-convert {\n",
              "      background-color: #3B4455;\n",
              "      fill: #D2E3FC;\n",
              "    }\n",
              "\n",
              "    [theme=dark] .colab-df-convert:hover {\n",
              "      background-color: #434B5C;\n",
              "      box-shadow: 0px 1px 3px 1px rgba(0, 0, 0, 0.15);\n",
              "      filter: drop-shadow(0px 1px 2px rgba(0, 0, 0, 0.3));\n",
              "      fill: #FFFFFF;\n",
              "    }\n",
              "  </style>\n",
              "\n",
              "      <script>\n",
              "        const buttonEl =\n",
              "          document.querySelector('#df-746d63b0-9a0f-429d-9cb5-7a98cec5c4bd button.colab-df-convert');\n",
              "        buttonEl.style.display =\n",
              "          google.colab.kernel.accessAllowed ? 'block' : 'none';\n",
              "\n",
              "        async function convertToInteractive(key) {\n",
              "          const element = document.querySelector('#df-746d63b0-9a0f-429d-9cb5-7a98cec5c4bd');\n",
              "          const dataTable =\n",
              "            await google.colab.kernel.invokeFunction('convertToInteractive',\n",
              "                                                     [key], {});\n",
              "          if (!dataTable) return;\n",
              "\n",
              "          const docLinkHtml = 'Like what you see? Visit the ' +\n",
              "            '<a target=\"_blank\" href=https://colab.research.google.com/notebooks/data_table.ipynb>data table notebook</a>'\n",
              "            + ' to learn more about interactive tables.';\n",
              "          element.innerHTML = '';\n",
              "          dataTable['output_type'] = 'display_data';\n",
              "          await google.colab.output.renderOutput(dataTable, element);\n",
              "          const docLink = document.createElement('div');\n",
              "          docLink.innerHTML = docLinkHtml;\n",
              "          element.appendChild(docLink);\n",
              "        }\n",
              "      </script>\n",
              "    </div>\n",
              "  </div>\n",
              "  "
            ]
          },
          "metadata": {},
          "execution_count": 103
        }
      ],
      "source": [
        "df[df['subjectivity']!=0].head(20) # filtering the neutral comments"
      ]
    },
    {
      "cell_type": "code",
      "execution_count": 104,
      "metadata": {
        "colab": {
          "base_uri": "https://localhost:8080/",
          "height": 300
        },
        "id": "b0UZWVnyriwe",
        "outputId": "e467ba62-aaff-4945-f5f4-98c6edce132b"
      },
      "outputs": [
        {
          "output_type": "execute_result",
          "data": {
            "text/plain": [
              "       polarity  subjectivity\n",
              "count  3245.000      3245.000\n",
              "mean      0.003         0.064\n",
              "std       0.135         0.212\n",
              "min      -1.000         0.000\n",
              "25%       0.000         0.000\n",
              "50%       0.000         0.000\n",
              "75%       0.000         0.000\n",
              "max       1.000         1.000"
            ],
            "text/html": [
              "\n",
              "  <div id=\"df-fdaa8623-7505-4f09-b8d4-648164d054f9\">\n",
              "    <div class=\"colab-df-container\">\n",
              "      <div>\n",
              "<style scoped>\n",
              "    .dataframe tbody tr th:only-of-type {\n",
              "        vertical-align: middle;\n",
              "    }\n",
              "\n",
              "    .dataframe tbody tr th {\n",
              "        vertical-align: top;\n",
              "    }\n",
              "\n",
              "    .dataframe thead th {\n",
              "        text-align: right;\n",
              "    }\n",
              "</style>\n",
              "<table border=\"1\" class=\"dataframe\">\n",
              "  <thead>\n",
              "    <tr style=\"text-align: right;\">\n",
              "      <th></th>\n",
              "      <th>polarity</th>\n",
              "      <th>subjectivity</th>\n",
              "    </tr>\n",
              "  </thead>\n",
              "  <tbody>\n",
              "    <tr>\n",
              "      <th>count</th>\n",
              "      <td>3245.000</td>\n",
              "      <td>3245.000</td>\n",
              "    </tr>\n",
              "    <tr>\n",
              "      <th>mean</th>\n",
              "      <td>0.003</td>\n",
              "      <td>0.064</td>\n",
              "    </tr>\n",
              "    <tr>\n",
              "      <th>std</th>\n",
              "      <td>0.135</td>\n",
              "      <td>0.212</td>\n",
              "    </tr>\n",
              "    <tr>\n",
              "      <th>min</th>\n",
              "      <td>-1.000</td>\n",
              "      <td>0.000</td>\n",
              "    </tr>\n",
              "    <tr>\n",
              "      <th>25%</th>\n",
              "      <td>0.000</td>\n",
              "      <td>0.000</td>\n",
              "    </tr>\n",
              "    <tr>\n",
              "      <th>50%</th>\n",
              "      <td>0.000</td>\n",
              "      <td>0.000</td>\n",
              "    </tr>\n",
              "    <tr>\n",
              "      <th>75%</th>\n",
              "      <td>0.000</td>\n",
              "      <td>0.000</td>\n",
              "    </tr>\n",
              "    <tr>\n",
              "      <th>max</th>\n",
              "      <td>1.000</td>\n",
              "      <td>1.000</td>\n",
              "    </tr>\n",
              "  </tbody>\n",
              "</table>\n",
              "</div>\n",
              "      <button class=\"colab-df-convert\" onclick=\"convertToInteractive('df-fdaa8623-7505-4f09-b8d4-648164d054f9')\"\n",
              "              title=\"Convert this dataframe to an interactive table.\"\n",
              "              style=\"display:none;\">\n",
              "        \n",
              "  <svg xmlns=\"http://www.w3.org/2000/svg\" height=\"24px\"viewBox=\"0 0 24 24\"\n",
              "       width=\"24px\">\n",
              "    <path d=\"M0 0h24v24H0V0z\" fill=\"none\"/>\n",
              "    <path d=\"M18.56 5.44l.94 2.06.94-2.06 2.06-.94-2.06-.94-.94-2.06-.94 2.06-2.06.94zm-11 1L8.5 8.5l.94-2.06 2.06-.94-2.06-.94L8.5 2.5l-.94 2.06-2.06.94zm10 10l.94 2.06.94-2.06 2.06-.94-2.06-.94-.94-2.06-.94 2.06-2.06.94z\"/><path d=\"M17.41 7.96l-1.37-1.37c-.4-.4-.92-.59-1.43-.59-.52 0-1.04.2-1.43.59L10.3 9.45l-7.72 7.72c-.78.78-.78 2.05 0 2.83L4 21.41c.39.39.9.59 1.41.59.51 0 1.02-.2 1.41-.59l7.78-7.78 2.81-2.81c.8-.78.8-2.07 0-2.86zM5.41 20L4 18.59l7.72-7.72 1.47 1.35L5.41 20z\"/>\n",
              "  </svg>\n",
              "      </button>\n",
              "      \n",
              "  <style>\n",
              "    .colab-df-container {\n",
              "      display:flex;\n",
              "      flex-wrap:wrap;\n",
              "      gap: 12px;\n",
              "    }\n",
              "\n",
              "    .colab-df-convert {\n",
              "      background-color: #E8F0FE;\n",
              "      border: none;\n",
              "      border-radius: 50%;\n",
              "      cursor: pointer;\n",
              "      display: none;\n",
              "      fill: #1967D2;\n",
              "      height: 32px;\n",
              "      padding: 0 0 0 0;\n",
              "      width: 32px;\n",
              "    }\n",
              "\n",
              "    .colab-df-convert:hover {\n",
              "      background-color: #E2EBFA;\n",
              "      box-shadow: 0px 1px 2px rgba(60, 64, 67, 0.3), 0px 1px 3px 1px rgba(60, 64, 67, 0.15);\n",
              "      fill: #174EA6;\n",
              "    }\n",
              "\n",
              "    [theme=dark] .colab-df-convert {\n",
              "      background-color: #3B4455;\n",
              "      fill: #D2E3FC;\n",
              "    }\n",
              "\n",
              "    [theme=dark] .colab-df-convert:hover {\n",
              "      background-color: #434B5C;\n",
              "      box-shadow: 0px 1px 3px 1px rgba(0, 0, 0, 0.15);\n",
              "      filter: drop-shadow(0px 1px 2px rgba(0, 0, 0, 0.3));\n",
              "      fill: #FFFFFF;\n",
              "    }\n",
              "  </style>\n",
              "\n",
              "      <script>\n",
              "        const buttonEl =\n",
              "          document.querySelector('#df-fdaa8623-7505-4f09-b8d4-648164d054f9 button.colab-df-convert');\n",
              "        buttonEl.style.display =\n",
              "          google.colab.kernel.accessAllowed ? 'block' : 'none';\n",
              "\n",
              "        async function convertToInteractive(key) {\n",
              "          const element = document.querySelector('#df-fdaa8623-7505-4f09-b8d4-648164d054f9');\n",
              "          const dataTable =\n",
              "            await google.colab.kernel.invokeFunction('convertToInteractive',\n",
              "                                                     [key], {});\n",
              "          if (!dataTable) return;\n",
              "\n",
              "          const docLinkHtml = 'Like what you see? Visit the ' +\n",
              "            '<a target=\"_blank\" href=https://colab.research.google.com/notebooks/data_table.ipynb>data table notebook</a>'\n",
              "            + ' to learn more about interactive tables.';\n",
              "          element.innerHTML = '';\n",
              "          dataTable['output_type'] = 'display_data';\n",
              "          await google.colab.output.renderOutput(dataTable, element);\n",
              "          const docLink = document.createElement('div');\n",
              "          docLink.innerHTML = docLinkHtml;\n",
              "          element.appendChild(docLink);\n",
              "        }\n",
              "      </script>\n",
              "    </div>\n",
              "  </div>\n",
              "  "
            ]
          },
          "metadata": {},
          "execution_count": 104
        }
      ],
      "source": [
        "df.describe().round(3)"
      ]
    },
    {
      "cell_type": "code",
      "execution_count": 105,
      "metadata": {
        "colab": {
          "base_uri": "https://localhost:8080/",
          "height": 542
        },
        "id": "EMU_SrwZriwf",
        "outputId": "9407cec6-5d03-4997-85d9-f4cfec722929"
      },
      "outputs": [
        {
          "output_type": "display_data",
          "data": {
            "text/html": [
              "<html>\n",
              "<head><meta charset=\"utf-8\" /></head>\n",
              "<body>\n",
              "    <div>            <script src=\"https://cdnjs.cloudflare.com/ajax/libs/mathjax/2.7.5/MathJax.js?config=TeX-AMS-MML_SVG\"></script><script type=\"text/javascript\">if (window.MathJax) {MathJax.Hub.Config({SVG: {font: \"STIX-Web\"}});}</script>                <script type=\"text/javascript\">window.PlotlyConfig = {MathJaxConfig: 'local'};</script>\n",
              "        <script src=\"https://cdn.plot.ly/plotly-2.8.3.min.js\"></script>                <div id=\"093b98d7-f7ef-41ec-961f-0eb9c959845c\" class=\"plotly-graph-div\" style=\"height:525px; width:100%;\"></div>            <script type=\"text/javascript\">                                    window.PLOTLYENV=window.PLOTLYENV || {};                                    if (document.getElementById(\"093b98d7-f7ef-41ec-961f-0eb9c959845c\")) {                    Plotly.newPlot(                        \"093b98d7-f7ef-41ec-961f-0eb9c959845c\",                        [{\"alignmentgroup\":\"True\",\"box\":{\"visible\":false},\"hovertemplate\":\"subjectivity=%{x}<br>polarity=%{y}<extra></extra>\",\"legendgroup\":\"\",\"marker\":{\"color\":\"#636efa\"},\"name\":\"\",\"offsetgroup\":\"\",\"orientation\":\"v\",\"scalegroup\":\"True\",\"showlegend\":false,\"x\":[0.0,0.0,0.0,0.0,0.0,0.0,0.0,0.0,0.0,0.0,0.0,0.0,0.0,0.0,0.0,0.0,0.0,0.0,0.5,0.0,0.0,0.0,0.0,0.0,0.0,0.0,0.4,0.0,0.0,0.0,0.5,0.0,0.0,0.0,0.0,0.0,0.0,0.0,0.0,0.0,0.0,0.0,0.0,0.0,0.0,0.0,0.0,0.0,0.0,0.0,0.0,0.0,0.0,0.0,0.0,0.0,0.0,0.4,0.0,0.0,0.0,0.0,0.0,0.0,0.0,0.0,0.0,0.0,0.0,0.0,0.4,0.0,0.0,0.4,0.0,0.0,0.05,0.0,0.0,0.0,1.0,0.2,0.0,0.0,0.0,0.0,0.0,0.0,0.0,0.0,0.0,0.0,0.0,0.0,0.0,0.0,0.0,0.0,0.0,0.0,0.0,0.0,0.0,0.0,0.0,0.0,0.0,0.0,1.0,0.0,0.0,0.0,0.4,0.0,0.0,0.0,0.0,0.0,0.0,0.0,0.0,0.6666666666666666,0.0,0.0,0.0,0.0,0.0,0.0,0.0,0.0,0.0,0.0,0.0,0.0,0.0,0.8333333333333334,0.0,0.0,0.0666666666666666,0.0,0.0,0.0,0.0,0.0,0.0,0.0,0.1,0.0,0.6,0.0,0.2142857142857142,0.0,0.0,0.0,0.4333333333333333,0.0,0.0,0.0,0.0,0.0,0.0,0.1,0.0,0.0,0.0,0.0,0.0,0.0,0.0,0.4,0.0,0.0,0.0,0.0,0.0,0.0,0.0,0.0,0.5,0.0,0.0,0.0,0.0,0.0,0.0,0.0,0.0,0.0,0.0,0.0,0.0,0.4285714285714285,0.0,0.0,1.0,0.9,0.0,0.0,0.0,0.0,0.25,0.0,0.0,0.0,0.0,0.0,0.0,0.0,0.0,0.0,0.0,0.0,0.0,0.0,0.0,0.6,0.0,0.0,0.0,0.5,0.0,0.0,0.0,0.0,0.0,0.0,0.0,0.0,0.0,0.0,0.0,0.0,0.0,0.0,0.0,0.4,0.0,0.0,1.0,0.0,0.0,1.0,0.0,0.0,0.4,0.65,0.0,0.0,0.7,0.1,0.0,0.0,0.25,0.0,1.0,0.0,0.0,0.0,0.0,0.0,0.0,0.0,0.0,0.0,0.0,0.4,0.0,0.0,0.0,0.0,1.0,0.0,0.0,0.5,0.0,0.0,0.0,0.0,0.0,0.0,0.0,0.3,0.0,0.8500000000000001,0.0,0.0,0.0,0.0,0.0,0.0,0.0,0.0,0.0,0.0,0.0,0.0,0.0,0.0,0.0,0.0,0.0,0.0,0.0,0.0,0.0,0.0,0.0,0.0,0.0,0.0,0.0,0.0,0.0,0.0,0.0,0.0,0.0,0.0,0.0,0.0,0.6666666666666666,0.0,0.1,0.0,0.0,0.0,0.0,0.0,0.3571428571428571,0.0,0.0,0.0,0.0,1.0,0.0,0.8571428571428571,0.0,1.0,0.0,0.0,0.0,0.0,0.0,0.0,0.0,0.0,0.9,0.0,0.0,0.0,0.0,0.0,0.0,0.0,0.0,0.0,0.0,0.0,0.9,0.0,0.0,0.0,0.0,0.5,0.0,0.0,0.0,0.0,0.0,0.0,0.9,0.0,0.0,0.9,0.0,0.0,0.375,0.0,0.0,0.0,0.0,0.0,0.0,0.0,0.0,0.0,0.0,0.0,0.0,0.0,0.0,0.0,0.0,0.0,0.0,0.0,0.0769230769230769,0.0,0.1,0.0,1.0,0.0,0.0,0.0,0.0,0.0,0.0,0.0,0.0,0.0,0.0,0.0,0.0,0.0,1.0,0.0,0.0,0.4,0.0,0.0,0.0,0.0,0.25,0.0,0.9,0.0,0.0,1.0,0.0,0.0,0.7333333333333333,0.0,0.0,0.0,0.0,0.0,0.0,0.0,0.6666666666666666,0.0,0.0,0.0,0.0,0.75,0.4,0.0,0.0,0.0,0.0,0.0,0.5,0.0,0.0,0.0,0.0,0.0,0.0,0.0,0.0,0.0,0.0,0.6,0.0,0.35,0.0,0.0,0.0,0.0,0.0,0.0,0.0,0.0,0.0,0.0,0.6,0.0,0.3333333333333333,0.0,0.0,0.0,0.0,0.9,0.0,1.0,0.0,0.9,0.0,0.0,0.3,0.0,0.0,0.0,0.0,0.0,0.1,0.0,0.0,0.0,0.0,0.0,0.0,0.0,0.1,0.0,0.0,0.0,0.0,0.0,0.0,0.0,0.0,0.0,0.0,0.0,0.0,0.0,0.0,0.0,0.0,0.0,0.0,0.9,0.0,0.0,0.0,0.0,0.0,0.0,0.0,0.0,0.3333333333333333,0.0,0.0,0.0,0.0,0.1,0.7,0.0,0.3333333333333333,0.0,0.0,0.0,0.0,0.0,0.0,0.0,0.0,0.0,0.0,0.0,0.0,0.0,0.0,0.1,0.0,0.0,0.0,0.0,0.6,0.0,0.0,0.0,0.05,0.0,0.3333333333333333,0.0,0.0,0.0,0.0,0.0,0.0,0.0,0.0,0.0,0.0,0.0,0.0,0.125,0.0,0.0,0.0,0.0,0.0,0.0,0.6499999999999999,0.0,0.0,0.2,0.0,0.0,0.0,0.0,0.0,0.0,0.0,0.0,0.0,0.3125,0.0,0.0,0.0,0.5714285714285714,0.0,0.0,0.0,0.0,0.25,0.0,0.0,0.0,0.0,0.0,0.0,0.0,0.0,0.0,0.0,0.0,0.0,0.0,0.0,0.0,0.0,0.0,0.0,0.0,0.0,0.5,0.0,1.0,0.2,0.0,0.0,0.0,0.0,0.0,0.0,0.0,0.0,0.0,0.0,0.0,0.0,0.0,0.0,0.0,0.0,0.0,0.0,0.0,0.0,0.0,0.0,0.0,0.0,0.0,0.0,0.0,0.1666666666666666,0.0,0.0,0.0,0.0,0.0,0.0,0.25,0.3333333333333333,0.0,0.3,0.0,0.5,0.0,0.0,0.0,0.0,0.0,0.0,0.0,0.0,0.0,0.0,0.0,0.0,0.0,0.0,0.0,0.0,0.0,0.4,0.0,0.0,1.0,0.0,1.0,0.95,0.0,0.0,0.0,0.0,0.0,0.0,0.0,0.0,0.0,0.0,0.1,1.0,0.0,0.1,0.0,0.0,0.0,0.0,0.0,0.0,0.0,0.0,0.0,0.0,0.0,0.0,0.0,0.0,1.0,0.0,0.0,0.0,0.25,0.0,0.0,0.0,0.0,0.0,0.7,0.9,0.0,0.0,0.0,0.0,0.6428571428571429,0.0,0.0,0.0,0.0,0.0,0.0,0.0,0.125,0.0,0.0,0.0,0.0,0.0,0.0,0.0,0.9,0.0,0.0,0.0,0.0,0.0,0.0,0.0,0.0,0.0,0.0,0.0,0.0,0.0,0.0,0.0,1.0,0.8,0.5,0.5,0.0,0.0,0.0,1.0,0.0,0.0,0.0,0.0,0.0,0.0,0.0,0.0,0.0,0.0,0.0,0.0,0.0,0.0,0.25,0.0,0.0,0.0,0.0,0.0,0.0,0.0,0.0,0.0,0.0,0.0,1.0,0.0,0.0,0.0,0.0,0.0,0.0,0.0,0.0,0.0,0.0,0.0,0.1,0.0,0.0,0.0,0.0,0.0,0.0,0.0,0.0,0.0,0.0,0.0,0.9,0.0,0.0,1.0,0.0,0.0,0.0,0.0,0.0,0.0,0.0,0.0,0.0,0.0,0.5,0.0,0.5,0.0,0.0,0.0,0.0,0.0,1.0,0.0,0.0,0.6666666666666666,0.0,0.0,0.0,0.0,0.0,0.0,0.0,0.0,0.0,0.0,0.0,1.0,0.0,0.5,0.0,1.0,0.0,0.0,0.5714285714285714,0.0,0.4,0.0,0.0,0.0,0.0,1.0,0.0,0.0,0.0,0.0,0.0,0.0,0.0,0.0,0.0,0.0,0.0,0.0,0.0,0.8,0.0,0.0,0.0,0.0,0.0,0.0,0.4,0.0,0.0,0.0,0.0,0.0,0.5,0.0,0.0,0.0,0.0,0.0,0.0,0.0,0.0,0.0,0.0,0.0,0.0,0.75,0.0,0.0,0.0,0.0,0.0,0.0,0.0,0.0,0.0,0.75,0.55,0.625,0.0,0.0,0.0,0.0,0.8,0.0,0.0,0.0,0.0,0.0,0.0,0.0,0.0,0.0,0.0,0.0,0.3,0.0,0.0,0.0,0.0,0.0,0.0,0.0,0.0,0.0,0.1,0.0,0.0,0.0,0.0,0.0,0.0,0.0,0.0,0.3833333333333333,0.0,0.0,0.7,0.0,0.0,0.0,0.4,0.0,0.0,0.0,0.0,0.0,0.0666666666666666,0.1,0.0,0.0,0.0,0.0,0.4,0.0,0.0,0.0,0.0,0.0,0.0,0.0,0.0,0.6499999999999999,0.5,0.0,0.0,0.0,0.0,0.0,0.0,0.0,0.0,0.3,0.7,0.3833333333333333,0.0,0.0,0.0,0.0,0.25,0.0,0.0,0.5,0.0,0.0,0.0,0.0,0.0,0.0,0.0,0.0,1.0,0.0,0.0,0.0,0.0,0.0,0.0,0.0,0.0,0.0,0.0,0.5,0.0,0.0,0.0,0.0,0.0,0.0,0.0,0.0,0.0,0.0,0.0,0.0,0.0,0.0,0.0,0.0,0.0,0.0,0.0,0.0,1.0,0.0,0.0,0.0,0.0,0.5,0.0,0.0,0.0,0.0,0.0,0.0,0.0,0.0,0.0,0.0,0.0,0.0,0.0,0.0,0.0,0.0,0.0,0.0,0.0,0.0,0.0,0.0,0.0,0.0,0.0,0.0,0.0,0.0,0.0,0.0,0.0,0.0,0.0,0.0,0.0,0.0,0.0,0.0,0.0,0.0,0.0,0.0,0.0,0.0,0.0,0.0,0.0,0.0,0.0,0.0,0.0,0.0,0.0,0.0,0.0,0.0,0.0,0.0,0.0,0.0,0.0,0.0,0.0,0.0,0.0,0.0,0.0,0.0,0.0,0.0,0.1,0.0,0.0,0.0,0.0,0.05,0.8333333333333334,0.0,0.0,0.0,1.0,0.0,0.0,0.4,0.0,0.0,0.0,0.0,0.0,0.0,0.0,0.0,0.0,0.0,1.0,0.0,0.0,0.0,0.0,0.0,0.0,0.1,0.0,1.0,0.0,0.0,0.0,0.0,0.0,1.0,0.0,0.0,0.0,0.0,0.0,0.0,0.0,0.0,0.0,0.0,0.0,0.1,0.0,0.0,0.0,0.0,0.0,0.0,0.0,0.0,0.0,0.0,0.0,0.0,0.0,0.0,0.0,0.0,0.0,0.0,0.0,0.0,0.0,0.0,0.5,0.1,0.0,0.0,0.0,0.0,0.0,0.0,0.0,0.0,0.0,0.0,0.0,0.0,0.0,0.0,0.0,0.0,0.0,0.0,0.0,0.0,0.0,0.0,0.0,0.0,0.9,0.0,0.0,0.0,0.0,0.0,0.0,0.0,0.0,0.0,0.6,0.0,0.0,0.5,0.0,0.0,0.0,0.0,0.0,0.0,0.0,0.0,0.0,0.0,0.0,0.0,0.0,0.0,0.0,0.0,0.0,0.0,0.0,0.0,0.0,0.75,0.0,0.0,0.0,0.0,0.0,0.0,0.0,0.0,0.0,0.0,0.9,0.0,0.0,0.0,0.0,0.0,0.0,0.0,0.0,0.0,0.0,0.0,0.0,0.0,0.0,0.0,0.9,0.0,0.0,0.0,0.0,0.0,0.0,0.0,0.0,1.0,0.0,0.0,0.0,1.0,0.0,0.0,0.5,0.0,0.0,0.0,0.0,0.0,0.0,0.0,0.0,0.0,0.0,0.0,0.0,0.0,0.0,0.0,0.0,0.0,0.0,0.0,0.0,0.0,0.0,0.0,0.0,0.0,0.0,0.0,0.0,0.0,0.0,0.0,0.0,0.0,0.0,0.0,0.0,0.0,0.4,0.0,0.0,0.0,0.0,0.0,0.0,0.0,0.0,0.0,0.0,0.0,0.0,0.0,0.0,0.0,0.0,0.0,0.0,0.0,0.0,0.0,0.0,0.0,0.0,0.0,0.0,1.0,0.0769230769230769,0.0,0.0,0.0,0.0,0.0,0.0,0.0,0.0,0.0,0.0,1.0,0.0,0.0,1.0,0.0,0.0,0.0,0.0,0.0,0.0,0.0,0.0,0.0,0.0,0.0,0.0,0.0,1.0,0.0,0.0,0.0,0.0,0.125,0.0,0.0,0.0,0.0,0.0,0.0,0.0,0.0,0.0,1.0,0.0,0.0,0.0,0.0,0.0,0.0,0.3333333333333333,0.0,0.0,0.0,0.0,0.0,0.0,0.0,0.4,0.0,0.0,0.0,0.0,0.0,0.0,0.0,0.6,0.0,0.0,0.0,0.0,0.0,0.0,0.0,0.0,0.7,0.0,0.0,0.0,0.0,0.0,0.0,0.0,0.0,0.0,0.0,0.0,1.0,0.0,0.0,0.0,0.0,0.0,0.0,0.0,0.0,0.0,0.0,0.0,0.0,0.0,0.0,0.0,0.0,0.0,0.0,0.0,0.0,0.0,0.0,0.0,0.0,0.0,0.0,0.0,0.0,0.0,0.0,0.0,0.0,0.0,0.0,0.0,0.0,0.0,0.0,0.0,0.0,0.0,0.0,0.0,0.0,0.0,0.0,0.0,0.0,0.0,0.0,0.0,0.0,0.0,0.0,0.0,0.0,0.0,0.0,0.0,0.0,0.0,0.0,0.0,0.0,1.0,0.0,0.0,0.0,0.0,0.0,0.0,0.0,0.0,0.0,0.75,0.0,0.0,0.0,0.0,0.0,0.0,0.0,0.0,0.0,0.0,0.0,0.0,0.0,0.0,0.0,0.0,0.0,0.0,0.0,0.0,0.0,0.0,0.0,0.5,0.0,0.0,0.0,0.0,0.0,0.0,0.0,0.0,0.0,0.0,0.0,0.8,0.0,0.0,0.0,0.0,0.0,0.0,0.0,0.0,0.0,0.0,0.0,0.0,0.0,0.0,0.0,0.0,1.0,0.0,0.0,0.0,0.0,0.0,0.0,0.0,0.0,0.0,0.0,0.0,0.0,0.0,0.0,0.0,0.0,0.0,0.0,0.0,0.0,0.0,0.0,0.0,0.8,0.0,0.0,0.0,0.0,0.0,0.0,0.0,0.0,0.0,0.0,0.0,0.0,0.0,0.0,0.0,0.0,0.5,0.0,0.0,0.0,0.0,0.0,0.0,0.0,0.9,0.0,0.0,0.0,0.0,0.0,0.0,0.0,0.0,0.0,0.0,0.0,0.0,0.0,0.0,0.0,0.75,0.0,0.0,0.0,0.0,0.0,0.4,0.0,0.0,1.0,0.0,0.0,0.0,0.0,0.0,0.0,0.0,0.0,0.0,0.0,0.0,0.0,0.0,0.0,0.0,0.0,0.0,0.0,0.0,0.0,0.0,0.0,0.0,0.0,0.0,0.0,0.0,0.0,0.0,0.4,0.0,0.0,0.0,0.9,0.0,0.0,0.0,0.0,0.0,0.0,0.0,0.0,0.0,0.0,0.0,0.0,0.0,0.0,0.0,0.0,0.0,0.0,0.0,0.0,0.0,0.0,0.0,0.0,0.0,0.0,0.0,0.0,0.0,0.0,0.9666666666666668,0.0,0.0,0.0,0.1,0.0,0.0,0.0,0.0,0.0,0.0,0.0,0.0,0.0,1.0,0.0,1.0,0.0,0.0,0.0,0.0,0.0,1.0,0.0,0.0,0.0,0.0,0.0,0.0,0.0,0.0,0.0,0.0,0.0,0.0,0.0,0.0,0.0,0.0,0.0,0.0,0.0,0.0,0.0,0.0,0.0,0.0,0.0,0.0,0.0,0.0,0.8333333333333334,0.0,0.0,0.0,0.0,0.0,0.0,0.0,0.0,0.0,0.0,0.0,0.0,0.0,0.0,0.0,0.0,0.0,0.3,0.0,0.0,0.0,0.5,0.0,0.0,0.0,0.0,0.0,0.0,0.0,0.5,0.0,0.0,0.0,0.0,0.0,0.0,0.0,0.0,0.75,0.0,0.0,0.0,0.0,0.0,0.0,0.0,0.0,0.0,0.0,0.0,0.0,0.0,0.0,0.0,0.0,0.0,0.0,0.8333333333333334,0.0,1.0,0.0,0.0,0.0,0.0,0.0,0.0,0.0,0.0,0.0,0.0,0.0,0.0,0.0,0.3333333333333333,0.0,0.0,0.0,0.0,0.0,1.0,0.0,0.0,0.0,0.0,0.0,0.0,0.0,0.0,0.0,0.0,0.0,0.0,0.0,0.0,0.0,0.0,1.0,0.0,0.0,0.0,0.0,0.0,0.0,0.0,0.0,0.0,0.0,0.0,0.0,0.0,0.0,1.0,0.0,0.0,0.0,0.0,0.0,0.0,0.0,0.95,0.0,0.0,0.0,0.0,0.0,0.0,0.9,0.0,0.0,0.0,0.0,0.0,0.0,0.0,0.0,0.0,0.0,0.0,0.0,0.0,0.0,0.0,0.0,0.0,0.0,0.0,0.0,0.375,0.6,0.0,0.0,0.0,0.8,0.0,0.0,0.0,0.9,0.0,0.0,0.0,0.0,0.4,0.0,0.0,0.0,0.0,0.0,0.0,0.0,0.0,0.0,0.0,0.0,0.0,0.0,0.0,0.0,0.0,0.0,0.0,0.0,0.0,1.0,0.0,0.0,0.0,0.0,1.0,0.0,0.0,0.0,0.0,0.0,0.0,0.0,0.0,0.0,0.0,0.0,0.0,0.0,0.0,0.0,0.0,1.0,0.0,0.0,0.0,0.0,0.1,0.0,0.0,0.0,0.0,0.0,0.0,0.0,0.0,0.0,0.0,0.0,0.0,0.0,0.0,1.0,0.0,0.0,0.0,0.0,0.0,0.0,0.0,0.0,0.0,0.0,0.0,0.3,0.0,0.0,0.0,0.0,0.0,0.0,0.0,0.0,0.0,0.0,0.0,0.0,0.0,0.0,0.0,0.0,0.0,0.0,0.0,0.0,0.0,0.0,0.0,0.8,0.0,0.0,0.0,0.0,0.0,0.0,0.0,0.0,0.0,0.0,0.0,0.0,0.0,0.0,0.0,0.0,0.0,0.0,0.0,0.0,0.0,0.0,0.0,0.0,0.0,0.0,1.0,0.0,0.4,0.0,0.0,0.0,0.0,0.0,0.0,0.0,0.0,0.0,0.0,0.0,0.0,0.0,0.0,0.0,0.0,0.0,0.0,0.0,0.0,0.5,0.0,0.0,0.0,0.0,0.0,0.0,0.0,0.0,0.0,0.0,0.0,0.0,0.0,0.0,0.0,0.0,0.0,0.4,0.0,0.0,0.0,0.0,0.0,0.0,0.0,0.25,0.1,0.8500000000000001,0.0,0.0,0.0,0.0,0.0,0.0,0.0,0.0,0.0,0.0,0.0,0.0,0.0,0.0,0.0,0.0,0.0,0.0,0.0,0.0,0.0,0.65,0.0,0.0,0.0,0.0,0.0,0.0,0.0,0.0,0.0,0.0,0.0,0.0,0.0,0.0,0.0,0.0,0.0,0.0,0.0,0.1,0.0,0.0,0.0,0.0,0.0,0.0,0.0,0.0,0.5,0.0,0.0,0.0,0.0,0.0,0.0,0.7,0.0,0.0,0.0,0.0,0.0,0.0,0.0,0.0,0.0,0.0,0.75,0.0,0.0,0.7333333333333333,0.0,0.0,0.0,0.0,0.0,0.0,0.0,0.5399999999999999,0.0,0.0,0.0,0.0,0.0,0.0,0.0,0.0,0.0,0.0,0.0,0.0,0.0,0.0,0.0,0.0,0.0,0.0,0.0,0.0,0.0,0.0,0.0,0.0,0.0,0.0,0.0,0.0,0.0,0.5,0.0,1.0,0.0,0.0,0.0,0.0,0.0,0.0,0.0,0.8,0.0,0.0,0.0,0.0,0.0,0.0,0.0,0.0,0.0,0.0,0.0,0.0,0.0,0.0,0.0,0.0,0.0,0.0,0.0,0.0,0.0,0.0,0.0,0.0,0.0,0.0,0.0,0.0,0.0,0.0,0.0,0.0,0.0,0.0,0.0,0.0,0.0,0.0,0.0,0.0,0.0,0.0,0.0,0.0,0.0,0.0,0.0,0.0,0.0,0.4,0.0,0.0,0.5,0.0,0.9,0.0,0.0,0.0,0.0,0.7,0.0,0.0,0.0,0.0,0.0,0.0,0.0,0.0,0.0,0.0,0.0,0.7000000000000001,0.0,0.0,0.0,0.0,0.0,0.0,0.0,0.0,0.0,0.0,0.0,0.0,0.0,0.0,0.0,0.0,0.0,0.25,0.0,0.0,0.0,0.0,0.0,0.0,0.0,0.0,0.0,1.0,0.0,0.0,0.0,0.0,0.0,0.0,0.0,0.0,0.0,0.0,0.0,0.0,0.0,0.0,0.0,0.0,0.0,0.0,0.0,0.0,0.0,1.0,0.0,0.0,0.0,0.0,0.0,0.0,0.0,0.0,0.0,0.0,0.0,0.0,0.0,0.0,0.0,0.0,0.0,0.0,0.0,0.0,0.0,0.0,0.0,0.0,0.0,0.0,0.0,0.0,0.0,0.0,0.0,0.0,0.0,0.0,0.0,0.0,0.0,0.0,0.0,0.0,0.0,0.0,0.0,0.0,0.0,0.0,0.0,0.0,0.0,0.0,0.0,0.5,0.0,0.0,0.0,0.0,0.0,0.1,0.0,0.0,0.0,0.0,0.0,0.0,0.0,0.0,0.0,0.0,0.0,0.0,0.0,0.0,0.0,0.0,0.0,0.0,0.0,0.0,0.0,0.0,1.0,0.0,0.0,0.0,0.0,0.9,0.05,0.0,0.0,0.0,0.0,0.0,0.9,0.0,0.0,0.6,0.0,0.0,0.0,0.0,1.0,0.0,0.0,0.0,0.0,0.05,0.0,0.0,0.0,0.0,0.0,0.7,0.0,0.0,0.4,0.0,0.0,0.0,0.0,0.0,0.0,0.0,0.0,0.0,0.0,0.0,0.0,0.0,0.0,0.0,0.0,0.0,0.0,0.0,0.0,0.0,1.0,0.0,0.0,0.0,0.0,0.0,0.0,0.0,0.0,0.0,0.0,0.0,0.3,0.0,0.0,0.0,0.0,0.9,0.5,0.9,0.0,0.0,0.0,1.0,0.0,0.0,0.0,0.0,0.0,0.0,0.0,0.0,0.0,0.0,0.0,0.0,0.2,0.5714285714285714,0.4,0.0,0.0,0.0,0.0,0.0,0.0,0.2,0.0,0.0,0.0,0.75,0.0,0.0,0.125,0.0,0.0,0.0,0.0,0.0,0.0,0.0,0.0,0.3333333333333333,0.0,0.0,0.0,0.0,0.0,0.0,0.0,0.0,0.0,0.0,0.0,0.0,0.0,0.0,0.0,0.0,0.0,0.0,0.0,0.0,0.0,0.0,0.0,0.0,0.0,0.0,0.0,0.0,0.0,0.0,0.0,0.0,0.0,0.0,0.0,0.0,0.0,0.0,0.0,0.0,0.0,1.0,0.0,0.0,0.0,0.0,0.0,0.0,0.0,0.0,0.0,0.0,0.0,0.0,0.0,0.0,0.0,0.0,0.0,0.0,0.0,0.6,0.0,0.0,0.0,0.0,0.0,1.0,0.0,0.0,0.1666666666666666,0.0,0.0,0.0,0.0,0.0,0.0,0.0,0.0,0.0,0.0,0.6,0.0,0.0,0.0,0.0,0.0,0.0,0.0,0.0,0.0,0.0,0.0,0.0,0.1,0.0,0.0,0.6,0.0,0.0,0.0,0.0,0.0,0.0,0.0,0.0,0.0,0.0,0.0,0.0,0.0,0.0,0.0,0.0,0.0,0.0,0.0,0.0,0.0,0.0,0.0,0.0,0.0,0.0,0.0,0.0,0.0,0.0,0.0,0.0,0.0,0.0,0.5,0.0,0.0,0.0,0.0,0.0,0.0,0.0,0.0,0.5,0.0,0.0,0.0,0.0,0.0,0.0,0.0,0.0,0.4,0.0,0.0,0.0,0.0,0.0,0.0,0.0,0.0,0.0,0.0,0.0,0.0,0.0,0.0,0.0,0.0,0.0,0.0,0.0,0.0,0.1666666666666666,0.0,0.0,0.0,0.0,0.0,0.0,0.0,0.0,0.0,0.0,0.0,0.0,0.0,0.0,0.0,0.0,0.0,0.0,0.0,0.0,0.9,0.0666666666666666,0.0,0.0,0.0,0.0,0.0,0.0,0.7,0.0,0.0,0.2166666666666666,0.125,0.0,0.0,0.0,0.0,0.0,0.0,0.0,0.0,0.0,0.0,0.0,0.0,0.0,0.0,0.0,0.0,0.0,0.0,0.0,1.0,0.0,0.0,0.0,0.0,0.0,0.0,0.0,0.0,0.0,0.0,0.0,0.0,0.0,0.0,0.0,0.0,0.0,0.0,0.0,0.0,0.0,0.0,0.0,0.0,0.0,0.0,0.0,0.0,0.3,0.0,0.0,0.2692307692307692,0.0,0.0,0.0,0.0,0.0,0.0,0.0,0.0,0.0,0.0,0.0,0.0,0.0,0.0,0.0,0.0,0.0,0.0,0.0,0.0,1.0,0.0,0.0,0.0,0.0,0.0,0.0,0.0,0.0,0.0,0.0,0.0,0.0,0.0,0.0,0.3333333333333333,0.0,0.0,0.0,0.0,1.0,0.0,0.0,0.9,0.0,0.0,0.0,0.0,0.0,0.0,0.0,0.0,0.0,0.0,1.0,0.0,0.0,0.0,0.0,0.0,0.0,0.0,0.0,0.0,0.0,0.0,0.0,0.0,0.0,0.0,0.0,0.0,0.0,0.0,0.0,0.0,0.0,0.0,0.0,0.0,0.0,0.0,0.3571428571428571,1.0,0.0,0.0,0.0,0.0,0.0,0.0,0.0,0.0,0.0,0.0,0.0,0.0,0.3,0.0,0.0,1.0,0.0,0.0,0.0,0.0,0.0,0.0,0.0,0.0,0.0,0.0,0.0,0.0,0.0,0.0,0.0,0.0,0.5,0.0,0.0,0.0,0.1428571428571428,0.0,0.0,0.0,1.0,0.0,0.0,0.0,0.0,0.0,0.0,0.0,0.0,0.0,0.0,0.0,0.0,0.0,0.0,0.0,0.0,0.0,0.0,0.0,0.0,0.0,0.0,0.4,0.0,0.0,0.0,0.0,0.0,0.9,0.0,0.0,0.0,1.0,0.0,0.0,0.0,0.0,0.0,0.0,0.0,0.0,0.0,0.0,0.0,0.9,0.0,0.0,0.0,0.4,0.0,0.0,0.0,0.0,0.0,0.0,0.0,0.4,0.0,0.0,0.0,0.0,0.0,0.0,0.0,0.0,0.0,0.0,0.0,0.6666666666666666,0.0,0.0,0.0,0.0,0.0,0.0,0.0,0.0,0.0,0.0,0.0,0.0,0.0,0.0,0.0,0.0,0.0,1.0,0.0,0.0,0.0,0.0,0.0,0.0,0.1,0.0,0.0,0.05,0.0,0.0,0.0,0.0,0.0,0.0,0.0,0.0,0.0,0.0,0.0,0.0,0.3,0.0,0.0,0.0,0.0,0.0,1.0,0.0,0.8333333333333334,0.0,0.0,0.0,0.0,0.0,0.0,0.0,0.0,0.0,0.0,0.0,0.0,0.0,0.0,0.0,0.0,0.9,0.0,0.1,0.0,0.4,0.0,0.0,0.0,0.0,0.0,0.0,0.0,0.0,0.0,0.0,1.0,0.0,0.0,0.0,0.0,0.0,0.0,0.0,0.0,0.375,0.0,0.0,0.0,0.0,0.0,0.0,0.0,0.0,0.0,0.0,0.0,0.0,0.0,0.0,0.0,1.0,0.0,0.0,0.0,0.0,0.0,0.0,0.0,0.0,0.0,0.0,0.0,0.0,0.0,0.5,0.0,0.0,0.7,0.0,0.0,0.0,0.0,0.0,0.0,0.0,0.0,0.0,0.0,0.0,0.0,0.0,0.0,0.0,0.0,0.0,0.0,0.0,0.0,0.0,0.0,0.0,0.0,0.0,0.0,0.0,0.0,0.0,0.75,0.0,0.0,0.0,0.0,0.0,0.0,0.0,0.0,0.0,0.0,0.0,0.0,0.0,0.0,0.0,0.0,0.0,0.0,0.0,0.0,0.0,0.8,0.5,0.0,0.0,0.0,0.0,0.4,0.0,0.0,0.0,0.0,0.0,1.0,0.0,0.0,0.0,0.0,0.0,0.0,0.6666666666666666,0.0,0.0,0.25,0.8,0.0,0.0,0.0,0.0,0.0,0.0,0.0,0.0,0.0,0.0,0.0,0.0,0.0,0.0,0.0,0.0,0.0,0.0,0.0,0.0,0.0,0.0,0.0,0.0,0.0,0.0,0.0,0.0,0.0,0.0,0.0,0.0,0.0,0.0],\"x0\":\" \",\"xaxis\":\"x\",\"y\":[0.0,0.0,0.0,0.0,0.0,0.0,0.0,0.0,0.0,0.0,0.0,0.0,0.0,0.0,-0.2,0.0,0.0,0.0,0.5,0.0,0.0,0.0,0.0,0.0,0.0,0.0,0.0,0.0,0.0,0.0,-0.3,0.0,0.0,0.0,0.0,0.0,0.0,0.0,0.0,0.0,0.0,0.0,0.0,0.0,0.0,0.0,0.0,0.0,0.0,0.0,0.0,0.0,0.0,0.0,0.0,0.0,0.0,0.0,0.0,0.0,0.0,0.0,0.0,0.0,0.0,0.0,0.0,0.0,0.0,0.0,-0.2,0.0,0.0,0.1,0.0,0.0,0.0,0.0,0.0,0.0,0.4,0.2,0.0,0.0,0.0,0.0,0.0,0.0,0.0,0.0,0.0,0.0,0.0,0.0,0.0,0.0,0.0,0.0,0.0,0.0,0.0,0.0,0.0,0.0,0.0,0.0,0.0,0.0,0.0,0.0,0.0,0.0,0.4,0.0,0.0,0.0,0.0,0.0,0.0,0.0,0.0,-0.3333333333333333,0.0,0.0,0.0,0.0,0.0,0.0,0.0,0.0,0.0,0.0,0.0,0.0,0.0,0.4333333333333333,0.0,0.0,0.0333333333333333,0.0,0.0,0.0,0.0,0.0,0.0,0.0,-0.1,0.0,-0.4,0.0,-0.0714285714285714,0.0,0.0,0.0,-0.1666666666666666,0.0,0.0,0.0,0.0,0.0,0.0,0.0,0.0,0.0,0.0,0.0,0.0,0.0,0.0,-0.25,0.0,0.0,0.0,0.0,0.0,0.0,0.0,0.0,0.05,0.0,0.0,0.0,0.0,0.0,0.0,0.0,0.0,0.0,0.0,0.0,0.0,0.2142857142857142,0.0,0.0,0.0,0.4000000000000001,0.0,0.0,0.0,0.0,0.0,0.0,0.0,0.0,0.0,0.0,0.0,0.0,0.0,0.0,0.0,0.0,0.0,0.0,0.0,-0.4,0.0,0.0,0.0,0.0,0.0,0.0,0.0,0.0,0.0,0.0,0.0,0.0,0.0,0.0,0.0,0.0,0.0,0.0,0.0,0.4,0.0,0.0,-1.0,0.0,0.0,0.0,0.0,0.0,0.1,0.35,0.0,0.0,-0.5,0.0,0.0,0.0,0.25,0.0,-1.0,0.0,0.0,0.0,0.0,0.0,0.0,0.0,0.0,0.0,0.0,0.8,0.0,0.0,0.0,0.0,0.3,0.0,0.0,0.4166666666666667,0.0,0.0,0.0,0.0,0.0,0.0,0.0,-0.3166666666666667,0.0,0.25,0.0,0.0,0.0,0.0,0.0,0.0,0.0,0.0,0.0,0.0,0.0,0.0,0.0,0.0,0.0,0.0,0.0,0.0,0.0,0.0,0.0,0.0,0.0,0.0,0.0,0.0,0.0,0.0,0.0,0.0,0.0,0.0,0.0,0.0,0.0,0.0,-0.6999999999999998,0.0,0.3,0.0,0.0,0.0,0.0,0.0,0.0,0.0,0.0,0.0,0.0,-0.125,0.0,-0.7142857142857143,0.0,-0.7999999999999999,0.0,0.0,0.0,0.0,0.0,0.0,0.0,0.0,-0.6,0.0,0.0,0.0,0.0,0.0,0.0,0.0,0.0,0.0,0.0,0.0,-0.6,0.0,0.0,0.0,0.0,0.0,0.0,0.0,0.0,0.0,0.0,0.0,-0.8,0.0,0.0,0.6,0.0,0.0,-0.125,0.0,0.0,0.0,0.0,0.0,0.0,0.0,0.0,0.0,0.0,0.0,0.0,0.0,0.0,0.0,0.0,0.0,0.0,0.0,0.0,0.0,0.0,0.0,0.5,0.0,0.0,0.0,0.0,0.0,0.0,0.0,0.0,0.0,0.0,0.0,0.0,0.0,-0.125,0.0,0.0,0.0,0.0,0.0,0.0,0.0,0.25,0.0,0.4,0.0,0.0,0.1,0.0,0.0,0.4333333333333333,0.0,0.0,0.0,0.0,0.0,0.0,0.0,0.0,0.0,0.0,0.0,0.0,0.0,0.1,0.0,0.0,0.0,0.0,0.0,0.0,0.0,0.0,0.0,0.0,0.0,0.0,0.0,0.0,0.0,0.0,-0.1333333333333333,0.0,0.05,0.0,0.0,0.0,0.0,0.0,0.0,0.0,0.0,0.0,0.0,-0.4000000000000001,0.0,0.1666666666666666,0.0,0.0,0.0,0.0,0.1,0.0,0.8,0.0,0.2,0.0,0.0,0.0,0.0,0.0,0.0,0.0,0.0,-0.1,0.0,0.0,0.0,0.0,0.0,0.0,0.0,-0.1,0.0,0.0,0.0,0.0,0.0,0.0,0.0,0.0,0.0,0.0,0.0,0.0,0.0,0.0,0.0,0.0,0.0,0.0,0.7,0.0,0.0,0.0,0.0,0.0,0.0,0.0,0.0,0.1666666666666666,0.0,0.0,0.0,0.0,0.1,0.4,0.0,0.1666666666666666,0.0,0.0,0.0,0.0,0.0,0.0,0.0,0.0,0.0,0.0,0.0,0.0,0.0,0.0,0.0,0.0,0.0,0.0,0.0,0.2,0.0,0.0,0.0,-0.2,0.0,0.1666666666666666,0.0,0.0,0.0,0.0,0.0,0.0,0.0,0.0,0.0,0.0,0.0,0.0,0.0,0.0,0.0,0.0,0.0,0.0,0.0,0.15,0.0,0.0,0.2,0.0,0.0,0.0,0.0,0.0,0.0,0.0,0.0,0.0,0.0625,0.0,0.0,0.0,0.2142857142857142,0.0,0.0,0.0,0.0,-0.25,0.0,0.0,0.0,0.0,0.0,0.0,0.0,0.0,0.0,0.0,0.0,0.0,0.0,0.0,0.0,0.0,0.0,0.0,0.0,0.0,-0.2,0.0,1.0,-0.1,0.0,0.0,0.0,0.0,0.0,0.0,0.0,0.0,0.0,0.0,0.0,0.0,0.0,0.0,0.0,0.0,0.0,0.0,0.0,0.0,0.0,0.0,0.0,0.0,0.0,0.0,0.0,-0.1666666666666666,0.0,0.0,0.0,0.0,0.0,0.0,0.25,0.0,0.0,0.0,0.0,0.5,0.0,0.0,0.0,0.0,0.0,0.0,0.0,0.0,0.0,0.0,0.0,0.0,0.0,0.0,0.0,0.0,0.0,0.1,0.0,0.0,1.0,0.0,-1.0,0.6,0.0,0.0,0.0,0.0,0.0,0.0,0.0,0.0,0.0,0.0,-0.1,0.8,0.0,0.0,0.0,0.0,0.0,0.0,0.0,0.0,0.0,0.0,0.0,0.0,0.0,0.0,0.0,0.0,-0.5,0.0,0.0,0.0,0.0,0.0,0.0,0.0,0.0,0.0,-0.4,0.8,0.0,0.0,0.0,0.0,0.2142857142857142,0.0,0.0,0.0,0.0,0.0,0.0,0.0,0.0,0.0,0.0,0.0,0.0,0.0,0.0,0.0,0.6000000000000001,0.0,0.0,0.0,0.0,0.0,0.0,0.0,0.0,0.0,0.0,0.0,0.0,0.0,0.0,0.0,-1.0,0.6,-0.2,0.5,0.0,0.0,0.0,0.5,0.0,0.0,0.0,0.0,0.0,0.0,0.0,0.0,0.0,0.0,0.0,0.0,0.0,0.0,0.25,0.0,0.0,0.0,0.0,0.0,0.0,0.0,0.0,0.0,0.0,0.0,0.5,0.0,0.0,0.0,0.0,0.0,0.0,0.0,0.0,0.0,0.0,0.0,0.0,0.0,0.0,0.0,0.0,0.0,0.0,0.0,0.0,0.0,0.0,0.0,0.3,0.0,0.0,0.0,0.0,0.0,0.0,0.0,0.0,0.0,0.0,0.0,0.0,0.0,-0.5,0.0,-0.5,0.0,0.0,0.0,0.0,0.0,0.8,0.0,0.0,0.3333333333333333,0.0,0.0,0.0,0.0,0.0,0.0,0.0,0.0,0.0,0.0,0.0,-0.5,0.0,0.05,0.0,0.9,0.0,0.0,0.2142857142857142,0.0,-0.2,0.0,0.0,0.0,0.0,-0.875,0.0,0.0,0.0,0.0,0.0,0.0,0.0,0.0,0.0,0.0,0.0,0.0,0.0,0.6,0.0,0.0,0.0,0.0,0.0,0.0,-0.1,0.0,0.0,0.0,0.0,0.0,0.3333333333333333,0.0,0.0,0.0,0.0,0.0,0.0,0.0,0.0,0.0,0.0,0.0,0.0,0.0,0.0,0.0,0.0,0.0,0.0,0.0,0.0,0.0,0.0,0.375,0.2,0.0,0.0,0.0,0.0,0.0,0.7,0.0,0.0,0.0,0.0,0.0,0.0,0.0,0.0,0.0,0.0,0.0,0.2,0.0,0.0,0.0,0.0,0.0,0.0,0.0,0.0,0.0,0.1,0.0,0.0,0.0,0.0,0.0,0.0,0.0,0.0,0.1,0.0,0.0,-0.4,0.0,0.0,0.0,0.1,0.0,0.0,0.0,0.0,0.0,0.0333333333333333,0.05,0.0,0.0,0.0,0.0,0.1,0.0,0.0,0.0,0.0,0.0,0.0,0.0,0.0,0.15,-0.3333333333333333,0.0,0.0,0.0,0.0,0.0,0.0,0.0,0.0,0.1,0.4,0.1,0.0,0.0,0.0,0.0,0.0,0.0,0.0,0.25,0.0,0.0,0.0,0.0,0.0,0.0,0.0,0.0,-0.3333333333333333,0.0,0.0,0.0,0.0,0.0,0.0,0.0,0.0,0.0,0.0,0.0,0.0,0.0,0.0,0.0,0.0,0.0,0.0,0.0,0.0,0.0,0.0,0.0,0.0,0.0,0.0,0.0,0.0,0.0,0.0,0.0,0.4,-0.0125,0.0,0.0,0.0,0.0,0.0,0.0,0.0,0.0,0.0,0.0,0.0,0.0,0.0,0.0,0.0,0.0,0.0,0.0,0.0,0.0,0.0,0.0,0.0,0.0,0.0,0.0,0.0,0.0,0.0,0.0,0.0,0.0,0.0,0.0,0.0,0.0,0.0,0.0,0.0,0.0,0.0,0.0,0.0,0.0,0.0,-0.1,0.0,0.0,0.0,0.0,0.0,0.0,0.0,0.0,0.0,0.0,0.0,0.0,0.0,0.0,0.0,0.0,0.0,0.0,0.0,0.0,0.0,0.0,0.0,0.0,0.0,0.0,0.0,0.0,0.0,0.0,0.0,0.0,0.0,-0.075,0.4333333333333333,0.0,0.0,0.0,0.3333333333333333,0.0,0.0,0.0,0.0,0.0,0.0,0.0,0.0,0.0,0.0,0.0,0.0,0.0,0.85,0.0,0.0,0.0,0.0,0.0,0.0,-0.1,0.0,-1.0,0.0,0.0,0.0,0.0,0.0,-1.0,0.0,0.0,0.0,0.0,0.0,0.0,0.0,0.0,0.0,0.0,0.0,0.0,0.0,0.0,0.0,0.0,0.0,0.0,0.0,0.0,0.0,0.0,0.0,-0.2,0.0,0.0,0.0,0.0,0.0,0.0,0.0,0.0,0.0,0.0,0.375,0.0,0.0,0.0,0.0,0.0,0.0,0.0,0.0,0.0,0.0,0.0,0.0,0.0,0.0,0.0,0.0,0.0,0.0,0.0,0.0,0.0,0.0,0.0,0.0,0.0,0.5,0.0,0.0,0.0,0.0,0.0,0.0,0.0,0.0,0.0,-0.1,0.0,0.0,0.25,0.0,0.0,0.0,0.0,0.0,0.0,0.0,0.0,0.0,0.0,0.0,0.0,0.0,0.0,0.0,0.0,0.0,0.0,0.0,0.0,0.0,0.25,0.0,0.0,0.0,0.0,0.0,0.0,0.0,0.0,0.0,0.0,0.1,0.0,0.0,0.0,0.0,0.0,0.0,0.0,0.0,0.0,0.0,0.0,0.0,0.0,0.0,0.0,0.7,0.0,0.0,0.0,0.0,0.0,0.0,0.0,0.0,0.5,0.0,0.0,0.0,0.0,0.0,0.0,0.0625,0.0,0.0,0.0,0.0,0.0,0.0,0.0,0.0,0.0,0.0,0.0,0.0,0.0,0.0,0.0,0.0,0.0,0.0,0.0,0.0,0.0,0.0,0.0,0.0,0.0,0.0,0.0,0.0,0.0,0.0,0.0,0.0,0.0,0.0,0.0,0.0,0.0,0.4,0.0,0.0,0.0,0.0,0.0,0.0,0.0,0.0,0.0,0.0,0.0,0.0,0.0,0.0,0.0,0.0,0.0,0.0,0.0,0.0,0.0,0.0,0.0,0.0,0.0,0.0,0.0,0.0,0.0,0.0,0.0,0.0,0.0,0.0,0.0,0.0,0.0,0.0,0.0,0.0,0.0,0.0,0.0,0.0,0.0,0.0,0.0,0.0,0.0,0.0,0.0,0.0,0.0,0.0,0.0,0.5,0.0,0.0,0.0,0.0,0.0,0.0,0.0,0.0,0.0,0.0,0.0,0.0,0.0,0.0,-1.0,0.0,0.0,0.0,0.0,0.0,0.0,-0.1666666666666666,0.0,0.0,0.0,0.0,0.0,0.0,0.0,-0.2,0.0,0.0,0.0,0.0,0.0,0.0,0.0,0.2,0.0,0.0,0.0,0.0,0.0,0.0,0.0,0.0,-0.4,0.0,0.0,0.0,0.0,0.0,0.0,0.0,0.0,0.0,0.0,0.0,-0.5,0.0,0.0,0.0,0.0,0.0,0.0,0.0,0.0,0.0,0.0,0.0,0.0,0.0,0.0,0.0,0.0,0.0,0.0,0.0,0.0,0.0,0.0,0.0,0.0,0.0,0.0,0.0,0.0,0.0,0.0,0.0,0.0,0.0,0.0,0.0,0.0,0.0,0.0,0.0,0.0,0.0,0.0,0.0,0.0,0.0,0.0,0.0,0.0,0.0,0.0,0.0,0.0,0.0,0.0,0.0,0.0,0.0,0.0,0.0,0.0,0.0,0.0,0.0,0.0,0.25,0.0,0.0,0.0,0.0,0.0,0.0,0.0,0.0,0.0,0.0,0.0,0.0,0.0,0.0,0.0,0.0,0.0,0.0,0.0,0.0,0.0,0.0,0.0,0.0,0.0,0.0,0.0,0.0,0.0,0.0,0.0,0.0,0.0,-0.3,0.0,0.0,0.0,0.0,0.0,0.0,0.0,0.0,0.0,0.0,0.0,-0.7,0.0,0.0,0.0,0.0,0.0,0.0,0.0,0.0,0.0,0.0,0.0,0.0,0.0,0.0,0.0,0.0,-1.0,0.0,0.0,0.0,0.0,0.0,0.0,0.0,0.0,0.0,0.0,0.0,0.0,0.0,0.0,0.0,0.0,0.0,0.0,0.0,0.0,0.0,0.0,0.0,-0.05,0.0,0.0,0.0,0.0,0.0,0.0,0.0,0.0,0.0,0.0,0.0,0.0,0.0,0.0,0.0,0.0,-0.5,0.0,0.0,0.0,0.0,0.0,0.0,0.0,0.9,0.0,0.0,0.0,0.0,0.0,0.0,0.0,0.0,0.0,0.0,0.0,0.0,0.0,0.0,0.0,0.375,0.0,0.0,0.0,0.0,0.0,0.0,0.0,0.0,0.8,0.0,0.0,0.0,0.0,0.0,0.0,0.0,0.0,0.0,0.0,0.0,0.0,0.0,0.0,0.0,0.0,0.0,0.0,0.0,0.0,0.0,0.0,0.0,0.0,0.0,0.0,0.0,0.0,0.0,0.1,0.0,0.0,0.0,0.7,0.0,0.0,0.0,0.0,0.0,0.0,0.0,0.0,0.0,0.0,0.0,0.0,0.0,0.0,0.0,0.0,0.0,0.0,0.0,0.0,0.0,0.0,0.0,0.0,0.0,0.0,0.0,0.0,0.0,0.0,0.7333333333333333,0.0,0.0,0.0,0.0,0.0,0.0,0.0,0.0,0.0,0.0,0.0,0.0,0.0,0.0,0.0,-0.6666666666666666,0.0,0.0,0.0,0.0,0.0,0.0,0.0,0.0,0.0,0.0,0.0,0.0,0.0,0.0,0.0,0.0,0.0,0.0,0.0,0.0,0.0,0.0,0.0,0.0,0.0,0.0,0.0,0.0,0.0,0.0,0.0,0.0,0.0,0.0,0.3333333333333333,0.0,0.0,0.0,0.0,0.0,0.0,0.0,0.0,0.0,0.0,0.0,0.0,0.0,0.0,0.0,0.0,0.0,0.0,0.0,0.0,0.0,-0.375,0.0,0.0,0.0,0.0,0.0,0.0,0.0,0.25,0.0,0.0,0.0,0.0,0.0,0.0,0.0,0.0,-0.125,0.0,0.0,0.0,0.0,0.0,0.0,0.0,0.0,0.0,0.0,0.0,0.0,0.0,0.0,0.0,0.0,0.0,0.0,0.1666666666666666,0.0,-1.0,0.0,0.0,0.0,0.0,0.0,0.0,0.0,0.0,0.0,0.0,0.0,0.0,0.0,0.0,0.0,0.0,0.0,0.0,0.0,-1.0,0.0,0.0,0.0,0.0,0.0,0.0,0.0,0.0,0.0,0.0,0.0,0.0,0.0,0.0,0.0,0.0,-0.7999999999999999,0.0,0.0,0.0,0.0,0.0,0.0,0.0,0.0,0.0,0.0,0.0,0.0,0.0,0.0,-0.5,0.0,0.0,0.0,0.0,0.0,0.0,0.0,0.6,0.0,0.0,0.0,0.0,0.0,0.0,0.6000000000000001,0.0,0.0,0.0,0.0,0.0,0.0,0.0,0.0,0.0,0.0,0.0,0.0,0.0,0.0,0.0,0.0,0.0,0.0,0.0,0.0,0.375,-0.1333333333333333,0.0,0.0,0.0,0.6,0.0,0.0,0.0,-0.6,0.0,0.0,0.0,0.0,0.2,0.0,0.0,0.0,0.0,0.0,0.0,0.0,0.0,0.0,0.0,0.0,0.0,0.0,0.0,0.0,0.0,0.0,0.0,0.0,0.0,0.5,0.0,0.0,0.0,0.0,-0.5,0.0,0.0,0.0,0.0,0.0,0.0,0.0,0.0,0.0,0.0,0.0,0.0,0.0,0.0,0.0,0.0,0.0,0.0,0.0,0.0,0.0,0.0,0.0,0.0,0.0,0.0,0.0,0.0,0.0,0.0,0.0,0.0,0.0,0.0,0.0,0.0,-1.0,0.0,0.0,0.0,0.0,0.0,0.0,0.0,0.0,0.0,0.0,0.0,-0.5,0.0,0.0,0.0,0.0,0.0,0.0,0.0,0.0,0.0,0.0,0.0,0.0,0.0,0.0,0.0,0.0,0.0,0.0,0.0,0.0,0.0,0.0,0.0,0.1,0.0,0.0,0.0,0.0,0.0,0.0,0.0,0.0,0.0,0.0,0.0,0.0,0.0,0.0,0.0,0.0,0.0,0.0,0.0,0.0,0.0,0.0,0.0,0.0,0.0,0.0,1.0,0.0,0.3,0.0,0.0,0.0,0.0,0.0,0.0,0.0,0.0,0.0,0.0,0.0,0.0,0.0,0.0,0.0,0.0,0.0,0.0,0.0,0.0,0.5,0.0,0.0,0.0,0.0,0.0,0.0,0.0,0.0,0.0,0.0,0.0,0.0,0.0,0.0,0.0,0.0,0.0,0.1,0.0,0.0,0.0,0.0,0.0,0.0,0.0,0.0,0.0,0.7,0.0,0.0,0.0,0.0,0.0,0.0,0.0,0.0,0.0,0.0,0.0,0.0,0.0,0.0,0.0,0.0,0.0,0.0,0.0,0.0,0.0,0.0,0.0,0.0,0.0,0.0,0.0,0.0,0.0,0.0,0.0,0.0,0.0,0.0,0.0,0.0,0.0,0.0,0.0,0.0,0.0,0.0,0.0,0.0,0.0,0.0,0.0,0.0,0.0,0.0,-0.1666666666666666,0.0,0.0,0.0,0.0,0.0,0.0,0.5,0.0,0.0,0.0,0.0,0.0,0.0,0.0,0.0,0.0,0.0,-0.25,0.0,0.0,0.4333333333333333,0.0,0.0,0.0,0.0,0.0,0.0,0.0,0.16,0.0,0.0,0.0,0.0,0.0,0.0,0.0,0.0,0.0,0.0,0.0,0.0,0.0,0.0,0.0,0.0,0.0,0.0,0.0,0.0,0.0,0.0,0.0,0.0,0.0,0.0,0.0,0.0,0.0,0.4,0.0,0.0,0.0,0.0,0.0,0.0,0.0,0.0,0.0,-0.8,0.0,0.0,0.0,0.0,0.0,0.0,0.0,0.0,0.0,0.0,0.0,0.0,0.0,0.0,0.0,0.0,0.0,0.0,0.0,0.0,0.0,0.0,0.0,0.0,0.0,0.0,0.0,0.0,0.0,0.0,0.0,0.0,0.0,0.0,0.0,0.0,0.0,0.0,0.0,0.0,0.0,0.0,0.0,0.0,0.0,0.0,0.0,0.0,0.0,0.1,0.0,0.0,-0.3333333333333333,0.0,0.8,0.0,0.0,0.0,0.0,0.0,0.0,0.0,0.0,0.0,0.0,0.0,0.0,0.0,0.0,0.0,0.0,0.3666666666666667,0.0,0.0,0.0,0.0,0.0,0.0,0.0,0.0,0.0,0.0,0.0,0.0,0.0,0.0,0.0,0.0,0.0,-0.25,0.0,0.0,0.0,0.0,0.0,0.0,0.0,0.0,0.0,-0.6,0.0,0.0,0.0,0.0,0.0,0.0,0.0,0.0,0.0,0.0,0.0,0.0,0.0,0.0,0.0,0.0,0.0,0.0,0.0,0.0,0.0,-0.25,0.0,0.0,0.0,0.0,0.0,0.0,0.0,0.0,0.0,0.0,0.0,0.0,0.0,0.0,0.0,0.0,0.0,0.0,0.0,0.0,0.0,0.0,0.0,0.0,0.0,0.0,0.0,0.0,0.0,0.0,0.0,0.0,0.0,0.0,0.0,0.0,0.0,0.0,0.0,0.0,0.0,0.0,0.0,0.0,0.0,0.0,0.0,0.0,0.0,0.0,0.0,0.2142857142857142,0.0,0.0,0.0,0.0,0.0,0.3,0.0,0.0,0.0,0.0,0.0,0.0,0.0,0.0,0.0,0.0,0.0,0.0,0.0,0.0,0.0,0.0,0.0,0.0,0.0,0.0,0.0,0.0,0.0,0.0,0.0,0.0,0.0,-0.8,-0.05,0.0,0.0,0.0,0.0,0.0,0.7,0.0,0.0,-0.3,0.0,0.0,0.0,0.0,-0.5,0.0,0.0,0.0,0.0,0.0,0.0,0.0,0.0,0.0,0.0,-0.4,0.0,0.0,-0.3,0.0,0.0,0.0,0.0,0.0,0.0,0.0,0.0,0.0,0.0,0.0,0.0,0.0,0.0,0.0,0.0,0.0,0.0,0.0,0.0,0.0,0.375,0.0,0.0,0.0,0.0,0.0,0.0,0.0,0.0,0.0,0.0,0.0,0.2,0.0,0.0,0.0,0.0,-0.6,0.5,0.5,0.0,0.0,0.0,0.5,0.0,0.0,0.0,0.0,0.0,0.0,0.0,0.0,0.0,0.0,0.0,0.0,-0.2,0.3571428571428571,-0.1,0.0,0.0,0.0,0.0,0.0,0.0,-0.1,0.0,0.0,0.0,0.0,0.0,0.0,-0.125,0.0,0.0,0.0,0.0,0.0,0.0,0.0,0.0,0.1666666666666666,0.0,0.0,0.0,0.0,0.0,0.0,0.0,0.0,0.0,0.0,0.0,0.0,0.0,0.0,0.0,0.0,0.0,0.0,0.0,0.0,0.0,0.0,0.0,0.0,0.0,0.0,0.0,0.0,0.0,0.0,0.0,0.0,0.0,0.0,0.0,0.0,0.0,0.0,0.0,0.0,0.0,0.9,0.0,0.0,0.0,0.0,0.0,0.0,0.0,0.0,0.0,0.0,0.0,0.0,0.0,0.0,0.0,0.0,0.0,0.0,0.0,-0.3,0.0,0.0,0.0,0.0,0.0,-0.5,0.0,0.0,-0.1666666666666666,0.0,0.0,0.0,0.0,0.0,0.0,0.0,0.0,0.0,0.0,0.4,0.0,0.0,0.0,0.0,0.0,0.0,0.0,0.0,0.0,0.0,0.0,0.0,0.0,0.0,0.0,0.1,0.0,0.0,0.0,0.0,0.0,0.0,0.0,0.0,0.0,0.0,0.0,0.0,0.0,0.0,0.0,0.0,0.0,0.0,0.0,0.0,0.0,0.0,0.0,0.0,0.0,0.0,0.0,0.0,0.0,0.0,0.0,0.0,0.0,0.0,-0.1,0.0,0.0,0.0,0.0,0.0,0.0,0.0,0.0,0.3333333333333333,0.0,0.0,0.0,0.0,0.0,0.0,0.0,0.0,-0.3,0.0,0.0,0.0,0.0,0.0,0.0,0.0,0.0,0.0,0.0,0.0,0.0,0.0,0.0,0.0,0.0,0.0,0.0,0.0,0.0,-0.1666666666666666,0.0,0.0,0.0,0.0,0.0,0.0,0.0,0.0,0.0,0.0,0.0,0.0,0.0,0.0,0.0,0.0,0.0,0.0,-0.2,0.0,0.4,0.0,0.0,0.0,0.0,0.0,0.0,0.0,0.4,0.0,0.0,-0.2166666666666666,0.0,0.0,0.0,0.0,0.0,0.0,0.0,0.0,0.0,0.0,0.0,0.0,0.0,0.0,0.0,0.0,0.0,0.0,0.0,0.0,0.8,0.0,0.0,0.0,0.0,0.0,0.0,0.0,0.0,0.0,0.0,0.0,0.0,0.0,0.0,0.0,0.0,0.0,0.0,0.0,0.0,0.0,0.0,0.0,0.0,0.0,0.0,0.0,0.0,0.1,0.0,0.0,-0.0769230769230769,0.0,0.0,0.0,0.0,0.0,0.0,0.0,0.0,0.0,0.0,0.0,0.0,0.0,0.0,0.0,0.0,0.0,0.0,0.0,0.0,-0.5,0.0,0.0,0.0,0.0,0.0,0.0,0.0,0.0,0.0,0.0,0.0,0.0,0.0,0.0,0.0,0.0,0.0,0.0,0.0,-0.25,0.0,0.0,0.3,0.0,0.0,0.0,0.0,0.0,0.0,0.0,0.0,0.0,0.0,0.1,0.0,0.0,0.0,0.0,0.0,0.0,0.0,0.0,0.0,0.0,0.0,0.0,0.0,0.0,0.0,0.0,0.0,0.0,0.0,0.0,0.0,0.0,0.0,0.0,0.0,0.0,0.0,0.0,0.0,0.0,0.0,0.0,0.0,0.0,0.0,0.0,0.0,0.0,0.0,0.0,0.3,0.0,0.0,0.0,-0.5,0.0,0.0,0.0,0.0,0.0,0.0,0.0,0.0,0.0,0.0,0.0,0.0,0.0,0.0,0.0,0.0,0.0,0.0,0.0,0.0,0.0,0.0,0.0,0.0,0.5,0.0,0.0,0.0,0.0,0.0,0.0,0.0,0.0,0.0,0.0,-0.05,0.0,0.0,0.0,0.0,0.0,0.0,0.0,0.0,0.0,0.0,0.0,0.2,0.0,0.0,0.0,0.0,0.0,-0.4,0.0,0.0,0.0,-0.5,0.0,0.0,0.0,0.0,0.0,0.0,0.0,0.0,0.0,0.0,0.0,0.0,0.0,0.0,0.0,-0.1,0.0,0.0,0.0,0.0,0.0,0.0,0.0,-0.1,0.0,0.0,0.0,0.0,0.0,0.0,0.0,0.0,0.0,0.0,0.0,0.5,0.0,0.0,0.0,0.0,0.0,0.0,0.0,0.0,0.0,0.0,0.0,0.0,0.0,0.0,0.0,0.0,0.0,-0.5,0.0,0.0,0.0,0.0,0.0,0.0,0.2,0.0,0.0,0.0,0.0,0.0,0.0,0.0,0.0,0.0,0.0,0.0,0.0,0.0,0.0,0.0,0.1,0.0,0.0,0.0,0.0,0.0,0.25,0.0,0.3333333333333333,0.0,0.0,0.0,0.0,0.0,0.0,0.0,0.0,0.0,0.0,0.0,0.0,0.0,0.0,0.0,0.0,0.6,0.0,0.0,0.0,0.0,0.0,0.0,0.0,0.0,0.0,0.0,0.0,0.0,0.0,0.0,0.8,0.0,0.0,0.0,0.0,0.0,0.0,0.0,0.0,0.0,0.0,0.0,0.0,0.0,0.0,0.0,0.0,0.0,0.0,0.0,0.0,0.0,0.0,0.0,0.0,-1.0,0.0,0.0,0.0,0.0,0.0,0.0,0.0,0.0,0.0,0.0,0.0,0.0,0.0,-0.5,0.0,0.0,0.5,0.0,0.0,0.0,0.0,0.0,0.0,0.0,0.0,0.0,0.0,0.0,0.0,0.0,0.0,0.0,0.0,0.0,0.0,0.0,0.0,0.0,0.0,0.0,0.0,0.0,0.0,0.0,0.0,0.0,-0.125,0.0,0.0,0.0,0.0,0.0,0.0,0.0,0.0,0.0,0.0,0.0,0.0,0.0,0.0,0.0,0.0,0.0,0.0,0.0,0.0,0.0,0.4,0.0,0.0,0.0,0.0,0.0,0.0,0.0,0.0,0.0,0.0,0.0,-0.5,0.0,0.0,0.0,0.0,0.0,0.0,-0.3333333333333333,0.0,0.0,0.0,-0.7,0.0,0.0,0.0,0.0,0.0,0.0,0.0,0.0,0.0,0.0,0.0,0.0,0.0,0.0,0.0,0.0,0.0,0.0,0.0,0.0,0.0,0.0,0.0,0.0,0.0,0.0,0.0,0.0,0.0,0.0,0.0,0.0,0.0,0.0],\"y0\":\" \",\"yaxis\":\"y\",\"type\":\"violin\"}],                        {\"template\":{\"data\":{\"bar\":[{\"error_x\":{\"color\":\"#2a3f5f\"},\"error_y\":{\"color\":\"#2a3f5f\"},\"marker\":{\"line\":{\"color\":\"#E5ECF6\",\"width\":0.5},\"pattern\":{\"fillmode\":\"overlay\",\"size\":10,\"solidity\":0.2}},\"type\":\"bar\"}],\"barpolar\":[{\"marker\":{\"line\":{\"color\":\"#E5ECF6\",\"width\":0.5},\"pattern\":{\"fillmode\":\"overlay\",\"size\":10,\"solidity\":0.2}},\"type\":\"barpolar\"}],\"carpet\":[{\"aaxis\":{\"endlinecolor\":\"#2a3f5f\",\"gridcolor\":\"white\",\"linecolor\":\"white\",\"minorgridcolor\":\"white\",\"startlinecolor\":\"#2a3f5f\"},\"baxis\":{\"endlinecolor\":\"#2a3f5f\",\"gridcolor\":\"white\",\"linecolor\":\"white\",\"minorgridcolor\":\"white\",\"startlinecolor\":\"#2a3f5f\"},\"type\":\"carpet\"}],\"choropleth\":[{\"colorbar\":{\"outlinewidth\":0,\"ticks\":\"\"},\"type\":\"choropleth\"}],\"contour\":[{\"colorbar\":{\"outlinewidth\":0,\"ticks\":\"\"},\"colorscale\":[[0.0,\"#0d0887\"],[0.1111111111111111,\"#46039f\"],[0.2222222222222222,\"#7201a8\"],[0.3333333333333333,\"#9c179e\"],[0.4444444444444444,\"#bd3786\"],[0.5555555555555556,\"#d8576b\"],[0.6666666666666666,\"#ed7953\"],[0.7777777777777778,\"#fb9f3a\"],[0.8888888888888888,\"#fdca26\"],[1.0,\"#f0f921\"]],\"type\":\"contour\"}],\"contourcarpet\":[{\"colorbar\":{\"outlinewidth\":0,\"ticks\":\"\"},\"type\":\"contourcarpet\"}],\"heatmap\":[{\"colorbar\":{\"outlinewidth\":0,\"ticks\":\"\"},\"colorscale\":[[0.0,\"#0d0887\"],[0.1111111111111111,\"#46039f\"],[0.2222222222222222,\"#7201a8\"],[0.3333333333333333,\"#9c179e\"],[0.4444444444444444,\"#bd3786\"],[0.5555555555555556,\"#d8576b\"],[0.6666666666666666,\"#ed7953\"],[0.7777777777777778,\"#fb9f3a\"],[0.8888888888888888,\"#fdca26\"],[1.0,\"#f0f921\"]],\"type\":\"heatmap\"}],\"heatmapgl\":[{\"colorbar\":{\"outlinewidth\":0,\"ticks\":\"\"},\"colorscale\":[[0.0,\"#0d0887\"],[0.1111111111111111,\"#46039f\"],[0.2222222222222222,\"#7201a8\"],[0.3333333333333333,\"#9c179e\"],[0.4444444444444444,\"#bd3786\"],[0.5555555555555556,\"#d8576b\"],[0.6666666666666666,\"#ed7953\"],[0.7777777777777778,\"#fb9f3a\"],[0.8888888888888888,\"#fdca26\"],[1.0,\"#f0f921\"]],\"type\":\"heatmapgl\"}],\"histogram\":[{\"marker\":{\"pattern\":{\"fillmode\":\"overlay\",\"size\":10,\"solidity\":0.2}},\"type\":\"histogram\"}],\"histogram2d\":[{\"colorbar\":{\"outlinewidth\":0,\"ticks\":\"\"},\"colorscale\":[[0.0,\"#0d0887\"],[0.1111111111111111,\"#46039f\"],[0.2222222222222222,\"#7201a8\"],[0.3333333333333333,\"#9c179e\"],[0.4444444444444444,\"#bd3786\"],[0.5555555555555556,\"#d8576b\"],[0.6666666666666666,\"#ed7953\"],[0.7777777777777778,\"#fb9f3a\"],[0.8888888888888888,\"#fdca26\"],[1.0,\"#f0f921\"]],\"type\":\"histogram2d\"}],\"histogram2dcontour\":[{\"colorbar\":{\"outlinewidth\":0,\"ticks\":\"\"},\"colorscale\":[[0.0,\"#0d0887\"],[0.1111111111111111,\"#46039f\"],[0.2222222222222222,\"#7201a8\"],[0.3333333333333333,\"#9c179e\"],[0.4444444444444444,\"#bd3786\"],[0.5555555555555556,\"#d8576b\"],[0.6666666666666666,\"#ed7953\"],[0.7777777777777778,\"#fb9f3a\"],[0.8888888888888888,\"#fdca26\"],[1.0,\"#f0f921\"]],\"type\":\"histogram2dcontour\"}],\"mesh3d\":[{\"colorbar\":{\"outlinewidth\":0,\"ticks\":\"\"},\"type\":\"mesh3d\"}],\"parcoords\":[{\"line\":{\"colorbar\":{\"outlinewidth\":0,\"ticks\":\"\"}},\"type\":\"parcoords\"}],\"pie\":[{\"automargin\":true,\"type\":\"pie\"}],\"scatter\":[{\"marker\":{\"colorbar\":{\"outlinewidth\":0,\"ticks\":\"\"}},\"type\":\"scatter\"}],\"scatter3d\":[{\"line\":{\"colorbar\":{\"outlinewidth\":0,\"ticks\":\"\"}},\"marker\":{\"colorbar\":{\"outlinewidth\":0,\"ticks\":\"\"}},\"type\":\"scatter3d\"}],\"scattercarpet\":[{\"marker\":{\"colorbar\":{\"outlinewidth\":0,\"ticks\":\"\"}},\"type\":\"scattercarpet\"}],\"scattergeo\":[{\"marker\":{\"colorbar\":{\"outlinewidth\":0,\"ticks\":\"\"}},\"type\":\"scattergeo\"}],\"scattergl\":[{\"marker\":{\"colorbar\":{\"outlinewidth\":0,\"ticks\":\"\"}},\"type\":\"scattergl\"}],\"scattermapbox\":[{\"marker\":{\"colorbar\":{\"outlinewidth\":0,\"ticks\":\"\"}},\"type\":\"scattermapbox\"}],\"scatterpolar\":[{\"marker\":{\"colorbar\":{\"outlinewidth\":0,\"ticks\":\"\"}},\"type\":\"scatterpolar\"}],\"scatterpolargl\":[{\"marker\":{\"colorbar\":{\"outlinewidth\":0,\"ticks\":\"\"}},\"type\":\"scatterpolargl\"}],\"scatterternary\":[{\"marker\":{\"colorbar\":{\"outlinewidth\":0,\"ticks\":\"\"}},\"type\":\"scatterternary\"}],\"surface\":[{\"colorbar\":{\"outlinewidth\":0,\"ticks\":\"\"},\"colorscale\":[[0.0,\"#0d0887\"],[0.1111111111111111,\"#46039f\"],[0.2222222222222222,\"#7201a8\"],[0.3333333333333333,\"#9c179e\"],[0.4444444444444444,\"#bd3786\"],[0.5555555555555556,\"#d8576b\"],[0.6666666666666666,\"#ed7953\"],[0.7777777777777778,\"#fb9f3a\"],[0.8888888888888888,\"#fdca26\"],[1.0,\"#f0f921\"]],\"type\":\"surface\"}],\"table\":[{\"cells\":{\"fill\":{\"color\":\"#EBF0F8\"},\"line\":{\"color\":\"white\"}},\"header\":{\"fill\":{\"color\":\"#C8D4E3\"},\"line\":{\"color\":\"white\"}},\"type\":\"table\"}]},\"layout\":{\"annotationdefaults\":{\"arrowcolor\":\"#2a3f5f\",\"arrowhead\":0,\"arrowwidth\":1},\"autotypenumbers\":\"strict\",\"coloraxis\":{\"colorbar\":{\"outlinewidth\":0,\"ticks\":\"\"}},\"colorscale\":{\"diverging\":[[0,\"#8e0152\"],[0.1,\"#c51b7d\"],[0.2,\"#de77ae\"],[0.3,\"#f1b6da\"],[0.4,\"#fde0ef\"],[0.5,\"#f7f7f7\"],[0.6,\"#e6f5d0\"],[0.7,\"#b8e186\"],[0.8,\"#7fbc41\"],[0.9,\"#4d9221\"],[1,\"#276419\"]],\"sequential\":[[0.0,\"#0d0887\"],[0.1111111111111111,\"#46039f\"],[0.2222222222222222,\"#7201a8\"],[0.3333333333333333,\"#9c179e\"],[0.4444444444444444,\"#bd3786\"],[0.5555555555555556,\"#d8576b\"],[0.6666666666666666,\"#ed7953\"],[0.7777777777777778,\"#fb9f3a\"],[0.8888888888888888,\"#fdca26\"],[1.0,\"#f0f921\"]],\"sequentialminus\":[[0.0,\"#0d0887\"],[0.1111111111111111,\"#46039f\"],[0.2222222222222222,\"#7201a8\"],[0.3333333333333333,\"#9c179e\"],[0.4444444444444444,\"#bd3786\"],[0.5555555555555556,\"#d8576b\"],[0.6666666666666666,\"#ed7953\"],[0.7777777777777778,\"#fb9f3a\"],[0.8888888888888888,\"#fdca26\"],[1.0,\"#f0f921\"]]},\"colorway\":[\"#636efa\",\"#EF553B\",\"#00cc96\",\"#ab63fa\",\"#FFA15A\",\"#19d3f3\",\"#FF6692\",\"#B6E880\",\"#FF97FF\",\"#FECB52\"],\"font\":{\"color\":\"#2a3f5f\"},\"geo\":{\"bgcolor\":\"white\",\"lakecolor\":\"white\",\"landcolor\":\"#E5ECF6\",\"showlakes\":true,\"showland\":true,\"subunitcolor\":\"white\"},\"hoverlabel\":{\"align\":\"left\"},\"hovermode\":\"closest\",\"mapbox\":{\"style\":\"light\"},\"paper_bgcolor\":\"white\",\"plot_bgcolor\":\"#E5ECF6\",\"polar\":{\"angularaxis\":{\"gridcolor\":\"white\",\"linecolor\":\"white\",\"ticks\":\"\"},\"bgcolor\":\"#E5ECF6\",\"radialaxis\":{\"gridcolor\":\"white\",\"linecolor\":\"white\",\"ticks\":\"\"}},\"scene\":{\"xaxis\":{\"backgroundcolor\":\"#E5ECF6\",\"gridcolor\":\"white\",\"gridwidth\":2,\"linecolor\":\"white\",\"showbackground\":true,\"ticks\":\"\",\"zerolinecolor\":\"white\"},\"yaxis\":{\"backgroundcolor\":\"#E5ECF6\",\"gridcolor\":\"white\",\"gridwidth\":2,\"linecolor\":\"white\",\"showbackground\":true,\"ticks\":\"\",\"zerolinecolor\":\"white\"},\"zaxis\":{\"backgroundcolor\":\"#E5ECF6\",\"gridcolor\":\"white\",\"gridwidth\":2,\"linecolor\":\"white\",\"showbackground\":true,\"ticks\":\"\",\"zerolinecolor\":\"white\"}},\"shapedefaults\":{\"line\":{\"color\":\"#2a3f5f\"}},\"ternary\":{\"aaxis\":{\"gridcolor\":\"white\",\"linecolor\":\"white\",\"ticks\":\"\"},\"baxis\":{\"gridcolor\":\"white\",\"linecolor\":\"white\",\"ticks\":\"\"},\"bgcolor\":\"#E5ECF6\",\"caxis\":{\"gridcolor\":\"white\",\"linecolor\":\"white\",\"ticks\":\"\"}},\"title\":{\"x\":0.05},\"xaxis\":{\"automargin\":true,\"gridcolor\":\"white\",\"linecolor\":\"white\",\"ticks\":\"\",\"title\":{\"standoff\":15},\"zerolinecolor\":\"white\",\"zerolinewidth\":2},\"yaxis\":{\"automargin\":true,\"gridcolor\":\"white\",\"linecolor\":\"white\",\"ticks\":\"\",\"title\":{\"standoff\":15},\"zerolinecolor\":\"white\",\"zerolinewidth\":2}}},\"xaxis\":{\"anchor\":\"y\",\"domain\":[0.0,1.0],\"title\":{\"text\":\"subjectivity\"}},\"yaxis\":{\"anchor\":\"x\",\"domain\":[0.0,1.0],\"title\":{\"text\":\"polarity\"}},\"legend\":{\"tracegroupgap\":0},\"title\":{\"text\":\"Plot Between subjectivity and polarity\"},\"violinmode\":\"group\"},                        {\"responsive\": true}                    ).then(function(){\n",
              "                            \n",
              "var gd = document.getElementById('093b98d7-f7ef-41ec-961f-0eb9c959845c');\n",
              "var x = new MutationObserver(function (mutations, observer) {{\n",
              "        var display = window.getComputedStyle(gd).display;\n",
              "        if (!display || display === 'none') {{\n",
              "            console.log([gd, 'removed!']);\n",
              "            Plotly.purge(gd);\n",
              "            observer.disconnect();\n",
              "        }}\n",
              "}});\n",
              "\n",
              "// Listen for the removal of the full notebook cells\n",
              "var notebookContainer = gd.closest('#notebook-container');\n",
              "if (notebookContainer) {{\n",
              "    x.observe(notebookContainer, {childList: true});\n",
              "}}\n",
              "\n",
              "// Listen for the clearing of the current output cell\n",
              "var outputEl = gd.closest('.output');\n",
              "if (outputEl) {{\n",
              "    x.observe(outputEl, {childList: true});\n",
              "}}\n",
              "\n",
              "                        })                };                            </script>        </div>\n",
              "</body>\n",
              "</html>"
            ]
          },
          "metadata": {}
        }
      ],
      "source": [
        "df2 = pd.read_csv('sentiments_lower.csv')\n",
        "\n",
        "fig2 = px.violin(df2, x = 'subjectivity', y = 'polarity', title='Plot Between subjectivity and polarity', template = 'plotly')\n",
        "fig2.show()"
      ]
    },
    {
      "cell_type": "code",
      "execution_count": 106,
      "metadata": {
        "colab": {
          "base_uri": "https://localhost:8080/"
        },
        "id": "8e_3Qi5Oriwf",
        "outputId": "ac4574b2-c870-4b36-f02a-5d964d84e42d"
      },
      "outputs": [
        {
          "output_type": "stream",
          "name": "stdout",
          "text": [
            "\n",
            "\n",
            "positive remarks = 348, negative remarks = 120, and neutral remarks = 2978\n",
            "\n",
            "Relation of neutral remarks with repect to All remarks is 0.917\n",
            "\n",
            "Relation of positive remarks with repect to neutral is 0.117\n",
            "\n",
            "Relation of negative remarks with repect to neutral is 0.04\n",
            "\n",
            "\n"
          ]
        }
      ],
      "source": [
        "dffilter2 = df.loc[(df.loc[:, df.dtypes != object] == 0).any(1)]\n",
        "dffilter2.to_csv('sentiments_lower_filter.csv', mode='w', columns=COLS, index=False, encoding='utf-8')\n",
        " \n",
        "dfp2 = df.loc[(df.loc[:, df.dtypes != object] > 0).any(1)]\n",
        "dfp2.to_csv('sentiments_lower_pos.csv', mode='w', columns=COLS, index=False, encoding='utf-8')\n",
        " \n",
        "dfn2 = df.loc[(df2.loc[:, df.dtypes != object] < 0).any(1)]\n",
        "dfn2.to_csv('sentiments_lower_neg.csv', mode='w', columns=COLS, index=False, encoding='utf-8')\n",
        " \n",
        "rcn2=0\n",
        "rcp2=0\n",
        "rcf2=0\n",
        "rcall2=0\n",
        "for row in open(\"sentiments_lower_pos.csv\"):\n",
        "    rcp2+=1\n",
        "for row in open(\"sentiments_lower_neg.csv\"):\n",
        "    rcn2+=1\n",
        "for row in open(\"sentiments_lower_filter.csv\"):\n",
        "    rcf2+=1\n",
        "for row in open(\"sentiments_lower.csv\"):\n",
        "    rcall2+=1\n",
        " \n",
        "print(f\"\\n\\npositive remarks = {rcp2}, negative remarks = {rcn2}, and neutral remarks = {rcf2}\\n\\nRelation of neutral \\\n",
        "remarks with repect to All remarks is {round((rcf2/rcall2),3)}\\n\\nRelation of positive remarks with repect to neutral \\\n",
        "is {round((rcp2/rcf2),3)}\\n\\nRelation of negative remarks with repect to neutral is {round((rcn2/rcf2),3)}\\n\\n\")\n"
      ]
    },
    {
      "cell_type": "markdown",
      "metadata": {
        "id": "7uX3VWE_riwf"
      },
      "source": [
        "## 5. Now comparing the results of wikipedia analysis with oneplus analysis"
      ]
    },
    {
      "cell_type": "markdown",
      "metadata": {
        "id": "y6VPxVJmriwf"
      },
      "source": [
        "**Results of oneplus anaysis:**"
      ]
    },
    {
      "cell_type": "code",
      "execution_count": 107,
      "metadata": {
        "colab": {
          "base_uri": "https://localhost:8080/",
          "height": 300
        },
        "id": "nDrMp38Iriwf",
        "outputId": "8416c609-89cf-4cee-a7bc-0b247efb3057"
      },
      "outputs": [
        {
          "output_type": "execute_result",
          "data": {
            "text/plain": [
              "       polarity  subjectivity\n",
              "count  3245.000      3245.000\n",
              "mean      0.003         0.064\n",
              "std       0.135         0.212\n",
              "min      -1.000         0.000\n",
              "25%       0.000         0.000\n",
              "50%       0.000         0.000\n",
              "75%       0.000         0.000\n",
              "max       1.000         1.000"
            ],
            "text/html": [
              "\n",
              "  <div id=\"df-07e28f97-902a-40c7-843e-230a5de2d63d\">\n",
              "    <div class=\"colab-df-container\">\n",
              "      <div>\n",
              "<style scoped>\n",
              "    .dataframe tbody tr th:only-of-type {\n",
              "        vertical-align: middle;\n",
              "    }\n",
              "\n",
              "    .dataframe tbody tr th {\n",
              "        vertical-align: top;\n",
              "    }\n",
              "\n",
              "    .dataframe thead th {\n",
              "        text-align: right;\n",
              "    }\n",
              "</style>\n",
              "<table border=\"1\" class=\"dataframe\">\n",
              "  <thead>\n",
              "    <tr style=\"text-align: right;\">\n",
              "      <th></th>\n",
              "      <th>polarity</th>\n",
              "      <th>subjectivity</th>\n",
              "    </tr>\n",
              "  </thead>\n",
              "  <tbody>\n",
              "    <tr>\n",
              "      <th>count</th>\n",
              "      <td>3245.000</td>\n",
              "      <td>3245.000</td>\n",
              "    </tr>\n",
              "    <tr>\n",
              "      <th>mean</th>\n",
              "      <td>0.003</td>\n",
              "      <td>0.064</td>\n",
              "    </tr>\n",
              "    <tr>\n",
              "      <th>std</th>\n",
              "      <td>0.135</td>\n",
              "      <td>0.212</td>\n",
              "    </tr>\n",
              "    <tr>\n",
              "      <th>min</th>\n",
              "      <td>-1.000</td>\n",
              "      <td>0.000</td>\n",
              "    </tr>\n",
              "    <tr>\n",
              "      <th>25%</th>\n",
              "      <td>0.000</td>\n",
              "      <td>0.000</td>\n",
              "    </tr>\n",
              "    <tr>\n",
              "      <th>50%</th>\n",
              "      <td>0.000</td>\n",
              "      <td>0.000</td>\n",
              "    </tr>\n",
              "    <tr>\n",
              "      <th>75%</th>\n",
              "      <td>0.000</td>\n",
              "      <td>0.000</td>\n",
              "    </tr>\n",
              "    <tr>\n",
              "      <th>max</th>\n",
              "      <td>1.000</td>\n",
              "      <td>1.000</td>\n",
              "    </tr>\n",
              "  </tbody>\n",
              "</table>\n",
              "</div>\n",
              "      <button class=\"colab-df-convert\" onclick=\"convertToInteractive('df-07e28f97-902a-40c7-843e-230a5de2d63d')\"\n",
              "              title=\"Convert this dataframe to an interactive table.\"\n",
              "              style=\"display:none;\">\n",
              "        \n",
              "  <svg xmlns=\"http://www.w3.org/2000/svg\" height=\"24px\"viewBox=\"0 0 24 24\"\n",
              "       width=\"24px\">\n",
              "    <path d=\"M0 0h24v24H0V0z\" fill=\"none\"/>\n",
              "    <path d=\"M18.56 5.44l.94 2.06.94-2.06 2.06-.94-2.06-.94-.94-2.06-.94 2.06-2.06.94zm-11 1L8.5 8.5l.94-2.06 2.06-.94-2.06-.94L8.5 2.5l-.94 2.06-2.06.94zm10 10l.94 2.06.94-2.06 2.06-.94-2.06-.94-.94-2.06-.94 2.06-2.06.94z\"/><path d=\"M17.41 7.96l-1.37-1.37c-.4-.4-.92-.59-1.43-.59-.52 0-1.04.2-1.43.59L10.3 9.45l-7.72 7.72c-.78.78-.78 2.05 0 2.83L4 21.41c.39.39.9.59 1.41.59.51 0 1.02-.2 1.41-.59l7.78-7.78 2.81-2.81c.8-.78.8-2.07 0-2.86zM5.41 20L4 18.59l7.72-7.72 1.47 1.35L5.41 20z\"/>\n",
              "  </svg>\n",
              "      </button>\n",
              "      \n",
              "  <style>\n",
              "    .colab-df-container {\n",
              "      display:flex;\n",
              "      flex-wrap:wrap;\n",
              "      gap: 12px;\n",
              "    }\n",
              "\n",
              "    .colab-df-convert {\n",
              "      background-color: #E8F0FE;\n",
              "      border: none;\n",
              "      border-radius: 50%;\n",
              "      cursor: pointer;\n",
              "      display: none;\n",
              "      fill: #1967D2;\n",
              "      height: 32px;\n",
              "      padding: 0 0 0 0;\n",
              "      width: 32px;\n",
              "    }\n",
              "\n",
              "    .colab-df-convert:hover {\n",
              "      background-color: #E2EBFA;\n",
              "      box-shadow: 0px 1px 2px rgba(60, 64, 67, 0.3), 0px 1px 3px 1px rgba(60, 64, 67, 0.15);\n",
              "      fill: #174EA6;\n",
              "    }\n",
              "\n",
              "    [theme=dark] .colab-df-convert {\n",
              "      background-color: #3B4455;\n",
              "      fill: #D2E3FC;\n",
              "    }\n",
              "\n",
              "    [theme=dark] .colab-df-convert:hover {\n",
              "      background-color: #434B5C;\n",
              "      box-shadow: 0px 1px 3px 1px rgba(0, 0, 0, 0.15);\n",
              "      filter: drop-shadow(0px 1px 2px rgba(0, 0, 0, 0.3));\n",
              "      fill: #FFFFFF;\n",
              "    }\n",
              "  </style>\n",
              "\n",
              "      <script>\n",
              "        const buttonEl =\n",
              "          document.querySelector('#df-07e28f97-902a-40c7-843e-230a5de2d63d button.colab-df-convert');\n",
              "        buttonEl.style.display =\n",
              "          google.colab.kernel.accessAllowed ? 'block' : 'none';\n",
              "\n",
              "        async function convertToInteractive(key) {\n",
              "          const element = document.querySelector('#df-07e28f97-902a-40c7-843e-230a5de2d63d');\n",
              "          const dataTable =\n",
              "            await google.colab.kernel.invokeFunction('convertToInteractive',\n",
              "                                                     [key], {});\n",
              "          if (!dataTable) return;\n",
              "\n",
              "          const docLinkHtml = 'Like what you see? Visit the ' +\n",
              "            '<a target=\"_blank\" href=https://colab.research.google.com/notebooks/data_table.ipynb>data table notebook</a>'\n",
              "            + ' to learn more about interactive tables.';\n",
              "          element.innerHTML = '';\n",
              "          dataTable['output_type'] = 'display_data';\n",
              "          await google.colab.output.renderOutput(dataTable, element);\n",
              "          const docLink = document.createElement('div');\n",
              "          docLink.innerHTML = docLinkHtml;\n",
              "          element.appendChild(docLink);\n",
              "        }\n",
              "      </script>\n",
              "    </div>\n",
              "  </div>\n",
              "  "
            ]
          },
          "metadata": {},
          "execution_count": 107
        }
      ],
      "source": [
        "df.describe().round(3)"
      ]
    },
    {
      "cell_type": "code",
      "execution_count": 108,
      "metadata": {
        "colab": {
          "base_uri": "https://localhost:8080/"
        },
        "id": "KxL4SXq-riwf",
        "outputId": "2da9e720-d8a5-430b-a838-81f64d73f676"
      },
      "outputs": [
        {
          "output_type": "stream",
          "name": "stdout",
          "text": [
            "\n",
            "\n",
            "positive remarks = 1, negetive remarks = 1, and neutral remarks = 11\n",
            "\n",
            "Relation of neutralremarks with repect to All remarks is 1.0\n",
            "\n",
            "Relation of positive remarks with repect to neutralis 0.091\n",
            "\n",
            "Relation of negetive remarks with repect to neutral is 0.091\n",
            "\n",
            "\n"
          ]
        }
      ],
      "source": [
        "print(f\"\\n\\npositive remarks = {rcp}, negetive remarks = {rcn}, and neutral remarks = {rcf}\\n\\nRelation of neutral\\\n",
        "remarks with repect to All remarks is {round((rcf/rcall),3)}\\n\\nRelation of positive remarks with repect to neutral\\\n",
        "is {round((rcp/rcf),3)}\\n\\nRelation of negetive remarks with repect to neutral is {round((rcn/rcf),3)}\\n\\n\")"
      ]
    },
    {
      "cell_type": "markdown",
      "metadata": {
        "id": "XBmZRA6Vriwf"
      },
      "source": [
        "**Results of wikipedia analysis:**"
      ]
    },
    {
      "cell_type": "code",
      "execution_count": 109,
      "metadata": {
        "colab": {
          "base_uri": "https://localhost:8080/",
          "height": 300
        },
        "id": "2W-8ku3Vriwf",
        "outputId": "f8ffd480-22ff-4f88-c974-81adb27b88e9"
      },
      "outputs": [
        {
          "output_type": "execute_result",
          "data": {
            "text/plain": [
              "       polarity  subjectivity\n",
              "count  3245.000      3245.000\n",
              "mean      0.003         0.064\n",
              "std       0.135         0.212\n",
              "min      -1.000         0.000\n",
              "25%       0.000         0.000\n",
              "50%       0.000         0.000\n",
              "75%       0.000         0.000\n",
              "max       1.000         1.000"
            ],
            "text/html": [
              "\n",
              "  <div id=\"df-5cb26279-24da-40f6-83b0-83469667d881\">\n",
              "    <div class=\"colab-df-container\">\n",
              "      <div>\n",
              "<style scoped>\n",
              "    .dataframe tbody tr th:only-of-type {\n",
              "        vertical-align: middle;\n",
              "    }\n",
              "\n",
              "    .dataframe tbody tr th {\n",
              "        vertical-align: top;\n",
              "    }\n",
              "\n",
              "    .dataframe thead th {\n",
              "        text-align: right;\n",
              "    }\n",
              "</style>\n",
              "<table border=\"1\" class=\"dataframe\">\n",
              "  <thead>\n",
              "    <tr style=\"text-align: right;\">\n",
              "      <th></th>\n",
              "      <th>polarity</th>\n",
              "      <th>subjectivity</th>\n",
              "    </tr>\n",
              "  </thead>\n",
              "  <tbody>\n",
              "    <tr>\n",
              "      <th>count</th>\n",
              "      <td>3245.000</td>\n",
              "      <td>3245.000</td>\n",
              "    </tr>\n",
              "    <tr>\n",
              "      <th>mean</th>\n",
              "      <td>0.003</td>\n",
              "      <td>0.064</td>\n",
              "    </tr>\n",
              "    <tr>\n",
              "      <th>std</th>\n",
              "      <td>0.135</td>\n",
              "      <td>0.212</td>\n",
              "    </tr>\n",
              "    <tr>\n",
              "      <th>min</th>\n",
              "      <td>-1.000</td>\n",
              "      <td>0.000</td>\n",
              "    </tr>\n",
              "    <tr>\n",
              "      <th>25%</th>\n",
              "      <td>0.000</td>\n",
              "      <td>0.000</td>\n",
              "    </tr>\n",
              "    <tr>\n",
              "      <th>50%</th>\n",
              "      <td>0.000</td>\n",
              "      <td>0.000</td>\n",
              "    </tr>\n",
              "    <tr>\n",
              "      <th>75%</th>\n",
              "      <td>0.000</td>\n",
              "      <td>0.000</td>\n",
              "    </tr>\n",
              "    <tr>\n",
              "      <th>max</th>\n",
              "      <td>1.000</td>\n",
              "      <td>1.000</td>\n",
              "    </tr>\n",
              "  </tbody>\n",
              "</table>\n",
              "</div>\n",
              "      <button class=\"colab-df-convert\" onclick=\"convertToInteractive('df-5cb26279-24da-40f6-83b0-83469667d881')\"\n",
              "              title=\"Convert this dataframe to an interactive table.\"\n",
              "              style=\"display:none;\">\n",
              "        \n",
              "  <svg xmlns=\"http://www.w3.org/2000/svg\" height=\"24px\"viewBox=\"0 0 24 24\"\n",
              "       width=\"24px\">\n",
              "    <path d=\"M0 0h24v24H0V0z\" fill=\"none\"/>\n",
              "    <path d=\"M18.56 5.44l.94 2.06.94-2.06 2.06-.94-2.06-.94-.94-2.06-.94 2.06-2.06.94zm-11 1L8.5 8.5l.94-2.06 2.06-.94-2.06-.94L8.5 2.5l-.94 2.06-2.06.94zm10 10l.94 2.06.94-2.06 2.06-.94-2.06-.94-.94-2.06-.94 2.06-2.06.94z\"/><path d=\"M17.41 7.96l-1.37-1.37c-.4-.4-.92-.59-1.43-.59-.52 0-1.04.2-1.43.59L10.3 9.45l-7.72 7.72c-.78.78-.78 2.05 0 2.83L4 21.41c.39.39.9.59 1.41.59.51 0 1.02-.2 1.41-.59l7.78-7.78 2.81-2.81c.8-.78.8-2.07 0-2.86zM5.41 20L4 18.59l7.72-7.72 1.47 1.35L5.41 20z\"/>\n",
              "  </svg>\n",
              "      </button>\n",
              "      \n",
              "  <style>\n",
              "    .colab-df-container {\n",
              "      display:flex;\n",
              "      flex-wrap:wrap;\n",
              "      gap: 12px;\n",
              "    }\n",
              "\n",
              "    .colab-df-convert {\n",
              "      background-color: #E8F0FE;\n",
              "      border: none;\n",
              "      border-radius: 50%;\n",
              "      cursor: pointer;\n",
              "      display: none;\n",
              "      fill: #1967D2;\n",
              "      height: 32px;\n",
              "      padding: 0 0 0 0;\n",
              "      width: 32px;\n",
              "    }\n",
              "\n",
              "    .colab-df-convert:hover {\n",
              "      background-color: #E2EBFA;\n",
              "      box-shadow: 0px 1px 2px rgba(60, 64, 67, 0.3), 0px 1px 3px 1px rgba(60, 64, 67, 0.15);\n",
              "      fill: #174EA6;\n",
              "    }\n",
              "\n",
              "    [theme=dark] .colab-df-convert {\n",
              "      background-color: #3B4455;\n",
              "      fill: #D2E3FC;\n",
              "    }\n",
              "\n",
              "    [theme=dark] .colab-df-convert:hover {\n",
              "      background-color: #434B5C;\n",
              "      box-shadow: 0px 1px 3px 1px rgba(0, 0, 0, 0.15);\n",
              "      filter: drop-shadow(0px 1px 2px rgba(0, 0, 0, 0.3));\n",
              "      fill: #FFFFFF;\n",
              "    }\n",
              "  </style>\n",
              "\n",
              "      <script>\n",
              "        const buttonEl =\n",
              "          document.querySelector('#df-5cb26279-24da-40f6-83b0-83469667d881 button.colab-df-convert');\n",
              "        buttonEl.style.display =\n",
              "          google.colab.kernel.accessAllowed ? 'block' : 'none';\n",
              "\n",
              "        async function convertToInteractive(key) {\n",
              "          const element = document.querySelector('#df-5cb26279-24da-40f6-83b0-83469667d881');\n",
              "          const dataTable =\n",
              "            await google.colab.kernel.invokeFunction('convertToInteractive',\n",
              "                                                     [key], {});\n",
              "          if (!dataTable) return;\n",
              "\n",
              "          const docLinkHtml = 'Like what you see? Visit the ' +\n",
              "            '<a target=\"_blank\" href=https://colab.research.google.com/notebooks/data_table.ipynb>data table notebook</a>'\n",
              "            + ' to learn more about interactive tables.';\n",
              "          element.innerHTML = '';\n",
              "          dataTable['output_type'] = 'display_data';\n",
              "          await google.colab.output.renderOutput(dataTable, element);\n",
              "          const docLink = document.createElement('div');\n",
              "          docLink.innerHTML = docLinkHtml;\n",
              "          element.appendChild(docLink);\n",
              "        }\n",
              "      </script>\n",
              "    </div>\n",
              "  </div>\n",
              "  "
            ]
          },
          "metadata": {},
          "execution_count": 109
        }
      ],
      "source": [
        "df.describe().round(3)"
      ]
    },
    {
      "cell_type": "code",
      "execution_count": 110,
      "metadata": {
        "colab": {
          "base_uri": "https://localhost:8080/"
        },
        "id": "PfSyalgariwf",
        "outputId": "d66d6c8e-07f7-4df1-c830-05a4ea53b43c"
      },
      "outputs": [
        {
          "output_type": "stream",
          "name": "stdout",
          "text": [
            "\n",
            "\n",
            "positive remarks = 348, negative remarks = 120, and neutral remarks = 2978\n",
            "\n",
            "Relation of neutral remarks with repect to All remarks is 0.917\n",
            "\n",
            "Relation of positive remarks with repect to neutral is 0.117\n",
            "\n",
            "Relation of negative remarks with repect to neutral is 0.04\n",
            "\n",
            "\n"
          ]
        }
      ],
      "source": [
        "print(f\"\\n\\npositive remarks = {rcp2}, negative remarks = {rcn2}, and neutral remarks = {rcf2}\\n\\nRelation of neutral \\\n",
        "remarks with repect to All remarks is {round((rcf2/rcall2),3)}\\n\\nRelation of positive remarks with repect to neutral \\\n",
        "is {round((rcp2/rcf2),3)}\\n\\nRelation of negative remarks with repect to neutral is {round((rcn2/rcf2),3)}\\n\\n\")\n"
      ]
    },
    {
      "cell_type": "markdown",
      "metadata": {
        "id": "y4VDTKz4riwg"
      },
      "source": [
        "    Here we can observe that the weightage of neutral comments with respect to all remarks have slightly increased. Wikipedia being another community site where anyone can post any article, hence justifies its more neutral remarks.\n",
        "    \n",
        "    As the portion of neutral remarks is more and the total number of words or remarks being less, it in turn decreases the weightage of positive and negative comments for wikipedia.\n",
        "    \n",
        "    Moreover the mean of subjectivity of wikipedia result is more inclined towards 0 than that of older(oneplus) data. This shows that the remarks are more factual which further justifies the presence of more neutral comments.\n"
      ]
    },
    {
      "cell_type": "code",
      "execution_count": 110,
      "metadata": {
        "id": "KBZDiDHHriwg"
      },
      "outputs": [],
      "source": []
    }
  ],
  "metadata": {
    "kernelspec": {
      "display_name": "Python 3",
      "language": "python",
      "name": "python3"
    },
    "language_info": {
      "codemirror_mode": {
        "name": "ipython",
        "version": 3
      },
      "file_extension": ".py",
      "mimetype": "text/x-python",
      "name": "python",
      "nbconvert_exporter": "python",
      "pygments_lexer": "ipython3",
      "version": "3.7.1"
    },
    "colab": {
      "provenance": [],
      "collapsed_sections": [],
      "include_colab_link": true
    }
  },
  "nbformat": 4,
  "nbformat_minor": 0
}